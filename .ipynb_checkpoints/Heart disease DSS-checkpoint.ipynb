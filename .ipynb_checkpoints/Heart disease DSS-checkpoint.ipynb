{
 "cells": [
  {
   "cell_type": "code",
   "execution_count": 24,
   "id": "b7a37d66",
   "metadata": {},
   "outputs": [],
   "source": [
    "import tkinter as tk\n",
    "from tkinter import filedialog\n",
    "from datetime import datetime, timedelta\n",
    "import os\n",
    "from PIL import Image, ImageTk\n",
    "import numpy as np\n",
    "import random\n",
    "import math\n",
    "import re\n",
    "import os\n",
    "import xlsxwriter\n",
    "\n",
    "import seaborn as sns\n",
    "import pandas as pd\n",
    "import sklearn\n",
    "import matplotlib.pyplot as plt\n",
    "%matplotlib inline"
   ]
  },
  {
   "cell_type": "code",
   "execution_count": 40,
   "id": "1c4c02f0",
   "metadata": {},
   "outputs": [],
   "source": [
    "# def getType():\n",
    "\n",
    "# #     global max_days\n",
    "\n",
    "# #     if MaxDays.get() == \"\":\n",
    "# #         max_days = \"3,10\"\n",
    "# #     else:\n",
    "# #         max_days = MaxDays.get()\n",
    "\n",
    "def get_material():\n",
    "    global df\n",
    "\n",
    "    print('Decision Support System(DSS) :-)')\n",
    "    import_file_path = filedialog.askopenfilename()\n",
    "    print('Importing...')\n",
    "    print('Please Wait :)')\n",
    "    missing_values = [\"n/a\", \"na\", \"--\", \"nan\", \".\", \"-\", \"- \", \"_\"]\n",
    "    df = pd.read_excel(import_file_path, na_values=missing_values)\n",
    "    print('Decision Support System(DSS)')\n",
    "    print('Files have been Imported\\nClick Run and close the window!')\n",
    "\n"
   ]
  },
  {
   "cell_type": "code",
   "execution_count": 41,
   "id": "a7f67a45",
   "metadata": {},
   "outputs": [
    {
     "name": "stdout",
     "output_type": "stream",
     "text": [
      "Please Import Excel Files\n",
      "Decision Support System(DSS) :-)\n",
      "Importing...\n",
      "Please Wait :)\n",
      "Decision Support System(DSS)\n",
      "Files have been Imported\n",
      "Click Run and close the window!\n"
     ]
    }
   ],
   "source": [
    "print('Please Import Excel Files')\n",
    "\n",
    "root = tk.Tk()\n",
    "root.geometry('550x450')\n",
    "root.title(\"Decision Support System(DSS)\")\n",
    "\n",
    "label_0 = tk.Label(root, text=\"Heart Disease Recognition\", relief=\"solid\", width=30, font=(\"arial\", 19, \"bold\"))\n",
    "label_0.place(x=300, y=105, anchor=\"center\")\n",
    "\n",
    "# MaxDays = tk.StringVar()\n",
    "# LMaxDays = tk.Label(root, text=\"Max Days: \", width=10, font=(\"bold\", 10))\n",
    "# LMaxDays.place(x=175, y=270, anchor=\"center\")\n",
    "# EMaxDays = tk.Entry(root, textvar=MaxDays, width=5)\n",
    "# EMaxDays.place(x=235, y=270, anchor=\"center\")\n",
    "\n",
    "# max_days = None\n",
    "df = None\n",
    "# df_scheme= None\n",
    "# df_ride= None\n",
    "\n",
    "Get_List = tk.Button(root, text='Heart Disease Data', width=20, bg='brown', fg='white',\n",
    "                     command=get_material).place(x=300, y=250, anchor=\"center\")\n",
    "\n",
    "Get_Max = tk.Button(root, text='Run', width=15, bg='green', fg='white').place(x=300, y=350, anchor=\"center\")\n",
    "\n",
    "root.mainloop()\n",
    "\n",
    "# del Get_List\n",
    "# del Get_Ride\n",
    "# del Get_Max\n",
    "# del Get_DailyFraud\n",
    "# del Get_HistFraud"
   ]
  },
  {
   "cell_type": "code",
   "execution_count": 43,
   "id": "8fe89e94",
   "metadata": {},
   "outputs": [],
   "source": [
    "Get_List"
   ]
  },
  {
   "cell_type": "code",
   "execution_count": null,
   "id": "71cab8a1",
   "metadata": {},
   "outputs": [],
   "source": []
  }
 ],
 "metadata": {
  "kernelspec": {
   "display_name": "Python 3 (ipykernel)",
   "language": "python",
   "name": "python3"
  },
  "language_info": {
   "codemirror_mode": {
    "name": "ipython",
    "version": 3
   },
   "file_extension": ".py",
   "mimetype": "text/x-python",
   "name": "python",
   "nbconvert_exporter": "python",
   "pygments_lexer": "ipython3",
   "version": "3.8.10"
  }
 },
 "nbformat": 4,
 "nbformat_minor": 5
}
