{
 "cells": [
  {
   "cell_type": "code",
   "execution_count": 24,
   "id": "df34e013",
   "metadata": {},
   "outputs": [],
   "source": [
    "import tkinter as tk\n",
    "from tkinter import filedialog\n",
    "from datetime import datetime, timedelta\n",
    "import os\n",
    "from PIL import Image, ImageTk\n",
    "import numpy as np\n",
    "import random\n",
    "import math\n",
    "import re\n",
    "import os\n",
    "import xlsxwriter\n",
    "\n",
    "import seaborn as sns\n",
    "import pandas as pd\n",
    "import sklearn\n",
    "import matplotlib.pyplot as plt\n",
    "%matplotlib inline"
   ]
  },
  {
   "cell_type": "code",
   "execution_count": 44,
   "id": "011344b8",
   "metadata": {},
   "outputs": [],
   "source": [
    "# def getType():\n",
    "\n",
    "# #     global max_days\n",
    "\n",
    "# #     if MaxDays.get() == \"\":\n",
    "# #         max_days = \"3,10\"\n",
    "# #     else:\n",
    "# #         max_days = MaxDays.get()\n",
    "\n",
    "def get_material():\n",
    "    global df\n",
    "\n",
    "    print('Decision Support System(DSS) :-)')\n",
    "    import_file_path = filedialog.askopenfilename()\n",
    "    print('Importing...')\n",
    "    print('Please Wait :)')\n",
    "    missing_values = [\"n/a\", \"na\", \"--\", \"nan\", \".\", \"-\", \"- \", \"_\"]\n",
    "    df = pd.read_excel(import_file_path, na_values=missing_values)\n",
    "    print('Decision Support System(DSS)')\n",
    "    print('Files have been Imported\\nClick Run and close the window!')\n",
    "\n"
   ]
  },
  {
   "cell_type": "code",
   "execution_count": 45,
   "id": "ad3b7c31",
   "metadata": {},
   "outputs": [
    {
     "name": "stdout",
     "output_type": "stream",
     "text": [
      "Please Import Excel Files\n",
      "Decision Support System(DSS) :-)\n",
      "Importing...\n",
      "Please Wait :)\n",
      "Decision Support System(DSS)\n",
      "Files have been Imported\n",
      "Click Run and close the window!\n"
     ]
    }
   ],
   "source": [
    "print('Please Import Excel Files')\n",
    "\n",
    "root = tk.Tk()\n",
    "root.geometry('550x450')\n",
    "root.title(\"Decision Support System(DSS)\")\n",
    "\n",
    "label_0 = tk.Label(root, text=\"Heart Disease Recognition\", relief=\"solid\", width=30, font=(\"arial\", 19, \"bold\"))\n",
    "label_0.place(x=300, y=105, anchor=\"center\")\n",
    "\n",
    "# MaxDays = tk.StringVar()\n",
    "# LMaxDays = tk.Label(root, text=\"Max Days: \", width=10, font=(\"bold\", 10))\n",
    "# LMaxDays.place(x=175, y=270, anchor=\"center\")\n",
    "# EMaxDays = tk.Entry(root, textvar=MaxDays, width=5)\n",
    "# EMaxDays.place(x=235, y=270, anchor=\"center\")\n",
    "\n",
    "# max_days = None\n",
    "df = None\n",
    "# df_scheme= None\n",
    "# df_ride= None\n",
    "\n",
    "Get_List = tk.Button(root, text='Heart Disease Data', width=20, bg='brown', fg='white',\n",
    "                     command=get_material).place(x=300, y=250, anchor=\"center\")\n",
    "\n",
    "Get_Max = tk.Button(root, text='Run', width=15, bg='green', fg='white').place(x=300, y=350, anchor=\"center\")\n",
    "\n",
    "root.mainloop()\n",
    "\n",
    "# del Get_List\n",
    "# del Get_Ride\n",
    "# del Get_Max\n",
    "# del Get_DailyFraud\n",
    "# del Get_HistFraud"
   ]
  },
  {
   "cell_type": "code",
   "execution_count": 47,
   "id": "15c1cb37",
   "metadata": {},
   "outputs": [
    {
     "ename": "NameError",
     "evalue": "name 'data1' is not defined",
     "output_type": "error",
     "traceback": [
      "\u001b[0;31m---------------------------------------------------------------------------\u001b[0m",
      "\u001b[0;31mNameError\u001b[0m                                 Traceback (most recent call last)",
      "\u001b[0;32m/tmp/ipykernel_25655/1825688569.py\u001b[0m in \u001b[0;36m<module>\u001b[0;34m\u001b[0m\n\u001b[0;32m----> 1\u001b[0;31m \u001b[0mclass1\u001b[0m\u001b[0;34m=\u001b[0m\u001b[0mdata1\u001b[0m\u001b[0;34m[\u001b[0m\u001b[0mdata1\u001b[0m\u001b[0;34m[\u001b[0m\u001b[0;34m'Target'\u001b[0m\u001b[0;34m]\u001b[0m\u001b[0;34m==\u001b[0m\u001b[0;36m1\u001b[0m\u001b[0;34m]\u001b[0m\u001b[0;34m\u001b[0m\u001b[0;34m\u001b[0m\u001b[0m\n\u001b[0m\u001b[1;32m      2\u001b[0m \u001b[0mclass2\u001b[0m\u001b[0;34m=\u001b[0m\u001b[0mdata1\u001b[0m\u001b[0;34m[\u001b[0m\u001b[0mdata1\u001b[0m\u001b[0;34m[\u001b[0m\u001b[0;34m'Target'\u001b[0m\u001b[0;34m]\u001b[0m\u001b[0;34m==\u001b[0m\u001b[0;36m2\u001b[0m\u001b[0;34m]\u001b[0m\u001b[0;34m\u001b[0m\u001b[0;34m\u001b[0m\u001b[0m\n\u001b[1;32m      3\u001b[0m \u001b[0mclass3\u001b[0m\u001b[0;34m=\u001b[0m\u001b[0mdata1\u001b[0m\u001b[0;34m[\u001b[0m\u001b[0mdata1\u001b[0m\u001b[0;34m[\u001b[0m\u001b[0;34m'Target'\u001b[0m\u001b[0;34m]\u001b[0m\u001b[0;34m==\u001b[0m\u001b[0;36m3\u001b[0m\u001b[0;34m]\u001b[0m\u001b[0;34m\u001b[0m\u001b[0;34m\u001b[0m\u001b[0m\n\u001b[1;32m      4\u001b[0m \u001b[0mclass4\u001b[0m\u001b[0;34m=\u001b[0m\u001b[0mdata1\u001b[0m\u001b[0;34m[\u001b[0m\u001b[0mdata1\u001b[0m\u001b[0;34m[\u001b[0m\u001b[0;34m'Target'\u001b[0m\u001b[0;34m]\u001b[0m\u001b[0;34m==\u001b[0m\u001b[0;36m4\u001b[0m\u001b[0;34m]\u001b[0m\u001b[0;34m\u001b[0m\u001b[0;34m\u001b[0m\u001b[0m\n\u001b[1;32m      5\u001b[0m \u001b[0mclass5\u001b[0m\u001b[0;34m=\u001b[0m\u001b[0mdata1\u001b[0m\u001b[0;34m[\u001b[0m\u001b[0mdata1\u001b[0m\u001b[0;34m[\u001b[0m\u001b[0;34m'Target'\u001b[0m\u001b[0;34m]\u001b[0m\u001b[0;34m==\u001b[0m\u001b[0;36m5\u001b[0m\u001b[0;34m]\u001b[0m\u001b[0;34m\u001b[0m\u001b[0;34m\u001b[0m\u001b[0m\n",
      "\u001b[0;31mNameError\u001b[0m: name 'data1' is not defined"
     ]
    }
   ],
   "source": [
    "class1=data1[data1['Target']==1]\n",
    "class2=data1[data1['Target']==2]\n",
    "class3=data1[data1['Target']==3]\n",
    "class4=data1[data1['Target']==4]\n",
    "class5=data1[data1['Target']==5]"
   ]
  },
  {
   "cell_type": "code",
   "execution_count": null,
   "id": "5b2d3a07",
   "metadata": {},
   "outputs": [],
   "source": []
  }
 ],
 "metadata": {
  "kernelspec": {
   "display_name": "Python 3 (ipykernel)",
   "language": "python",
   "name": "python3"
  },
  "language_info": {
   "codemirror_mode": {
    "name": "ipython",
    "version": 3
   },
   "file_extension": ".py",
   "mimetype": "text/x-python",
   "name": "python",
   "nbconvert_exporter": "python",
   "pygments_lexer": "ipython3",
   "version": "3.8.10"
  }
 },
 "nbformat": 4,
 "nbformat_minor": 5
}
