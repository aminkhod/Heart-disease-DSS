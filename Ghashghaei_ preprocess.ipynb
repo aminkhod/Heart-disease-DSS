{
 "cells": [
  {
   "cell_type": "code",
   "execution_count": 2,
   "metadata": {
    "id": "PcfB0OOKCHqu"
   },
   "outputs": [],
   "source": [
    "import numpy as np\n",
    "import pandas as pd\n",
    "import matplotlib.pyplot as plt\n",
    "import seaborn as sns\n",
    "from sklearn.pipeline import Pipeline, make_pipeline\n",
    "from sklearn.decomposition import PCA, KernelPCA\n",
    "from sklearn.impute import SimpleImputer\n",
    "from sklearn.model_selection import cross_val_score, GridSearchCV, KFold\n",
    "from sklearn.ensemble import RandomForestClassifier, RandomForestRegressor"
   ]
  },
  {
   "cell_type": "code",
   "execution_count": 3,
   "metadata": {
    "colab": {
     "base_uri": "https://localhost:8080/",
     "height": 275
    },
    "id": "6Osvng2jCvqZ",
    "outputId": "920ba834-f382-4aee-95bd-c974b3be63ad"
   },
   "outputs": [
    {
     "data": {
      "text/html": [
       "<div>\n",
       "<style scoped>\n",
       "    .dataframe tbody tr th:only-of-type {\n",
       "        vertical-align: middle;\n",
       "    }\n",
       "\n",
       "    .dataframe tbody tr th {\n",
       "        vertical-align: top;\n",
       "    }\n",
       "\n",
       "    .dataframe thead th {\n",
       "        text-align: right;\n",
       "    }\n",
       "</style>\n",
       "<table border=\"1\" class=\"dataframe\">\n",
       "  <thead>\n",
       "    <tr style=\"text-align: right;\">\n",
       "      <th></th>\n",
       "      <th>Unnamed: 0</th>\n",
       "      <th>جنس</th>\n",
       "      <th>سن</th>\n",
       "      <th>FBS</th>\n",
       "      <th>CHOL</th>\n",
       "      <th>TG</th>\n",
       "      <th>HDL</th>\n",
       "      <th>LDL</th>\n",
       "      <th>CPK</th>\n",
       "      <th>CPKMB</th>\n",
       "      <th>...</th>\n",
       "      <th>نبض</th>\n",
       "      <th>دیابت</th>\n",
       "      <th>سیگار</th>\n",
       "      <th>درد قفسه سینه</th>\n",
       "      <th>سابقه تنگی نفس</th>\n",
       "      <th>سابقه بیماری قلبی</th>\n",
       "      <th>سابقه فامیلی بیماری قلبی</th>\n",
       "      <th>سابقه فشار خون</th>\n",
       "      <th>تعداد روزهای بستری</th>\n",
       "      <th>C</th>\n",
       "    </tr>\n",
       "  </thead>\n",
       "  <tbody>\n",
       "    <tr>\n",
       "      <th>0</th>\n",
       "      <td>1</td>\n",
       "      <td>زن</td>\n",
       "      <td>58</td>\n",
       "      <td>110.0</td>\n",
       "      <td>173.0</td>\n",
       "      <td>75.0</td>\n",
       "      <td>67.0</td>\n",
       "      <td>91.0</td>\n",
       "      <td>120.0</td>\n",
       "      <td>19.0</td>\n",
       "      <td>...</td>\n",
       "      <td>78.0</td>\n",
       "      <td>0.0</td>\n",
       "      <td>0.0</td>\n",
       "      <td>0.0</td>\n",
       "      <td>0</td>\n",
       "      <td>0</td>\n",
       "      <td>1</td>\n",
       "      <td>0</td>\n",
       "      <td>1</td>\n",
       "      <td>4</td>\n",
       "    </tr>\n",
       "    <tr>\n",
       "      <th>1</th>\n",
       "      <td>2</td>\n",
       "      <td>زن</td>\n",
       "      <td>65</td>\n",
       "      <td>100.0</td>\n",
       "      <td>200.0</td>\n",
       "      <td>199.0</td>\n",
       "      <td>41.0</td>\n",
       "      <td>119.2</td>\n",
       "      <td>181.0</td>\n",
       "      <td>20.0</td>\n",
       "      <td>...</td>\n",
       "      <td>88.0</td>\n",
       "      <td>1.0</td>\n",
       "      <td>0.0</td>\n",
       "      <td>0.0</td>\n",
       "      <td>0</td>\n",
       "      <td>0</td>\n",
       "      <td>1</td>\n",
       "      <td>0</td>\n",
       "      <td>6</td>\n",
       "      <td>3</td>\n",
       "    </tr>\n",
       "    <tr>\n",
       "      <th>2</th>\n",
       "      <td>3</td>\n",
       "      <td>مرد</td>\n",
       "      <td>77</td>\n",
       "      <td>70.0</td>\n",
       "      <td>130.0</td>\n",
       "      <td>104.0</td>\n",
       "      <td>60.0</td>\n",
       "      <td>NaN</td>\n",
       "      <td>59.0</td>\n",
       "      <td>15.0</td>\n",
       "      <td>...</td>\n",
       "      <td>69.0</td>\n",
       "      <td>0.0</td>\n",
       "      <td>0.0</td>\n",
       "      <td>0.0</td>\n",
       "      <td>0</td>\n",
       "      <td>1</td>\n",
       "      <td>1</td>\n",
       "      <td>0</td>\n",
       "      <td>10</td>\n",
       "      <td>4</td>\n",
       "    </tr>\n",
       "    <tr>\n",
       "      <th>3</th>\n",
       "      <td>4</td>\n",
       "      <td>زن</td>\n",
       "      <td>75</td>\n",
       "      <td>108.0</td>\n",
       "      <td>NaN</td>\n",
       "      <td>NaN</td>\n",
       "      <td>NaN</td>\n",
       "      <td>NaN</td>\n",
       "      <td>160.0</td>\n",
       "      <td>19.0</td>\n",
       "      <td>...</td>\n",
       "      <td>70.0</td>\n",
       "      <td>0.0</td>\n",
       "      <td>1.0</td>\n",
       "      <td>0.0</td>\n",
       "      <td>0</td>\n",
       "      <td>1</td>\n",
       "      <td>0</td>\n",
       "      <td>0</td>\n",
       "      <td>4</td>\n",
       "      <td>2</td>\n",
       "    </tr>\n",
       "    <tr>\n",
       "      <th>4</th>\n",
       "      <td>5</td>\n",
       "      <td>زن</td>\n",
       "      <td>80</td>\n",
       "      <td>85.0</td>\n",
       "      <td>120.0</td>\n",
       "      <td>72.0</td>\n",
       "      <td>42.0</td>\n",
       "      <td>63.6</td>\n",
       "      <td>160.0</td>\n",
       "      <td>17.0</td>\n",
       "      <td>...</td>\n",
       "      <td>150.0</td>\n",
       "      <td>0.0</td>\n",
       "      <td>1.0</td>\n",
       "      <td>0.0</td>\n",
       "      <td>0</td>\n",
       "      <td>0</td>\n",
       "      <td>0</td>\n",
       "      <td>0</td>\n",
       "      <td>5</td>\n",
       "      <td>2</td>\n",
       "    </tr>\n",
       "  </tbody>\n",
       "</table>\n",
       "<p>5 rows × 26 columns</p>\n",
       "</div>"
      ],
      "text/plain": [
       "   Unnamed: 0  جنس  سن    FBS   CHOL     TG   HDL    LDL    CPK  CPKMB  ...  \\\n",
       "0           1   زن  58  110.0  173.0   75.0  67.0   91.0  120.0   19.0  ...   \n",
       "1           2   زن  65  100.0  200.0  199.0  41.0  119.2  181.0   20.0  ...   \n",
       "2           3  مرد  77   70.0  130.0  104.0  60.0    NaN   59.0   15.0  ...   \n",
       "3           4   زن  75  108.0    NaN    NaN   NaN    NaN  160.0   19.0  ...   \n",
       "4           5   زن  80   85.0  120.0   72.0  42.0   63.6  160.0   17.0  ...   \n",
       "\n",
       "     نبض  دیابت  سیگار  درد قفسه سینه  سابقه تنگی نفس  سابقه بیماری قلبی  \\\n",
       "0   78.0    0.0    0.0            0.0               0                  0   \n",
       "1   88.0    1.0    0.0            0.0               0                  0   \n",
       "2   69.0    0.0    0.0            0.0               0                  1   \n",
       "3   70.0    0.0    1.0            0.0               0                  1   \n",
       "4  150.0    0.0    1.0            0.0               0                  0   \n",
       "\n",
       "   سابقه فامیلی بیماری قلبی  سابقه فشار خون  تعداد روزهای بستری  C  \n",
       "0                         1               0                   1  4  \n",
       "1                         1               0                   6  3  \n",
       "2                         1               0                  10  4  \n",
       "3                         0               0                   4  2  \n",
       "4                         0               0                   5  2  \n",
       "\n",
       "[5 rows x 26 columns]"
      ]
     },
     "execution_count": 3,
     "metadata": {},
     "output_type": "execute_result"
    }
   ],
   "source": [
    "df=pd.read_excel('Actual Data (230).xlsx', engine='openpyxl')\n",
    "df.head()"
   ]
  },
  {
   "cell_type": "code",
   "execution_count": 4,
   "metadata": {
    "colab": {
     "base_uri": "https://localhost:8080/"
    },
    "id": "lNjmb5p4C3S7",
    "outputId": "4bbbff09-8223-42dc-ed44-5b02e2f04f5e"
   },
   "outputs": [
    {
     "data": {
      "text/plain": [
       "(230, 26)"
      ]
     },
     "execution_count": 4,
     "metadata": {},
     "output_type": "execute_result"
    }
   ],
   "source": [
    "df.shape"
   ]
  },
  {
   "cell_type": "code",
   "execution_count": 5,
   "metadata": {
    "id": "LHdO9QppC9hg"
   },
   "outputs": [],
   "source": [
    "df=df.drop('Unnamed: 0', axis=1)"
   ]
  },
  {
   "cell_type": "code",
   "execution_count": 6,
   "metadata": {
    "colab": {
     "base_uri": "https://localhost:8080/",
     "height": 275
    },
    "id": "xxXgzBfNDDg3",
    "outputId": "023971d5-33b9-4422-cc5e-4adb8f976e80"
   },
   "outputs": [
    {
     "data": {
      "text/html": [
       "<div>\n",
       "<style scoped>\n",
       "    .dataframe tbody tr th:only-of-type {\n",
       "        vertical-align: middle;\n",
       "    }\n",
       "\n",
       "    .dataframe tbody tr th {\n",
       "        vertical-align: top;\n",
       "    }\n",
       "\n",
       "    .dataframe thead th {\n",
       "        text-align: right;\n",
       "    }\n",
       "</style>\n",
       "<table border=\"1\" class=\"dataframe\">\n",
       "  <thead>\n",
       "    <tr style=\"text-align: right;\">\n",
       "      <th></th>\n",
       "      <th>جنس</th>\n",
       "      <th>سن</th>\n",
       "      <th>FBS</th>\n",
       "      <th>CHOL</th>\n",
       "      <th>TG</th>\n",
       "      <th>HDL</th>\n",
       "      <th>LDL</th>\n",
       "      <th>CPK</th>\n",
       "      <th>CPKMB</th>\n",
       "      <th>Hb</th>\n",
       "      <th>...</th>\n",
       "      <th>نبض</th>\n",
       "      <th>دیابت</th>\n",
       "      <th>سیگار</th>\n",
       "      <th>درد قفسه سینه</th>\n",
       "      <th>سابقه تنگی نفس</th>\n",
       "      <th>سابقه بیماری قلبی</th>\n",
       "      <th>سابقه فامیلی بیماری قلبی</th>\n",
       "      <th>سابقه فشار خون</th>\n",
       "      <th>تعداد روزهای بستری</th>\n",
       "      <th>C</th>\n",
       "    </tr>\n",
       "  </thead>\n",
       "  <tbody>\n",
       "    <tr>\n",
       "      <th>0</th>\n",
       "      <td>زن</td>\n",
       "      <td>58</td>\n",
       "      <td>110.0</td>\n",
       "      <td>173.0</td>\n",
       "      <td>75.0</td>\n",
       "      <td>67.0</td>\n",
       "      <td>91.0</td>\n",
       "      <td>120.0</td>\n",
       "      <td>19.0</td>\n",
       "      <td>13.5</td>\n",
       "      <td>...</td>\n",
       "      <td>78.0</td>\n",
       "      <td>0.0</td>\n",
       "      <td>0.0</td>\n",
       "      <td>0.0</td>\n",
       "      <td>0</td>\n",
       "      <td>0</td>\n",
       "      <td>1</td>\n",
       "      <td>0</td>\n",
       "      <td>1</td>\n",
       "      <td>4</td>\n",
       "    </tr>\n",
       "    <tr>\n",
       "      <th>1</th>\n",
       "      <td>زن</td>\n",
       "      <td>65</td>\n",
       "      <td>100.0</td>\n",
       "      <td>200.0</td>\n",
       "      <td>199.0</td>\n",
       "      <td>41.0</td>\n",
       "      <td>119.2</td>\n",
       "      <td>181.0</td>\n",
       "      <td>20.0</td>\n",
       "      <td>12.2</td>\n",
       "      <td>...</td>\n",
       "      <td>88.0</td>\n",
       "      <td>1.0</td>\n",
       "      <td>0.0</td>\n",
       "      <td>0.0</td>\n",
       "      <td>0</td>\n",
       "      <td>0</td>\n",
       "      <td>1</td>\n",
       "      <td>0</td>\n",
       "      <td>6</td>\n",
       "      <td>3</td>\n",
       "    </tr>\n",
       "    <tr>\n",
       "      <th>2</th>\n",
       "      <td>مرد</td>\n",
       "      <td>77</td>\n",
       "      <td>70.0</td>\n",
       "      <td>130.0</td>\n",
       "      <td>104.0</td>\n",
       "      <td>60.0</td>\n",
       "      <td>NaN</td>\n",
       "      <td>59.0</td>\n",
       "      <td>15.0</td>\n",
       "      <td>14.0</td>\n",
       "      <td>...</td>\n",
       "      <td>69.0</td>\n",
       "      <td>0.0</td>\n",
       "      <td>0.0</td>\n",
       "      <td>0.0</td>\n",
       "      <td>0</td>\n",
       "      <td>1</td>\n",
       "      <td>1</td>\n",
       "      <td>0</td>\n",
       "      <td>10</td>\n",
       "      <td>4</td>\n",
       "    </tr>\n",
       "    <tr>\n",
       "      <th>3</th>\n",
       "      <td>زن</td>\n",
       "      <td>75</td>\n",
       "      <td>108.0</td>\n",
       "      <td>NaN</td>\n",
       "      <td>NaN</td>\n",
       "      <td>NaN</td>\n",
       "      <td>NaN</td>\n",
       "      <td>160.0</td>\n",
       "      <td>19.0</td>\n",
       "      <td>12.2</td>\n",
       "      <td>...</td>\n",
       "      <td>70.0</td>\n",
       "      <td>0.0</td>\n",
       "      <td>1.0</td>\n",
       "      <td>0.0</td>\n",
       "      <td>0</td>\n",
       "      <td>1</td>\n",
       "      <td>0</td>\n",
       "      <td>0</td>\n",
       "      <td>4</td>\n",
       "      <td>2</td>\n",
       "    </tr>\n",
       "    <tr>\n",
       "      <th>4</th>\n",
       "      <td>زن</td>\n",
       "      <td>80</td>\n",
       "      <td>85.0</td>\n",
       "      <td>120.0</td>\n",
       "      <td>72.0</td>\n",
       "      <td>42.0</td>\n",
       "      <td>63.6</td>\n",
       "      <td>160.0</td>\n",
       "      <td>17.0</td>\n",
       "      <td>13.7</td>\n",
       "      <td>...</td>\n",
       "      <td>150.0</td>\n",
       "      <td>0.0</td>\n",
       "      <td>1.0</td>\n",
       "      <td>0.0</td>\n",
       "      <td>0</td>\n",
       "      <td>0</td>\n",
       "      <td>0</td>\n",
       "      <td>0</td>\n",
       "      <td>5</td>\n",
       "      <td>2</td>\n",
       "    </tr>\n",
       "  </tbody>\n",
       "</table>\n",
       "<p>5 rows × 25 columns</p>\n",
       "</div>"
      ],
      "text/plain": [
       "   جنس  سن    FBS   CHOL     TG   HDL    LDL    CPK  CPKMB    Hb  ...    نبض  \\\n",
       "0   زن  58  110.0  173.0   75.0  67.0   91.0  120.0   19.0  13.5  ...   78.0   \n",
       "1   زن  65  100.0  200.0  199.0  41.0  119.2  181.0   20.0  12.2  ...   88.0   \n",
       "2  مرد  77   70.0  130.0  104.0  60.0    NaN   59.0   15.0  14.0  ...   69.0   \n",
       "3   زن  75  108.0    NaN    NaN   NaN    NaN  160.0   19.0  12.2  ...   70.0   \n",
       "4   زن  80   85.0  120.0   72.0  42.0   63.6  160.0   17.0  13.7  ...  150.0   \n",
       "\n",
       "   دیابت  سیگار  درد قفسه سینه  سابقه تنگی نفس  سابقه بیماری قلبی  \\\n",
       "0    0.0    0.0            0.0               0                  0   \n",
       "1    1.0    0.0            0.0               0                  0   \n",
       "2    0.0    0.0            0.0               0                  1   \n",
       "3    0.0    1.0            0.0               0                  1   \n",
       "4    0.0    1.0            0.0               0                  0   \n",
       "\n",
       "   سابقه فامیلی بیماری قلبی  سابقه فشار خون  تعداد روزهای بستری  C  \n",
       "0                         1               0                   1  4  \n",
       "1                         1               0                   6  3  \n",
       "2                         1               0                  10  4  \n",
       "3                         0               0                   4  2  \n",
       "4                         0               0                   5  2  \n",
       "\n",
       "[5 rows x 25 columns]"
      ]
     },
     "execution_count": 6,
     "metadata": {},
     "output_type": "execute_result"
    }
   ],
   "source": [
    "df.head()"
   ]
  },
  {
   "cell_type": "code",
   "execution_count": 7,
   "metadata": {
    "colab": {
     "base_uri": "https://localhost:8080/",
     "height": 292
    },
    "id": "DI6mJsP3DbVv",
    "outputId": "20fff73f-1f74-4792-ce85-423d0a8a1209"
   },
   "outputs": [
    {
     "data": {
      "text/html": [
       "<div>\n",
       "<style scoped>\n",
       "    .dataframe tbody tr th:only-of-type {\n",
       "        vertical-align: middle;\n",
       "    }\n",
       "\n",
       "    .dataframe tbody tr th {\n",
       "        vertical-align: top;\n",
       "    }\n",
       "\n",
       "    .dataframe thead th {\n",
       "        text-align: right;\n",
       "    }\n",
       "</style>\n",
       "<table border=\"1\" class=\"dataframe\">\n",
       "  <thead>\n",
       "    <tr style=\"text-align: right;\">\n",
       "      <th></th>\n",
       "      <th>Sex</th>\n",
       "      <th>Age</th>\n",
       "      <th>FBS</th>\n",
       "      <th>CHOL</th>\n",
       "      <th>TG</th>\n",
       "      <th>HDL</th>\n",
       "      <th>LDL</th>\n",
       "      <th>CPK</th>\n",
       "      <th>CPKMB</th>\n",
       "      <th>Hb</th>\n",
       "      <th>...</th>\n",
       "      <th>Heart rate</th>\n",
       "      <th>Diabetes</th>\n",
       "      <th>Smoke</th>\n",
       "      <th>Chest pain</th>\n",
       "      <th>History of shortness of breath</th>\n",
       "      <th>History of heart disease</th>\n",
       "      <th>Family history of heart disease</th>\n",
       "      <th>History of high blood pressure</th>\n",
       "      <th>Number of hospitalization days</th>\n",
       "      <th>Target</th>\n",
       "    </tr>\n",
       "  </thead>\n",
       "  <tbody>\n",
       "    <tr>\n",
       "      <th>0</th>\n",
       "      <td>زن</td>\n",
       "      <td>58</td>\n",
       "      <td>110.0</td>\n",
       "      <td>173.0</td>\n",
       "      <td>75.0</td>\n",
       "      <td>67.0</td>\n",
       "      <td>91.0</td>\n",
       "      <td>120.0</td>\n",
       "      <td>19.0</td>\n",
       "      <td>13.5</td>\n",
       "      <td>...</td>\n",
       "      <td>78.0</td>\n",
       "      <td>0.0</td>\n",
       "      <td>0.0</td>\n",
       "      <td>0.0</td>\n",
       "      <td>0</td>\n",
       "      <td>0</td>\n",
       "      <td>1</td>\n",
       "      <td>0</td>\n",
       "      <td>1</td>\n",
       "      <td>4</td>\n",
       "    </tr>\n",
       "    <tr>\n",
       "      <th>1</th>\n",
       "      <td>زن</td>\n",
       "      <td>65</td>\n",
       "      <td>100.0</td>\n",
       "      <td>200.0</td>\n",
       "      <td>199.0</td>\n",
       "      <td>41.0</td>\n",
       "      <td>119.2</td>\n",
       "      <td>181.0</td>\n",
       "      <td>20.0</td>\n",
       "      <td>12.2</td>\n",
       "      <td>...</td>\n",
       "      <td>88.0</td>\n",
       "      <td>1.0</td>\n",
       "      <td>0.0</td>\n",
       "      <td>0.0</td>\n",
       "      <td>0</td>\n",
       "      <td>0</td>\n",
       "      <td>1</td>\n",
       "      <td>0</td>\n",
       "      <td>6</td>\n",
       "      <td>3</td>\n",
       "    </tr>\n",
       "    <tr>\n",
       "      <th>2</th>\n",
       "      <td>مرد</td>\n",
       "      <td>77</td>\n",
       "      <td>70.0</td>\n",
       "      <td>130.0</td>\n",
       "      <td>104.0</td>\n",
       "      <td>60.0</td>\n",
       "      <td>NaN</td>\n",
       "      <td>59.0</td>\n",
       "      <td>15.0</td>\n",
       "      <td>14.0</td>\n",
       "      <td>...</td>\n",
       "      <td>69.0</td>\n",
       "      <td>0.0</td>\n",
       "      <td>0.0</td>\n",
       "      <td>0.0</td>\n",
       "      <td>0</td>\n",
       "      <td>1</td>\n",
       "      <td>1</td>\n",
       "      <td>0</td>\n",
       "      <td>10</td>\n",
       "      <td>4</td>\n",
       "    </tr>\n",
       "    <tr>\n",
       "      <th>3</th>\n",
       "      <td>زن</td>\n",
       "      <td>75</td>\n",
       "      <td>108.0</td>\n",
       "      <td>NaN</td>\n",
       "      <td>NaN</td>\n",
       "      <td>NaN</td>\n",
       "      <td>NaN</td>\n",
       "      <td>160.0</td>\n",
       "      <td>19.0</td>\n",
       "      <td>12.2</td>\n",
       "      <td>...</td>\n",
       "      <td>70.0</td>\n",
       "      <td>0.0</td>\n",
       "      <td>1.0</td>\n",
       "      <td>0.0</td>\n",
       "      <td>0</td>\n",
       "      <td>1</td>\n",
       "      <td>0</td>\n",
       "      <td>0</td>\n",
       "      <td>4</td>\n",
       "      <td>2</td>\n",
       "    </tr>\n",
       "    <tr>\n",
       "      <th>4</th>\n",
       "      <td>زن</td>\n",
       "      <td>80</td>\n",
       "      <td>85.0</td>\n",
       "      <td>120.0</td>\n",
       "      <td>72.0</td>\n",
       "      <td>42.0</td>\n",
       "      <td>63.6</td>\n",
       "      <td>160.0</td>\n",
       "      <td>17.0</td>\n",
       "      <td>13.7</td>\n",
       "      <td>...</td>\n",
       "      <td>150.0</td>\n",
       "      <td>0.0</td>\n",
       "      <td>1.0</td>\n",
       "      <td>0.0</td>\n",
       "      <td>0</td>\n",
       "      <td>0</td>\n",
       "      <td>0</td>\n",
       "      <td>0</td>\n",
       "      <td>5</td>\n",
       "      <td>2</td>\n",
       "    </tr>\n",
       "  </tbody>\n",
       "</table>\n",
       "<p>5 rows × 25 columns</p>\n",
       "</div>"
      ],
      "text/plain": [
       "   Sex  Age    FBS   CHOL     TG   HDL    LDL    CPK  CPKMB    Hb  ...  \\\n",
       "0   زن   58  110.0  173.0   75.0  67.0   91.0  120.0   19.0  13.5  ...   \n",
       "1   زن   65  100.0  200.0  199.0  41.0  119.2  181.0   20.0  12.2  ...   \n",
       "2  مرد   77   70.0  130.0  104.0  60.0    NaN   59.0   15.0  14.0  ...   \n",
       "3   زن   75  108.0    NaN    NaN   NaN    NaN  160.0   19.0  12.2  ...   \n",
       "4   زن   80   85.0  120.0   72.0  42.0   63.6  160.0   17.0  13.7  ...   \n",
       "\n",
       "   Heart rate  Diabetes  Smoke  Chest pain  History of shortness of breath  \\\n",
       "0        78.0       0.0    0.0         0.0                               0   \n",
       "1        88.0       1.0    0.0         0.0                               0   \n",
       "2        69.0       0.0    0.0         0.0                               0   \n",
       "3        70.0       0.0    1.0         0.0                               0   \n",
       "4       150.0       0.0    1.0         0.0                               0   \n",
       "\n",
       "   History of heart disease  Family history of heart disease  \\\n",
       "0                         0                                1   \n",
       "1                         0                                1   \n",
       "2                         1                                1   \n",
       "3                         1                                0   \n",
       "4                         0                                0   \n",
       "\n",
       "   History of high blood pressure  Number of hospitalization days  Target  \n",
       "0                               0                               1       4  \n",
       "1                               0                               6       3  \n",
       "2                               0                              10       4  \n",
       "3                               0                               4       2  \n",
       "4                               0                               5       2  \n",
       "\n",
       "[5 rows x 25 columns]"
      ]
     },
     "execution_count": 7,
     "metadata": {},
     "output_type": "execute_result"
    }
   ],
   "source": [
    "df=df.rename(columns={'جنس': 'Sex',\n",
    "                       'سن': 'Age',\n",
    "                       'C':'Target',\n",
    "                       'تعداد روزهای بستری':'Number of hospitalization days',\n",
    "                       'نبض':'Heart rate',\n",
    "                       'دیابت':'Diabetes',\n",
    "                       'فشار خون سیستولیک':'BPs',\n",
    "                       'فشار خون دیاستولیک':'BPd',\n",
    "                      'درد قفسه سینه':'Chest pain',\n",
    "                      'سیگار':'Smoke',\n",
    "                      'سابقه تنگی نفس':'History of shortness of breath',\n",
    "                      'سابقه بیماری قلبی':'History of heart disease',\n",
    "                      'سابقه فامیلی بیماری قلبی':'Family history of heart disease',\n",
    "                      'سابقه فشار خون':'History of high blood pressure'})\n",
    "df.head()"
   ]
  },
  {
   "cell_type": "code",
   "execution_count": 8,
   "metadata": {
    "colab": {
     "base_uri": "https://localhost:8080/"
    },
    "id": "HuvCMHzZFg6q",
    "outputId": "9be9badb-b4f5-4fdf-8006-ea7f70f39300"
   },
   "outputs": [
    {
     "data": {
      "text/plain": [
       "Sex                                 object\n",
       "Age                                  int64\n",
       "FBS                                float64\n",
       "CHOL                               float64\n",
       "TG                                 float64\n",
       "HDL                                float64\n",
       "LDL                                float64\n",
       "CPK                                float64\n",
       "CPKMB                              float64\n",
       "Hb                                 float64\n",
       "PT                                 float64\n",
       "PTT                                float64\n",
       "Trop i                             float64\n",
       "BPs                                float64\n",
       "BPd                                float64\n",
       "Heart rate                         float64\n",
       "Diabetes                           float64\n",
       "Smoke                              float64\n",
       "Chest pain                         float64\n",
       "History of shortness of breath       int64\n",
       "History of heart disease             int64\n",
       "Family history of heart disease      int64\n",
       "History of high blood pressure       int64\n",
       "Number of hospitalization days       int64\n",
       "Target                               int64\n",
       "dtype: object"
      ]
     },
     "execution_count": 8,
     "metadata": {},
     "output_type": "execute_result"
    }
   ],
   "source": [
    "df.dtypes"
   ]
  },
  {
   "cell_type": "code",
   "execution_count": 9,
   "metadata": {
    "colab": {
     "base_uri": "https://localhost:8080/"
    },
    "id": "a7364pdxFzEG",
    "outputId": "ff5eab87-7840-4c53-f6cd-19ad6eaeb256"
   },
   "outputs": [
    {
     "data": {
      "text/plain": [
       "Sex                                 0\n",
       "Age                                 0\n",
       "FBS                                24\n",
       "CHOL                               25\n",
       "TG                                 26\n",
       "HDL                                29\n",
       "LDL                                62\n",
       "CPK                                18\n",
       "CPKMB                              15\n",
       "Hb                                 10\n",
       "PT                                 21\n",
       "PTT                                17\n",
       "Trop i                              5\n",
       "BPs                                 2\n",
       "BPd                                 2\n",
       "Heart rate                          2\n",
       "Diabetes                            1\n",
       "Smoke                               1\n",
       "Chest pain                          1\n",
       "History of shortness of breath      0\n",
       "History of heart disease            0\n",
       "Family history of heart disease     0\n",
       "History of high blood pressure      0\n",
       "Number of hospitalization days      0\n",
       "Target                              0\n",
       "dtype: int64"
      ]
     },
     "execution_count": 9,
     "metadata": {},
     "output_type": "execute_result"
    }
   ],
   "source": [
    "df.isnull().sum()"
   ]
  },
  {
   "cell_type": "code",
   "execution_count": 10,
   "metadata": {
    "colab": {
     "base_uri": "https://localhost:8080/",
     "height": 368
    },
    "id": "1iVIfaXMF5g6",
    "outputId": "74272819-f33d-4b63-90bd-b68d1f42ecd0"
   },
   "outputs": [
    {
     "data": {
      "text/html": [
       "<div>\n",
       "<style scoped>\n",
       "    .dataframe tbody tr th:only-of-type {\n",
       "        vertical-align: middle;\n",
       "    }\n",
       "\n",
       "    .dataframe tbody tr th {\n",
       "        vertical-align: top;\n",
       "    }\n",
       "\n",
       "    .dataframe thead th {\n",
       "        text-align: right;\n",
       "    }\n",
       "</style>\n",
       "<table border=\"1\" class=\"dataframe\">\n",
       "  <thead>\n",
       "    <tr style=\"text-align: right;\">\n",
       "      <th></th>\n",
       "      <th>Age</th>\n",
       "      <th>FBS</th>\n",
       "      <th>CHOL</th>\n",
       "      <th>TG</th>\n",
       "      <th>HDL</th>\n",
       "      <th>LDL</th>\n",
       "      <th>CPK</th>\n",
       "      <th>CPKMB</th>\n",
       "      <th>Hb</th>\n",
       "      <th>PT</th>\n",
       "      <th>...</th>\n",
       "      <th>Heart rate</th>\n",
       "      <th>Diabetes</th>\n",
       "      <th>Smoke</th>\n",
       "      <th>Chest pain</th>\n",
       "      <th>History of shortness of breath</th>\n",
       "      <th>History of heart disease</th>\n",
       "      <th>Family history of heart disease</th>\n",
       "      <th>History of high blood pressure</th>\n",
       "      <th>Number of hospitalization days</th>\n",
       "      <th>Target</th>\n",
       "    </tr>\n",
       "  </thead>\n",
       "  <tbody>\n",
       "    <tr>\n",
       "      <th>count</th>\n",
       "      <td>230.000000</td>\n",
       "      <td>206.000000</td>\n",
       "      <td>205.000000</td>\n",
       "      <td>204.000000</td>\n",
       "      <td>201.000000</td>\n",
       "      <td>168.000000</td>\n",
       "      <td>212.000000</td>\n",
       "      <td>215.000000</td>\n",
       "      <td>220.000000</td>\n",
       "      <td>209.000000</td>\n",
       "      <td>...</td>\n",
       "      <td>228.000000</td>\n",
       "      <td>229.000000</td>\n",
       "      <td>229.000000</td>\n",
       "      <td>229.000000</td>\n",
       "      <td>230.000000</td>\n",
       "      <td>230.000000</td>\n",
       "      <td>230.000000</td>\n",
       "      <td>230.000000</td>\n",
       "      <td>230.000000</td>\n",
       "      <td>230.000000</td>\n",
       "    </tr>\n",
       "    <tr>\n",
       "      <th>mean</th>\n",
       "      <td>62.465217</td>\n",
       "      <td>113.902913</td>\n",
       "      <td>169.360976</td>\n",
       "      <td>141.132353</td>\n",
       "      <td>48.312438</td>\n",
       "      <td>97.833333</td>\n",
       "      <td>204.339623</td>\n",
       "      <td>23.465116</td>\n",
       "      <td>13.702273</td>\n",
       "      <td>13.147368</td>\n",
       "      <td>...</td>\n",
       "      <td>74.364035</td>\n",
       "      <td>0.043668</td>\n",
       "      <td>0.244541</td>\n",
       "      <td>0.069869</td>\n",
       "      <td>0.143478</td>\n",
       "      <td>0.539130</td>\n",
       "      <td>0.226087</td>\n",
       "      <td>0.060870</td>\n",
       "      <td>4.100000</td>\n",
       "      <td>3.400000</td>\n",
       "    </tr>\n",
       "    <tr>\n",
       "      <th>std</th>\n",
       "      <td>13.175209</td>\n",
       "      <td>47.669495</td>\n",
       "      <td>40.737400</td>\n",
       "      <td>84.889016</td>\n",
       "      <td>12.142203</td>\n",
       "      <td>47.222047</td>\n",
       "      <td>409.155167</td>\n",
       "      <td>37.555286</td>\n",
       "      <td>1.910974</td>\n",
       "      <td>3.556495</td>\n",
       "      <td>...</td>\n",
       "      <td>15.443914</td>\n",
       "      <td>0.204803</td>\n",
       "      <td>0.430757</td>\n",
       "      <td>0.255485</td>\n",
       "      <td>0.351324</td>\n",
       "      <td>0.499554</td>\n",
       "      <td>0.419208</td>\n",
       "      <td>0.239612</td>\n",
       "      <td>2.830511</td>\n",
       "      <td>1.440524</td>\n",
       "    </tr>\n",
       "    <tr>\n",
       "      <th>min</th>\n",
       "      <td>23.000000</td>\n",
       "      <td>62.000000</td>\n",
       "      <td>88.000000</td>\n",
       "      <td>38.000000</td>\n",
       "      <td>26.000000</td>\n",
       "      <td>14.000000</td>\n",
       "      <td>14.000000</td>\n",
       "      <td>5.000000</td>\n",
       "      <td>5.600000</td>\n",
       "      <td>10.000000</td>\n",
       "      <td>...</td>\n",
       "      <td>40.000000</td>\n",
       "      <td>0.000000</td>\n",
       "      <td>0.000000</td>\n",
       "      <td>0.000000</td>\n",
       "      <td>0.000000</td>\n",
       "      <td>0.000000</td>\n",
       "      <td>0.000000</td>\n",
       "      <td>0.000000</td>\n",
       "      <td>1.000000</td>\n",
       "      <td>1.000000</td>\n",
       "    </tr>\n",
       "    <tr>\n",
       "      <th>25%</th>\n",
       "      <td>54.000000</td>\n",
       "      <td>85.000000</td>\n",
       "      <td>140.000000</td>\n",
       "      <td>81.750000</td>\n",
       "      <td>40.000000</td>\n",
       "      <td>71.200000</td>\n",
       "      <td>70.750000</td>\n",
       "      <td>12.000000</td>\n",
       "      <td>12.600000</td>\n",
       "      <td>12.000000</td>\n",
       "      <td>...</td>\n",
       "      <td>65.000000</td>\n",
       "      <td>0.000000</td>\n",
       "      <td>0.000000</td>\n",
       "      <td>0.000000</td>\n",
       "      <td>0.000000</td>\n",
       "      <td>0.000000</td>\n",
       "      <td>0.000000</td>\n",
       "      <td>0.000000</td>\n",
       "      <td>2.250000</td>\n",
       "      <td>2.000000</td>\n",
       "    </tr>\n",
       "    <tr>\n",
       "      <th>50%</th>\n",
       "      <td>62.000000</td>\n",
       "      <td>99.500000</td>\n",
       "      <td>167.000000</td>\n",
       "      <td>120.000000</td>\n",
       "      <td>47.000000</td>\n",
       "      <td>92.000000</td>\n",
       "      <td>107.000000</td>\n",
       "      <td>15.000000</td>\n",
       "      <td>13.800000</td>\n",
       "      <td>12.000000</td>\n",
       "      <td>...</td>\n",
       "      <td>72.000000</td>\n",
       "      <td>0.000000</td>\n",
       "      <td>0.000000</td>\n",
       "      <td>0.000000</td>\n",
       "      <td>0.000000</td>\n",
       "      <td>1.000000</td>\n",
       "      <td>0.000000</td>\n",
       "      <td>0.000000</td>\n",
       "      <td>4.000000</td>\n",
       "      <td>3.500000</td>\n",
       "    </tr>\n",
       "    <tr>\n",
       "      <th>75%</th>\n",
       "      <td>73.000000</td>\n",
       "      <td>121.500000</td>\n",
       "      <td>194.000000</td>\n",
       "      <td>170.000000</td>\n",
       "      <td>55.000000</td>\n",
       "      <td>114.000000</td>\n",
       "      <td>179.000000</td>\n",
       "      <td>20.000000</td>\n",
       "      <td>14.700000</td>\n",
       "      <td>13.200000</td>\n",
       "      <td>...</td>\n",
       "      <td>80.000000</td>\n",
       "      <td>0.000000</td>\n",
       "      <td>0.000000</td>\n",
       "      <td>0.000000</td>\n",
       "      <td>0.000000</td>\n",
       "      <td>1.000000</td>\n",
       "      <td>0.000000</td>\n",
       "      <td>0.000000</td>\n",
       "      <td>5.000000</td>\n",
       "      <td>5.000000</td>\n",
       "    </tr>\n",
       "    <tr>\n",
       "      <th>max</th>\n",
       "      <td>94.000000</td>\n",
       "      <td>318.000000</td>\n",
       "      <td>290.000000</td>\n",
       "      <td>550.000000</td>\n",
       "      <td>98.000000</td>\n",
       "      <td>464.000000</td>\n",
       "      <td>3400.000000</td>\n",
       "      <td>347.000000</td>\n",
       "      <td>21.400000</td>\n",
       "      <td>50.000000</td>\n",
       "      <td>...</td>\n",
       "      <td>160.000000</td>\n",
       "      <td>1.000000</td>\n",
       "      <td>1.000000</td>\n",
       "      <td>1.000000</td>\n",
       "      <td>1.000000</td>\n",
       "      <td>1.000000</td>\n",
       "      <td>1.000000</td>\n",
       "      <td>1.000000</td>\n",
       "      <td>22.000000</td>\n",
       "      <td>5.000000</td>\n",
       "    </tr>\n",
       "  </tbody>\n",
       "</table>\n",
       "<p>8 rows × 24 columns</p>\n",
       "</div>"
      ],
      "text/plain": [
       "              Age         FBS        CHOL          TG         HDL         LDL  \\\n",
       "count  230.000000  206.000000  205.000000  204.000000  201.000000  168.000000   \n",
       "mean    62.465217  113.902913  169.360976  141.132353   48.312438   97.833333   \n",
       "std     13.175209   47.669495   40.737400   84.889016   12.142203   47.222047   \n",
       "min     23.000000   62.000000   88.000000   38.000000   26.000000   14.000000   \n",
       "25%     54.000000   85.000000  140.000000   81.750000   40.000000   71.200000   \n",
       "50%     62.000000   99.500000  167.000000  120.000000   47.000000   92.000000   \n",
       "75%     73.000000  121.500000  194.000000  170.000000   55.000000  114.000000   \n",
       "max     94.000000  318.000000  290.000000  550.000000   98.000000  464.000000   \n",
       "\n",
       "               CPK       CPKMB          Hb          PT  ...  Heart rate  \\\n",
       "count   212.000000  215.000000  220.000000  209.000000  ...  228.000000   \n",
       "mean    204.339623   23.465116   13.702273   13.147368  ...   74.364035   \n",
       "std     409.155167   37.555286    1.910974    3.556495  ...   15.443914   \n",
       "min      14.000000    5.000000    5.600000   10.000000  ...   40.000000   \n",
       "25%      70.750000   12.000000   12.600000   12.000000  ...   65.000000   \n",
       "50%     107.000000   15.000000   13.800000   12.000000  ...   72.000000   \n",
       "75%     179.000000   20.000000   14.700000   13.200000  ...   80.000000   \n",
       "max    3400.000000  347.000000   21.400000   50.000000  ...  160.000000   \n",
       "\n",
       "         Diabetes       Smoke  Chest pain  History of shortness of breath  \\\n",
       "count  229.000000  229.000000  229.000000                      230.000000   \n",
       "mean     0.043668    0.244541    0.069869                        0.143478   \n",
       "std      0.204803    0.430757    0.255485                        0.351324   \n",
       "min      0.000000    0.000000    0.000000                        0.000000   \n",
       "25%      0.000000    0.000000    0.000000                        0.000000   \n",
       "50%      0.000000    0.000000    0.000000                        0.000000   \n",
       "75%      0.000000    0.000000    0.000000                        0.000000   \n",
       "max      1.000000    1.000000    1.000000                        1.000000   \n",
       "\n",
       "       History of heart disease  Family history of heart disease  \\\n",
       "count                230.000000                       230.000000   \n",
       "mean                   0.539130                         0.226087   \n",
       "std                    0.499554                         0.419208   \n",
       "min                    0.000000                         0.000000   \n",
       "25%                    0.000000                         0.000000   \n",
       "50%                    1.000000                         0.000000   \n",
       "75%                    1.000000                         0.000000   \n",
       "max                    1.000000                         1.000000   \n",
       "\n",
       "       History of high blood pressure  Number of hospitalization days  \\\n",
       "count                      230.000000                      230.000000   \n",
       "mean                         0.060870                        4.100000   \n",
       "std                          0.239612                        2.830511   \n",
       "min                          0.000000                        1.000000   \n",
       "25%                          0.000000                        2.250000   \n",
       "50%                          0.000000                        4.000000   \n",
       "75%                          0.000000                        5.000000   \n",
       "max                          1.000000                       22.000000   \n",
       "\n",
       "           Target  \n",
       "count  230.000000  \n",
       "mean     3.400000  \n",
       "std      1.440524  \n",
       "min      1.000000  \n",
       "25%      2.000000  \n",
       "50%      3.500000  \n",
       "75%      5.000000  \n",
       "max      5.000000  \n",
       "\n",
       "[8 rows x 24 columns]"
      ]
     },
     "execution_count": 10,
     "metadata": {},
     "output_type": "execute_result"
    }
   ],
   "source": [
    "df.describe()"
   ]
  },
  {
   "cell_type": "code",
   "execution_count": 11,
   "metadata": {
    "colab": {
     "base_uri": "https://localhost:8080/",
     "height": 299
    },
    "id": "2JbqoXwGF-qQ",
    "outputId": "630163f8-1027-4bc5-e7d2-d5764fab317f"
   },
   "outputs": [
    {
     "name": "stderr",
     "output_type": "stream",
     "text": [
      "/home/amin/.local/lib/python3.6/site-packages/seaborn/_decorators.py:43: FutureWarning: Pass the following variable as a keyword arg: x. From version 0.12, the only valid positional argument will be `data`, and passing other arguments without an explicit keyword will result in an error or misinterpretation.\n",
      "  FutureWarning\n"
     ]
    },
    {
     "data": {
      "text/plain": [
       "<AxesSubplot:xlabel='Age'>"
      ]
     },
     "execution_count": 11,
     "metadata": {},
     "output_type": "execute_result"
    },
    {
     "data": {
      "image/png": "[encoded data removed]",
      "text/plain": [
       "<Figure size 432x288 with 1 Axes>"
      ]
     },
     "metadata": {
      "needs_background": "light"
     },
     "output_type": "display_data"
    }
   ],
   "source": [
    "sns.boxplot(df.Age)"
   ]
  },
  {
   "cell_type": "code",
   "execution_count": 12,
   "metadata": {
    "colab": {
     "base_uri": "https://localhost:8080/",
     "height": 299
    },
    "id": "RNEvf9xmGZ31",
    "outputId": "1b6fa008-d1ce-4329-cabb-4cf3f13ff7b7"
   },
   "outputs": [
    {
     "name": "stderr",
     "output_type": "stream",
     "text": [
      "/home/amin/.local/lib/python3.6/site-packages/seaborn/_decorators.py:43: FutureWarning: Pass the following variable as a keyword arg: x. From version 0.12, the only valid positional argument will be `data`, and passing other arguments without an explicit keyword will result in an error or misinterpretation.\n",
      "  FutureWarning\n"
     ]
    },
    {
     "data": {
      "text/plain": [
       "<AxesSubplot:xlabel='FBS'>"
      ]
     },
     "execution_count": 12,
     "metadata": {},
     "output_type": "execute_result"
    },
    {
     "data": {
      "image/png": "[encoded data removed]",
      "text/plain": [
       "<Figure size 432x288 with 1 Axes>"
      ]
     },
     "metadata": {
      "needs_background": "light"
     },
     "output_type": "display_data"
    }
   ],
   "source": [
    "sns.boxplot(df.FBS)"
   ]
  },
  {
   "cell_type": "code",
   "execution_count": 13,
   "metadata": {
    "colab": {
     "base_uri": "https://localhost:8080/",
     "height": 299
    },
    "id": "NlM9-gBBHzRJ",
    "outputId": "661c408e-4fb9-4449-f5bf-36446be13ee2"
   },
   "outputs": [
    {
     "name": "stderr",
     "output_type": "stream",
     "text": [
      "/home/amin/.local/lib/python3.6/site-packages/seaborn/_decorators.py:43: FutureWarning: Pass the following variable as a keyword arg: x. From version 0.12, the only valid positional argument will be `data`, and passing other arguments without an explicit keyword will result in an error or misinterpretation.\n",
      "  FutureWarning\n"
     ]
    },
    {
     "data": {
      "text/plain": [
       "<AxesSubplot:xlabel='CHOL'>"
      ]
     },
     "execution_count": 13,
     "metadata": {},
     "output_type": "execute_result"
    },
    {
     "data": {
      "image/png": "[encoded data removed]",
      "text/plain": [
       "<Figure size 432x288 with 1 Axes>"
      ]
     },
     "metadata": {
      "needs_background": "light"
     },
     "output_type": "display_data"
    }
   ],
   "source": [
    "sns.boxplot(df.CHOL)"
   ]
  },
  {
   "cell_type": "code",
   "execution_count": 14,
   "metadata": {
    "colab": {
     "base_uri": "https://localhost:8080/",
     "height": 299
    },
    "id": "2d-8En3zIRZy",
    "outputId": "94cff6a3-8d0f-4ff0-848a-41aec6b93b90"
   },
   "outputs": [
    {
     "name": "stderr",
     "output_type": "stream",
     "text": [
      "/home/amin/.local/lib/python3.6/site-packages/seaborn/_decorators.py:43: FutureWarning: Pass the following variable as a keyword arg: x. From version 0.12, the only valid positional argument will be `data`, and passing other arguments without an explicit keyword will result in an error or misinterpretation.\n",
      "  FutureWarning\n"
     ]
    },
    {
     "data": {
      "text/plain": [
       "<AxesSubplot:xlabel='TG'>"
      ]
     },
     "execution_count": 14,
     "metadata": {},
     "output_type": "execute_result"
    },
    {
     "data": {
      "image/png": "[encoded data removed]",
      "text/plain": [
       "<Figure size 432x288 with 1 Axes>"
      ]
     },
     "metadata": {
      "needs_background": "light"
     },
     "output_type": "display_data"
    }
   ],
   "source": [
    "sns.boxplot(df.TG)\n"
   ]
  },
  {
   "cell_type": "code",
   "execution_count": 15,
   "metadata": {
    "colab": {
     "base_uri": "https://localhost:8080/",
     "height": 299
    },
    "id": "HOs22UbyISE7",
    "outputId": "cdaafcea-b052-4b96-e403-c44d10a1ed8b"
   },
   "outputs": [
    {
     "name": "stderr",
     "output_type": "stream",
     "text": [
      "/home/amin/.local/lib/python3.6/site-packages/seaborn/_decorators.py:43: FutureWarning: Pass the following variable as a keyword arg: x. From version 0.12, the only valid positional argument will be `data`, and passing other arguments without an explicit keyword will result in an error or misinterpretation.\n",
      "  FutureWarning\n"
     ]
    },
    {
     "data": {
      "text/plain": [
       "<AxesSubplot:xlabel='HDL'>"
      ]
     },
     "execution_count": 15,
     "metadata": {},
     "output_type": "execute_result"
    },
    {
     "data": {
      "image/png": "[encoded data removed]",
      "text/plain": [
       "<Figure size 432x288 with 1 Axes>"
      ]
     },
     "metadata": {
      "needs_background": "light"
     },
     "output_type": "display_data"
    }
   ],
   "source": [
    "sns.boxplot(df.HDL)\n"
   ]
  },
  {
   "cell_type": "code",
   "execution_count": 16,
   "metadata": {
    "colab": {
     "base_uri": "https://localhost:8080/",
     "height": 299
    },
    "id": "vy7KijDjIShS",
    "outputId": "3eadc2ad-9cfc-4b04-f9ca-7a1716736308"
   },
   "outputs": [
    {
     "name": "stderr",
     "output_type": "stream",
     "text": [
      "/home/amin/.local/lib/python3.6/site-packages/seaborn/_decorators.py:43: FutureWarning: Pass the following variable as a keyword arg: x. From version 0.12, the only valid positional argument will be `data`, and passing other arguments without an explicit keyword will result in an error or misinterpretation.\n",
      "  FutureWarning\n"
     ]
    },
    {
     "data": {
      "text/plain": [
       "<AxesSubplot:xlabel='LDL'>"
      ]
     },
     "execution_count": 16,
     "metadata": {},
     "output_type": "execute_result"
    },
    {
     "data": {
      "image/png": "[encoded data removed]",
      "text/plain": [
       "<Figure size 432x288 with 1 Axes>"
      ]
     },
     "metadata": {
      "needs_background": "light"
     },
     "output_type": "display_data"
    }
   ],
   "source": [
    "sns.boxplot(df.LDL)\n"
   ]
  },
  {
   "cell_type": "code",
   "execution_count": 17,
   "metadata": {
    "colab": {
     "base_uri": "https://localhost:8080/",
     "height": 299
    },
    "id": "gzsKmCKxIS2j",
    "outputId": "7175cd1e-37a8-4fa3-f505-ef55b60ca818"
   },
   "outputs": [
    {
     "name": "stderr",
     "output_type": "stream",
     "text": [
      "/home/amin/.local/lib/python3.6/site-packages/seaborn/_decorators.py:43: FutureWarning: Pass the following variable as a keyword arg: x. From version 0.12, the only valid positional argument will be `data`, and passing other arguments without an explicit keyword will result in an error or misinterpretation.\n",
      "  FutureWarning\n"
     ]
    },
    {
     "data": {
      "text/plain": [
       "<AxesSubplot:xlabel='CPK'>"
      ]
     },
     "execution_count": 17,
     "metadata": {},
     "output_type": "execute_result"
    },
    {
     "data": {
      "image/png": "[encoded data removed]",
      "text/plain": [
       "<Figure size 432x288 with 1 Axes>"
      ]
     },
     "metadata": {
      "needs_background": "light"
     },
     "output_type": "display_data"
    }
   ],
   "source": [
    "sns.boxplot(df.CPK)\n"
   ]
  },
  {
   "cell_type": "code",
   "execution_count": 18,
   "metadata": {
    "colab": {
     "base_uri": "https://localhost:8080/",
     "height": 299
    },
    "id": "pFLlB_v0ITNi",
    "outputId": "2e4a948e-f145-4abe-b513-82f0e3204847"
   },
   "outputs": [
    {
     "name": "stderr",
     "output_type": "stream",
     "text": [
      "/home/amin/.local/lib/python3.6/site-packages/seaborn/_decorators.py:43: FutureWarning: Pass the following variable as a keyword arg: x. From version 0.12, the only valid positional argument will be `data`, and passing other arguments without an explicit keyword will result in an error or misinterpretation.\n",
      "  FutureWarning\n"
     ]
    },
    {
     "data": {
      "text/plain": [
       "<AxesSubplot:xlabel='CPKMB'>"
      ]
     },
     "execution_count": 18,
     "metadata": {},
     "output_type": "execute_result"
    },
    {
     "data": {
      "image/png": "[encoded data removed]",
      "text/plain": [
       "<Figure size 432x288 with 1 Axes>"
      ]
     },
     "metadata": {
      "needs_background": "light"
     },
     "output_type": "display_data"
    }
   ],
   "source": [
    "sns.boxplot(df.CPKMB)\n"
   ]
  },
  {
   "cell_type": "code",
   "execution_count": 19,
   "metadata": {
    "colab": {
     "base_uri": "https://localhost:8080/",
     "height": 299
    },
    "id": "BZDucSgQITqU",
    "outputId": "636b6626-b3c0-4c99-b664-3b501846d936"
   },
   "outputs": [
    {
     "name": "stderr",
     "output_type": "stream",
     "text": [
      "/home/amin/.local/lib/python3.6/site-packages/seaborn/_decorators.py:43: FutureWarning: Pass the following variable as a keyword arg: x. From version 0.12, the only valid positional argument will be `data`, and passing other arguments without an explicit keyword will result in an error or misinterpretation.\n",
      "  FutureWarning\n"
     ]
    },
    {
     "data": {
      "text/plain": [
       "<AxesSubplot:xlabel='Hb'>"
      ]
     },
     "execution_count": 19,
     "metadata": {},
     "output_type": "execute_result"
    },
    {
     "data": {
      "image/png": "[encoded data removed]",
      "text/plain": [
       "<Figure size 432x288 with 1 Axes>"
      ]
     },
     "metadata": {
      "needs_background": "light"
     },
     "output_type": "display_data"
    }
   ],
   "source": [
    "sns.boxplot(df.Hb)\n"
   ]
  },
  {
   "cell_type": "code",
   "execution_count": 20,
   "metadata": {
    "colab": {
     "base_uri": "https://localhost:8080/",
     "height": 299
    },
    "id": "-BtmG6j6IUFA",
    "outputId": "ec488dfa-f158-426d-bc24-7896efd94f81"
   },
   "outputs": [
    {
     "name": "stderr",
     "output_type": "stream",
     "text": [
      "/home/amin/.local/lib/python3.6/site-packages/seaborn/_decorators.py:43: FutureWarning: Pass the following variable as a keyword arg: x. From version 0.12, the only valid positional argument will be `data`, and passing other arguments without an explicit keyword will result in an error or misinterpretation.\n",
      "  FutureWarning\n"
     ]
    },
    {
     "data": {
      "text/plain": [
       "<AxesSubplot:xlabel='PT'>"
      ]
     },
     "execution_count": 20,
     "metadata": {},
     "output_type": "execute_result"
    },
    {
     "data": {
      "image/png": "[encoded data removed]",
      "text/plain": [
       "<Figure size 432x288 with 1 Axes>"
      ]
     },
     "metadata": {
      "needs_background": "light"
     },
     "output_type": "display_data"
    }
   ],
   "source": [
    "sns.boxplot(df.PT)\n"
   ]
  },
  {
   "cell_type": "code",
   "execution_count": 21,
   "metadata": {
    "colab": {
     "base_uri": "https://localhost:8080/",
     "height": 299
    },
    "id": "hUysQ5Q-IUnW",
    "outputId": "743dabb2-01fc-4449-ad1b-ce2a1dbd1b4a"
   },
   "outputs": [
    {
     "name": "stderr",
     "output_type": "stream",
     "text": [
      "/home/amin/.local/lib/python3.6/site-packages/seaborn/_decorators.py:43: FutureWarning: Pass the following variable as a keyword arg: x. From version 0.12, the only valid positional argument will be `data`, and passing other arguments without an explicit keyword will result in an error or misinterpretation.\n",
      "  FutureWarning\n"
     ]
    },
    {
     "data": {
      "text/plain": [
       "<AxesSubplot:xlabel='PTT'>"
      ]
     },
     "execution_count": 21,
     "metadata": {},
     "output_type": "execute_result"
    },
    {
     "data": {
      "image/png": "[encoded data removed]",
      "text/plain": [
       "<Figure size 432x288 with 1 Axes>"
      ]
     },
     "metadata": {
      "needs_background": "light"
     },
     "output_type": "display_data"
    }
   ],
   "source": [
    "sns.boxplot(df.PTT)\n"
   ]
  },
  {
   "cell_type": "code",
   "execution_count": 22,
   "metadata": {
    "colab": {
     "base_uri": "https://localhost:8080/",
     "height": 299
    },
    "id": "MW7FEvKkIWJJ",
    "outputId": "60aea557-5e83-4ed2-e617-5a091fc78a92"
   },
   "outputs": [
    {
     "name": "stderr",
     "output_type": "stream",
     "text": [
      "/home/amin/.local/lib/python3.6/site-packages/seaborn/_decorators.py:43: FutureWarning: Pass the following variable as a keyword arg: x. From version 0.12, the only valid positional argument will be `data`, and passing other arguments without an explicit keyword will result in an error or misinterpretation.\n",
      "  FutureWarning\n"
     ]
    },
    {
     "data": {
      "text/plain": [
       "<AxesSubplot:xlabel='BPs'>"
      ]
     },
     "execution_count": 22,
     "metadata": {},
     "output_type": "execute_result"
    },
    {
     "data": {
      "image/png": "[encoded data removed]",
      "text/plain": [
       "<Figure size 432x288 with 1 Axes>"
      ]
     },
     "metadata": {
      "needs_background": "light"
     },
     "output_type": "display_data"
    }
   ],
   "source": [
    "sns.boxplot(df.BPs)\n"
   ]
  },
  {
   "cell_type": "code",
   "execution_count": 23,
   "metadata": {
    "colab": {
     "base_uri": "https://localhost:8080/",
     "height": 299
    },
    "id": "jnTg1pixIWdU",
    "outputId": "b76d3f32-0eea-402b-e793-74e0afe61621"
   },
   "outputs": [
    {
     "name": "stderr",
     "output_type": "stream",
     "text": [
      "/home/amin/.local/lib/python3.6/site-packages/seaborn/_decorators.py:43: FutureWarning: Pass the following variable as a keyword arg: x. From version 0.12, the only valid positional argument will be `data`, and passing other arguments without an explicit keyword will result in an error or misinterpretation.\n",
      "  FutureWarning\n"
     ]
    },
    {
     "data": {
      "text/plain": [
       "<AxesSubplot:xlabel='BPd'>"
      ]
     },
     "execution_count": 23,
     "metadata": {},
     "output_type": "execute_result"
    },
    {
     "data": {
      "image/png": "[encoded data removed]",
      "text/plain": [
       "<Figure size 432x288 with 1 Axes>"
      ]
     },
     "metadata": {
      "needs_background": "light"
     },
     "output_type": "display_data"
    }
   ],
   "source": [
    "sns.boxplot(df.BPd)\n"
   ]
  },
  {
   "cell_type": "code",
   "execution_count": 24,
   "metadata": {
    "colab": {
     "base_uri": "https://localhost:8080/",
     "height": 299
    },
    "id": "Iru85EXgIW0Q",
    "outputId": "322bdefe-afa9-4b66-afa2-48d7d299d312"
   },
   "outputs": [
    {
     "name": "stderr",
     "output_type": "stream",
     "text": [
      "/home/amin/.local/lib/python3.6/site-packages/seaborn/_decorators.py:43: FutureWarning: Pass the following variable as a keyword arg: x. From version 0.12, the only valid positional argument will be `data`, and passing other arguments without an explicit keyword will result in an error or misinterpretation.\n",
      "  FutureWarning\n"
     ]
    },
    {
     "data": {
      "text/plain": [
       "<AxesSubplot:xlabel='Heart rate'>"
      ]
     },
     "execution_count": 24,
     "metadata": {},
     "output_type": "execute_result"
    },
    {
     "data": {
      "image/png": "[encoded data removed]",
      "text/plain": [
       "<Figure size 432x288 with 1 Axes>"
      ]
     },
     "metadata": {
      "needs_background": "light"
     },
     "output_type": "display_data"
    }
   ],
   "source": [
    "sns.boxplot(df['Heart rate'])\n"
   ]
  },
  {
   "cell_type": "code",
   "execution_count": 25,
   "metadata": {
    "colab": {
     "base_uri": "https://localhost:8080/",
     "height": 299
    },
    "id": "wDmaC4SJI6Ky",
    "outputId": "16cadb98-a0c8-48ba-f175-f5f194bdf50e"
   },
   "outputs": [
    {
     "name": "stderr",
     "output_type": "stream",
     "text": [
      "/home/amin/.local/lib/python3.6/site-packages/seaborn/_decorators.py:43: FutureWarning: Pass the following variable as a keyword arg: x. From version 0.12, the only valid positional argument will be `data`, and passing other arguments without an explicit keyword will result in an error or misinterpretation.\n",
      "  FutureWarning\n"
     ]
    },
    {
     "data": {
      "text/plain": [
       "<AxesSubplot:xlabel='Number of hospitalization days'>"
      ]
     },
     "execution_count": 25,
     "metadata": {},
     "output_type": "execute_result"
    },
    {
     "data": {
      "image/png": "[encoded data removed]",
      "text/plain": [
       "<Figure size 432x288 with 1 Axes>"
      ]
     },
     "metadata": {
      "needs_background": "light"
     },
     "output_type": "display_data"
    }
   ],
   "source": [
    "sns.boxplot(df['Number of hospitalization days'])"
   ]
  },
  {
   "cell_type": "code",
   "execution_count": 26,
   "metadata": {
    "colab": {
     "base_uri": "https://localhost:8080/",
     "height": 867
    },
    "id": "_5AZBFfDJszO",
    "outputId": "f45c02fb-3802-4e9b-ed0d-dd6eb04f9ecd"
   },
   "outputs": [
    {
     "data": {
      "text/plain": [
       "<AxesSubplot:>"
      ]
     },
     "execution_count": 26,
     "metadata": {},
     "output_type": "execute_result"
    },
    {
     "data": {
      "image/png": "[encoded data removed]",
      "text/plain": [
       "<Figure size 864x864 with 2 Axes>"
      ]
     },
     "metadata": {
      "needs_background": "light"
     },
     "output_type": "display_data"
    }
   ],
   "source": [
    "plt.figure(figsize=(12, 12))\n",
    "sns.heatmap(df.corr()>0.7, annot=True)\n",
    "##dfdemo.corr()>0.7"
   ]
  },
  {
   "cell_type": "code",
   "execution_count": 27,
   "metadata": {
    "colab": {
     "base_uri": "https://localhost:8080/"
    },
    "id": "veRFjWLsLktv",
    "outputId": "81264744-3969-4d04-e364-06f628f7a1ae"
   },
   "outputs": [
    {
     "data": {
      "text/plain": [
       "زن      118\n",
       "مرد     111\n",
       "مرد       1\n",
       "Name: Sex, dtype: int64"
      ]
     },
     "execution_count": 27,
     "metadata": {},
     "output_type": "execute_result"
    }
   ],
   "source": [
    "df['Sex'].value_counts()"
   ]
  },
  {
   "cell_type": "code",
   "execution_count": 28,
   "metadata": {
    "colab": {
     "base_uri": "https://localhost:8080/"
    },
    "id": "rhJtyLxSMfrn",
    "outputId": "cf69396a-4bb8-4be9-e911-b158becc1fec"
   },
   "outputs": [
    {
     "data": {
      "text/plain": [
       "0.0    210\n",
       "1.0     15\n",
       "Name: Trop i, dtype: int64"
      ]
     },
     "execution_count": 28,
     "metadata": {},
     "output_type": "execute_result"
    }
   ],
   "source": [
    "df['Trop i'].value_counts()"
   ]
  },
  {
   "cell_type": "code",
   "execution_count": 29,
   "metadata": {
    "colab": {
     "base_uri": "https://localhost:8080/"
    },
    "id": "ZArorZGhMnsk",
    "outputId": "f44bd8f7-6a0a-4ed7-e3d8-6df2f8014870"
   },
   "outputs": [
    {
     "data": {
      "text/plain": [
       "0.0    219\n",
       "1.0     10\n",
       "Name: Diabetes, dtype: int64"
      ]
     },
     "execution_count": 29,
     "metadata": {},
     "output_type": "execute_result"
    }
   ],
   "source": [
    "df['Diabetes'].value_counts()"
   ]
  },
  {
   "cell_type": "code",
   "execution_count": 30,
   "metadata": {
    "colab": {
     "base_uri": "https://localhost:8080/"
    },
    "id": "hk7Cs6wZMoH8",
    "outputId": "1e41a306-7aaf-43ac-e982-32189c017bae"
   },
   "outputs": [
    {
     "data": {
      "text/plain": [
       "0.0    173\n",
       "1.0     56\n",
       "Name: Smoke, dtype: int64"
      ]
     },
     "execution_count": 30,
     "metadata": {},
     "output_type": "execute_result"
    }
   ],
   "source": [
    "df['Smoke'].value_counts()"
   ]
  },
  {
   "cell_type": "code",
   "execution_count": 31,
   "metadata": {
    "colab": {
     "base_uri": "https://localhost:8080/"
    },
    "id": "6uq1V_wXMokZ",
    "outputId": "32fe6136-5fb5-4b27-b286-4d31954c1d6d"
   },
   "outputs": [
    {
     "data": {
      "text/plain": [
       "0.0    213\n",
       "1.0     16\n",
       "Name: Chest pain, dtype: int64"
      ]
     },
     "execution_count": 31,
     "metadata": {},
     "output_type": "execute_result"
    }
   ],
   "source": [
    "df['Chest pain'].value_counts()"
   ]
  },
  {
   "cell_type": "code",
   "execution_count": 32,
   "metadata": {
    "colab": {
     "base_uri": "https://localhost:8080/"
    },
    "id": "1U9mX38PMpAe",
    "outputId": "ec1dae9c-00f5-45a5-e8eb-d71788793497"
   },
   "outputs": [
    {
     "data": {
      "text/plain": [
       "0    197\n",
       "1     33\n",
       "Name: History of shortness of breath, dtype: int64"
      ]
     },
     "execution_count": 32,
     "metadata": {},
     "output_type": "execute_result"
    }
   ],
   "source": [
    "df['History of shortness of breath'].value_counts()"
   ]
  },
  {
   "cell_type": "code",
   "execution_count": 33,
   "metadata": {
    "colab": {
     "base_uri": "https://localhost:8080/"
    },
    "id": "84i3uWreMpX2",
    "outputId": "c9f2ff2f-af40-46ce-b482-58a6ec160ea2"
   },
   "outputs": [
    {
     "data": {
      "text/plain": [
       "1    124\n",
       "0    106\n",
       "Name: History of heart disease, dtype: int64"
      ]
     },
     "execution_count": 33,
     "metadata": {},
     "output_type": "execute_result"
    }
   ],
   "source": [
    "df['History of heart disease'].value_counts()"
   ]
  },
  {
   "cell_type": "code",
   "execution_count": 34,
   "metadata": {
    "colab": {
     "base_uri": "https://localhost:8080/"
    },
    "id": "hVFXeqVtMpsP",
    "outputId": "308e732e-4147-4b93-c026-55f1337ac9aa"
   },
   "outputs": [
    {
     "data": {
      "text/plain": [
       "0    178\n",
       "1     52\n",
       "Name: Family history of heart disease, dtype: int64"
      ]
     },
     "execution_count": 34,
     "metadata": {},
     "output_type": "execute_result"
    }
   ],
   "source": [
    "df['Family history of heart disease'].value_counts()"
   ]
  },
  {
   "cell_type": "code",
   "execution_count": 35,
   "metadata": {
    "colab": {
     "base_uri": "https://localhost:8080/"
    },
    "id": "xS3GJg1KMqP0",
    "outputId": "9e83fb61-e072-4716-b5c2-d53fde1e4ee3"
   },
   "outputs": [
    {
     "data": {
      "text/plain": [
       "0    216\n",
       "1     14\n",
       "Name: History of high blood pressure, dtype: int64"
      ]
     },
     "execution_count": 35,
     "metadata": {},
     "output_type": "execute_result"
    }
   ],
   "source": [
    "df['History of high blood pressure'].value_counts()"
   ]
  },
  {
   "cell_type": "code",
   "execution_count": 36,
   "metadata": {
    "colab": {
     "base_uri": "https://localhost:8080/"
    },
    "id": "M8ufIut-Mqtt",
    "outputId": "f4ca8d8c-2b44-4c8e-fab6-d4ca55228378"
   },
   "outputs": [
    {
     "data": {
      "text/plain": [
       "3     55\n",
       "4     41\n",
       "5     32\n",
       "2     31\n",
       "1     27\n",
       "6     18\n",
       "7     10\n",
       "10     4\n",
       "9      4\n",
       "13     2\n",
       "8      2\n",
       "22     1\n",
       "21     1\n",
       "15     1\n",
       "11     1\n",
       "Name: Number of hospitalization days, dtype: int64"
      ]
     },
     "execution_count": 36,
     "metadata": {},
     "output_type": "execute_result"
    }
   ],
   "source": [
    "df['Number of hospitalization days'].value_counts()"
   ]
  },
  {
   "cell_type": "code",
   "execution_count": 37,
   "metadata": {
    "colab": {
     "base_uri": "https://localhost:8080/"
    },
    "id": "siWAgaDDMrLr",
    "outputId": "f0569017-e010-403d-e73a-5cc517499151"
   },
   "outputs": [
    {
     "data": {
      "text/plain": [
       "5    81\n",
       "2    54\n",
       "3    36\n",
       "4    34\n",
       "1    25\n",
       "Name: Target, dtype: int64"
      ]
     },
     "execution_count": 37,
     "metadata": {},
     "output_type": "execute_result"
    }
   ],
   "source": [
    "df['Target'].value_counts()"
   ]
  },
  {
   "cell_type": "code",
   "execution_count": 38,
   "metadata": {
    "colab": {
     "base_uri": "https://localhost:8080/"
    },
    "id": "Fu2fIE2cNdbj",
    "outputId": "f258d005-5f33-466d-bd7d-b07afcf54bb7"
   },
   "outputs": [
    {
     "data": {
      "text/plain": [
       "(230, 25)"
      ]
     },
     "execution_count": 38,
     "metadata": {},
     "output_type": "execute_result"
    }
   ],
   "source": [
    "df=df.drop_duplicates()\n",
    "df.shape"
   ]
  },
  {
   "cell_type": "code",
   "execution_count": 39,
   "metadata": {
    "id": "4Wzsmf-cOFpZ"
   },
   "outputs": [
    {
     "name": "stderr",
     "output_type": "stream",
     "text": [
      "/usr/local/lib/python3.6/dist-packages/ipykernel_launcher.py:1: SettingWithCopyWarning: \n",
      "A value is trying to be set on a copy of a slice from a DataFrame\n",
      "\n",
      "See the caveats in the documentation: https://pandas.pydata.org/pandas-docs/stable/user_guide/indexing.html#returning-a-view-versus-a-copy\n",
      "  \"\"\"Entry point for launching an IPython kernel.\n",
      "/usr/local/lib/python3.6/dist-packages/ipykernel_launcher.py:2: SettingWithCopyWarning: \n",
      "A value is trying to be set on a copy of a slice from a DataFrame\n",
      "\n",
      "See the caveats in the documentation: https://pandas.pydata.org/pandas-docs/stable/user_guide/indexing.html#returning-a-view-versus-a-copy\n",
      "  \n",
      "/usr/local/lib/python3.6/dist-packages/ipykernel_launcher.py:3: SettingWithCopyWarning: \n",
      "A value is trying to be set on a copy of a slice from a DataFrame\n",
      "\n",
      "See the caveats in the documentation: https://pandas.pydata.org/pandas-docs/stable/user_guide/indexing.html#returning-a-view-versus-a-copy\n",
      "  This is separate from the ipykernel package so we can avoid doing imports until\n"
     ]
    }
   ],
   "source": [
    "df['Sex'][df['Sex']=='زن']=0\n",
    "df['Sex'][df['Sex']=='مرد']=1\n",
    "df['Sex'][df['Sex']=='مرد ']=1"
   ]
  },
  {
   "cell_type": "code",
   "execution_count": 40,
   "metadata": {
    "colab": {
     "base_uri": "https://localhost:8080/",
     "height": 292
    },
    "id": "_HpDuSEsOS2A",
    "outputId": "23acc5f3-dcad-4543-b11a-6a591da9cb1f"
   },
   "outputs": [
    {
     "data": {
      "text/html": [
       "<div>\n",
       "<style scoped>\n",
       "    .dataframe tbody tr th:only-of-type {\n",
       "        vertical-align: middle;\n",
       "    }\n",
       "\n",
       "    .dataframe tbody tr th {\n",
       "        vertical-align: top;\n",
       "    }\n",
       "\n",
       "    .dataframe thead th {\n",
       "        text-align: right;\n",
       "    }\n",
       "</style>\n",
       "<table border=\"1\" class=\"dataframe\">\n",
       "  <thead>\n",
       "    <tr style=\"text-align: right;\">\n",
       "      <th></th>\n",
       "      <th>Sex</th>\n",
       "      <th>Age</th>\n",
       "      <th>FBS</th>\n",
       "      <th>CHOL</th>\n",
       "      <th>TG</th>\n",
       "      <th>HDL</th>\n",
       "      <th>LDL</th>\n",
       "      <th>CPK</th>\n",
       "      <th>CPKMB</th>\n",
       "      <th>Hb</th>\n",
       "      <th>...</th>\n",
       "      <th>Heart rate</th>\n",
       "      <th>Diabetes</th>\n",
       "      <th>Smoke</th>\n",
       "      <th>Chest pain</th>\n",
       "      <th>History of shortness of breath</th>\n",
       "      <th>History of heart disease</th>\n",
       "      <th>Family history of heart disease</th>\n",
       "      <th>History of high blood pressure</th>\n",
       "      <th>Number of hospitalization days</th>\n",
       "      <th>Target</th>\n",
       "    </tr>\n",
       "  </thead>\n",
       "  <tbody>\n",
       "    <tr>\n",
       "      <th>0</th>\n",
       "      <td>0</td>\n",
       "      <td>58</td>\n",
       "      <td>110.0</td>\n",
       "      <td>173.0</td>\n",
       "      <td>75.0</td>\n",
       "      <td>67.0</td>\n",
       "      <td>91.0</td>\n",
       "      <td>120.0</td>\n",
       "      <td>19.0</td>\n",
       "      <td>13.5</td>\n",
       "      <td>...</td>\n",
       "      <td>78.0</td>\n",
       "      <td>0.0</td>\n",
       "      <td>0.0</td>\n",
       "      <td>0.0</td>\n",
       "      <td>0</td>\n",
       "      <td>0</td>\n",
       "      <td>1</td>\n",
       "      <td>0</td>\n",
       "      <td>1</td>\n",
       "      <td>4</td>\n",
       "    </tr>\n",
       "    <tr>\n",
       "      <th>1</th>\n",
       "      <td>0</td>\n",
       "      <td>65</td>\n",
       "      <td>100.0</td>\n",
       "      <td>200.0</td>\n",
       "      <td>199.0</td>\n",
       "      <td>41.0</td>\n",
       "      <td>119.2</td>\n",
       "      <td>181.0</td>\n",
       "      <td>20.0</td>\n",
       "      <td>12.2</td>\n",
       "      <td>...</td>\n",
       "      <td>88.0</td>\n",
       "      <td>1.0</td>\n",
       "      <td>0.0</td>\n",
       "      <td>0.0</td>\n",
       "      <td>0</td>\n",
       "      <td>0</td>\n",
       "      <td>1</td>\n",
       "      <td>0</td>\n",
       "      <td>6</td>\n",
       "      <td>3</td>\n",
       "    </tr>\n",
       "    <tr>\n",
       "      <th>2</th>\n",
       "      <td>1</td>\n",
       "      <td>77</td>\n",
       "      <td>70.0</td>\n",
       "      <td>130.0</td>\n",
       "      <td>104.0</td>\n",
       "      <td>60.0</td>\n",
       "      <td>NaN</td>\n",
       "      <td>59.0</td>\n",
       "      <td>15.0</td>\n",
       "      <td>14.0</td>\n",
       "      <td>...</td>\n",
       "      <td>69.0</td>\n",
       "      <td>0.0</td>\n",
       "      <td>0.0</td>\n",
       "      <td>0.0</td>\n",
       "      <td>0</td>\n",
       "      <td>1</td>\n",
       "      <td>1</td>\n",
       "      <td>0</td>\n",
       "      <td>10</td>\n",
       "      <td>4</td>\n",
       "    </tr>\n",
       "    <tr>\n",
       "      <th>3</th>\n",
       "      <td>0</td>\n",
       "      <td>75</td>\n",
       "      <td>108.0</td>\n",
       "      <td>NaN</td>\n",
       "      <td>NaN</td>\n",
       "      <td>NaN</td>\n",
       "      <td>NaN</td>\n",
       "      <td>160.0</td>\n",
       "      <td>19.0</td>\n",
       "      <td>12.2</td>\n",
       "      <td>...</td>\n",
       "      <td>70.0</td>\n",
       "      <td>0.0</td>\n",
       "      <td>1.0</td>\n",
       "      <td>0.0</td>\n",
       "      <td>0</td>\n",
       "      <td>1</td>\n",
       "      <td>0</td>\n",
       "      <td>0</td>\n",
       "      <td>4</td>\n",
       "      <td>2</td>\n",
       "    </tr>\n",
       "    <tr>\n",
       "      <th>4</th>\n",
       "      <td>0</td>\n",
       "      <td>80</td>\n",
       "      <td>85.0</td>\n",
       "      <td>120.0</td>\n",
       "      <td>72.0</td>\n",
       "      <td>42.0</td>\n",
       "      <td>63.6</td>\n",
       "      <td>160.0</td>\n",
       "      <td>17.0</td>\n",
       "      <td>13.7</td>\n",
       "      <td>...</td>\n",
       "      <td>150.0</td>\n",
       "      <td>0.0</td>\n",
       "      <td>1.0</td>\n",
       "      <td>0.0</td>\n",
       "      <td>0</td>\n",
       "      <td>0</td>\n",
       "      <td>0</td>\n",
       "      <td>0</td>\n",
       "      <td>5</td>\n",
       "      <td>2</td>\n",
       "    </tr>\n",
       "  </tbody>\n",
       "</table>\n",
       "<p>5 rows × 25 columns</p>\n",
       "</div>"
      ],
      "text/plain": [
       "  Sex  Age    FBS   CHOL     TG   HDL    LDL    CPK  CPKMB    Hb  ...  \\\n",
       "0   0   58  110.0  173.0   75.0  67.0   91.0  120.0   19.0  13.5  ...   \n",
       "1   0   65  100.0  200.0  199.0  41.0  119.2  181.0   20.0  12.2  ...   \n",
       "2   1   77   70.0  130.0  104.0  60.0    NaN   59.0   15.0  14.0  ...   \n",
       "3   0   75  108.0    NaN    NaN   NaN    NaN  160.0   19.0  12.2  ...   \n",
       "4   0   80   85.0  120.0   72.0  42.0   63.6  160.0   17.0  13.7  ...   \n",
       "\n",
       "   Heart rate  Diabetes  Smoke  Chest pain  History of shortness of breath  \\\n",
       "0        78.0       0.0    0.0         0.0                               0   \n",
       "1        88.0       1.0    0.0         0.0                               0   \n",
       "2        69.0       0.0    0.0         0.0                               0   \n",
       "3        70.0       0.0    1.0         0.0                               0   \n",
       "4       150.0       0.0    1.0         0.0                               0   \n",
       "\n",
       "   History of heart disease  Family history of heart disease  \\\n",
       "0                         0                                1   \n",
       "1                         0                                1   \n",
       "2                         1                                1   \n",
       "3                         1                                0   \n",
       "4                         0                                0   \n",
       "\n",
       "   History of high blood pressure  Number of hospitalization days  Target  \n",
       "0                               0                               1       4  \n",
       "1                               0                               6       3  \n",
       "2                               0                              10       4  \n",
       "3                               0                               4       2  \n",
       "4                               0                               5       2  \n",
       "\n",
       "[5 rows x 25 columns]"
      ]
     },
     "execution_count": 40,
     "metadata": {},
     "output_type": "execute_result"
    }
   ],
   "source": [
    "df.head()"
   ]
  },
  {
   "cell_type": "code",
   "execution_count": 41,
   "metadata": {
    "colab": {
     "base_uri": "https://localhost:8080/"
    },
    "id": "ocLImnjDOX0w",
    "outputId": "3bb68b5b-3bde-4d91-cfb4-61d28a212208"
   },
   "outputs": [
    {
     "data": {
      "text/plain": [
       "Sex                                 object\n",
       "Age                                  int64\n",
       "FBS                                float64\n",
       "CHOL                               float64\n",
       "TG                                 float64\n",
       "HDL                                float64\n",
       "LDL                                float64\n",
       "CPK                                float64\n",
       "CPKMB                              float64\n",
       "Hb                                 float64\n",
       "PT                                 float64\n",
       "PTT                                float64\n",
       "Trop i                             float64\n",
       "BPs                                float64\n",
       "BPd                                float64\n",
       "Heart rate                         float64\n",
       "Diabetes                           float64\n",
       "Smoke                              float64\n",
       "Chest pain                         float64\n",
       "History of shortness of breath       int64\n",
       "History of heart disease             int64\n",
       "Family history of heart disease      int64\n",
       "History of high blood pressure       int64\n",
       "Number of hospitalization days       int64\n",
       "Target                               int64\n",
       "dtype: object"
      ]
     },
     "execution_count": 41,
     "metadata": {},
     "output_type": "execute_result"
    }
   ],
   "source": [
    "df.dtypes"
   ]
  },
  {
   "cell_type": "code",
   "execution_count": 42,
   "metadata": {
    "id": "AhPc4oyAOalS"
   },
   "outputs": [],
   "source": [
    "df['Sex']=df['Sex'].astype('int64')"
   ]
  },
  {
   "cell_type": "code",
   "execution_count": 43,
   "metadata": {
    "colab": {
     "base_uri": "https://localhost:8080/"
    },
    "id": "kX1z9nJIOlpO",
    "outputId": "43866d05-7fe4-4bf5-c2f4-0b72b72c2610"
   },
   "outputs": [
    {
     "data": {
      "text/plain": [
       "Sex                                  int64\n",
       "Age                                  int64\n",
       "FBS                                float64\n",
       "CHOL                               float64\n",
       "TG                                 float64\n",
       "HDL                                float64\n",
       "LDL                                float64\n",
       "CPK                                float64\n",
       "CPKMB                              float64\n",
       "Hb                                 float64\n",
       "PT                                 float64\n",
       "PTT                                float64\n",
       "Trop i                             float64\n",
       "BPs                                float64\n",
       "BPd                                float64\n",
       "Heart rate                         float64\n",
       "Diabetes                           float64\n",
       "Smoke                              float64\n",
       "Chest pain                         float64\n",
       "History of shortness of breath       int64\n",
       "History of heart disease             int64\n",
       "Family history of heart disease      int64\n",
       "History of high blood pressure       int64\n",
       "Number of hospitalization days       int64\n",
       "Target                               int64\n",
       "dtype: object"
      ]
     },
     "execution_count": 43,
     "metadata": {},
     "output_type": "execute_result"
    }
   ],
   "source": [
    "df.dtypes"
   ]
  },
  {
   "cell_type": "code",
   "execution_count": 44,
   "metadata": {
    "colab": {
     "base_uri": "https://localhost:8080/"
    },
    "id": "ySqHxLQj2T_R",
    "outputId": "d9d04ca1-0c46-4152-ad04-7d5bb0a30df2"
   },
   "outputs": [
    {
     "data": {
      "text/plain": [
       "0    118\n",
       "1    112\n",
       "Name: Sex, dtype: int64"
      ]
     },
     "execution_count": 44,
     "metadata": {},
     "output_type": "execute_result"
    }
   ],
   "source": [
    "df.Sex.value_counts()"
   ]
  },
  {
   "cell_type": "code",
   "execution_count": 45,
   "metadata": {
    "id": "QjazWE4LOzXk"
   },
   "outputs": [],
   "source": [
    "X=df.drop('Target', axis=1)\n",
    "y=df.Target"
   ]
  },
  {
   "cell_type": "code",
   "execution_count": 46,
   "metadata": {
    "colab": {
     "base_uri": "https://localhost:8080/",
     "height": 292
    },
    "id": "6fxDWb-TO_VU",
    "outputId": "0f2c3cf6-86c1-45f8-f803-cb42b86b3478"
   },
   "outputs": [
    {
     "data": {
      "text/html": [
       "<div>\n",
       "<style scoped>\n",
       "    .dataframe tbody tr th:only-of-type {\n",
       "        vertical-align: middle;\n",
       "    }\n",
       "\n",
       "    .dataframe tbody tr th {\n",
       "        vertical-align: top;\n",
       "    }\n",
       "\n",
       "    .dataframe thead th {\n",
       "        text-align: right;\n",
       "    }\n",
       "</style>\n",
       "<table border=\"1\" class=\"dataframe\">\n",
       "  <thead>\n",
       "    <tr style=\"text-align: right;\">\n",
       "      <th></th>\n",
       "      <th>Sex</th>\n",
       "      <th>Age</th>\n",
       "      <th>FBS</th>\n",
       "      <th>CHOL</th>\n",
       "      <th>TG</th>\n",
       "      <th>HDL</th>\n",
       "      <th>LDL</th>\n",
       "      <th>CPK</th>\n",
       "      <th>CPKMB</th>\n",
       "      <th>Hb</th>\n",
       "      <th>...</th>\n",
       "      <th>BPd</th>\n",
       "      <th>Heart rate</th>\n",
       "      <th>Diabetes</th>\n",
       "      <th>Smoke</th>\n",
       "      <th>Chest pain</th>\n",
       "      <th>History of shortness of breath</th>\n",
       "      <th>History of heart disease</th>\n",
       "      <th>Family history of heart disease</th>\n",
       "      <th>History of high blood pressure</th>\n",
       "      <th>Number of hospitalization days</th>\n",
       "    </tr>\n",
       "  </thead>\n",
       "  <tbody>\n",
       "    <tr>\n",
       "      <th>0</th>\n",
       "      <td>0</td>\n",
       "      <td>58</td>\n",
       "      <td>110.0</td>\n",
       "      <td>173.0</td>\n",
       "      <td>75.0</td>\n",
       "      <td>67.0</td>\n",
       "      <td>91.0</td>\n",
       "      <td>120.0</td>\n",
       "      <td>19.0</td>\n",
       "      <td>13.5</td>\n",
       "      <td>...</td>\n",
       "      <td>69.0</td>\n",
       "      <td>78.0</td>\n",
       "      <td>0.0</td>\n",
       "      <td>0.0</td>\n",
       "      <td>0.0</td>\n",
       "      <td>0</td>\n",
       "      <td>0</td>\n",
       "      <td>1</td>\n",
       "      <td>0</td>\n",
       "      <td>1</td>\n",
       "    </tr>\n",
       "    <tr>\n",
       "      <th>1</th>\n",
       "      <td>0</td>\n",
       "      <td>65</td>\n",
       "      <td>100.0</td>\n",
       "      <td>200.0</td>\n",
       "      <td>199.0</td>\n",
       "      <td>41.0</td>\n",
       "      <td>119.2</td>\n",
       "      <td>181.0</td>\n",
       "      <td>20.0</td>\n",
       "      <td>12.2</td>\n",
       "      <td>...</td>\n",
       "      <td>70.0</td>\n",
       "      <td>88.0</td>\n",
       "      <td>1.0</td>\n",
       "      <td>0.0</td>\n",
       "      <td>0.0</td>\n",
       "      <td>0</td>\n",
       "      <td>0</td>\n",
       "      <td>1</td>\n",
       "      <td>0</td>\n",
       "      <td>6</td>\n",
       "    </tr>\n",
       "    <tr>\n",
       "      <th>2</th>\n",
       "      <td>1</td>\n",
       "      <td>77</td>\n",
       "      <td>70.0</td>\n",
       "      <td>130.0</td>\n",
       "      <td>104.0</td>\n",
       "      <td>60.0</td>\n",
       "      <td>NaN</td>\n",
       "      <td>59.0</td>\n",
       "      <td>15.0</td>\n",
       "      <td>14.0</td>\n",
       "      <td>...</td>\n",
       "      <td>60.0</td>\n",
       "      <td>69.0</td>\n",
       "      <td>0.0</td>\n",
       "      <td>0.0</td>\n",
       "      <td>0.0</td>\n",
       "      <td>0</td>\n",
       "      <td>1</td>\n",
       "      <td>1</td>\n",
       "      <td>0</td>\n",
       "      <td>10</td>\n",
       "    </tr>\n",
       "    <tr>\n",
       "      <th>3</th>\n",
       "      <td>0</td>\n",
       "      <td>75</td>\n",
       "      <td>108.0</td>\n",
       "      <td>NaN</td>\n",
       "      <td>NaN</td>\n",
       "      <td>NaN</td>\n",
       "      <td>NaN</td>\n",
       "      <td>160.0</td>\n",
       "      <td>19.0</td>\n",
       "      <td>12.2</td>\n",
       "      <td>...</td>\n",
       "      <td>80.0</td>\n",
       "      <td>70.0</td>\n",
       "      <td>0.0</td>\n",
       "      <td>1.0</td>\n",
       "      <td>0.0</td>\n",
       "      <td>0</td>\n",
       "      <td>1</td>\n",
       "      <td>0</td>\n",
       "      <td>0</td>\n",
       "      <td>4</td>\n",
       "    </tr>\n",
       "    <tr>\n",
       "      <th>4</th>\n",
       "      <td>0</td>\n",
       "      <td>80</td>\n",
       "      <td>85.0</td>\n",
       "      <td>120.0</td>\n",
       "      <td>72.0</td>\n",
       "      <td>42.0</td>\n",
       "      <td>63.6</td>\n",
       "      <td>160.0</td>\n",
       "      <td>17.0</td>\n",
       "      <td>13.7</td>\n",
       "      <td>...</td>\n",
       "      <td>93.0</td>\n",
       "      <td>150.0</td>\n",
       "      <td>0.0</td>\n",
       "      <td>1.0</td>\n",
       "      <td>0.0</td>\n",
       "      <td>0</td>\n",
       "      <td>0</td>\n",
       "      <td>0</td>\n",
       "      <td>0</td>\n",
       "      <td>5</td>\n",
       "    </tr>\n",
       "  </tbody>\n",
       "</table>\n",
       "<p>5 rows × 24 columns</p>\n",
       "</div>"
      ],
      "text/plain": [
       "   Sex  Age    FBS   CHOL     TG   HDL    LDL    CPK  CPKMB    Hb  ...   BPd  \\\n",
       "0    0   58  110.0  173.0   75.0  67.0   91.0  120.0   19.0  13.5  ...  69.0   \n",
       "1    0   65  100.0  200.0  199.0  41.0  119.2  181.0   20.0  12.2  ...  70.0   \n",
       "2    1   77   70.0  130.0  104.0  60.0    NaN   59.0   15.0  14.0  ...  60.0   \n",
       "3    0   75  108.0    NaN    NaN   NaN    NaN  160.0   19.0  12.2  ...  80.0   \n",
       "4    0   80   85.0  120.0   72.0  42.0   63.6  160.0   17.0  13.7  ...  93.0   \n",
       "\n",
       "   Heart rate  Diabetes  Smoke  Chest pain  History of shortness of breath  \\\n",
       "0        78.0       0.0    0.0         0.0                               0   \n",
       "1        88.0       1.0    0.0         0.0                               0   \n",
       "2        69.0       0.0    0.0         0.0                               0   \n",
       "3        70.0       0.0    1.0         0.0                               0   \n",
       "4       150.0       0.0    1.0         0.0                               0   \n",
       "\n",
       "   History of heart disease  Family history of heart disease  \\\n",
       "0                         0                                1   \n",
       "1                         0                                1   \n",
       "2                         1                                1   \n",
       "3                         1                                0   \n",
       "4                         0                                0   \n",
       "\n",
       "   History of high blood pressure  Number of hospitalization days  \n",
       "0                               0                               1  \n",
       "1                               0                               6  \n",
       "2                               0                              10  \n",
       "3                               0                               4  \n",
       "4                               0                               5  \n",
       "\n",
       "[5 rows x 24 columns]"
      ]
     },
     "execution_count": 46,
     "metadata": {},
     "output_type": "execute_result"
    }
   ],
   "source": [
    "X.head()"
   ]
  },
  {
   "cell_type": "code",
   "execution_count": 47,
   "metadata": {
    "id": "7QY9JPAy3IEL"
   },
   "outputs": [],
   "source": [
    "messy_df=df"
   ]
  },
  {
   "cell_type": "code",
   "execution_count": 48,
   "metadata": {
    "id": "KO7Ue881PBQk"
   },
   "outputs": [],
   "source": [
    "colnames=['FBS','CHOL','TG','HDL','LDL','CPK','CPKMB','Hb','PT','PTT','Trop i',\n",
    "          'BPs','BPd','Heart rate','Diabetes','Smoke','Chest pain'] \n",
    "\n",
    "def  approach2_impute_metric(messy_df, metric, colnames):\n",
    "    \n",
    "    # Create X_df of predictor columns\n",
    "    X_df = messy_df.drop(colnames, axis = 1)\n",
    "    \n",
    "    # Create Y_df of predicted columns\n",
    "    Y_df = messy_df[colnames]\n",
    "        \n",
    "    # Create empty dataframes and list\n",
    "    Y_pred_df = pd.DataFrame(columns=colnames)\n",
    "    Y_missing_df = pd.DataFrame(columns=colnames)\n",
    "    missing_list = []\n",
    "    \n",
    "    # Loop through all columns containing missing values\n",
    "    for col in messy_df[colnames]:\n",
    "    \n",
    "        # Number of missing values in the column\n",
    "        missing_count = messy_df[col].isnull().sum()\n",
    "        \n",
    "        # Separate train dataset which does not contain missing values\n",
    "        messy_df_train = messy_df[~messy_df[col].isnull()]\n",
    "        \n",
    "        # Create X and Y within train dataset\n",
    "        msg_cols_train_df = messy_df_train[col]\n",
    "        messy_df_train = messy_df_train.drop(colnames, axis = 1)\n",
    "\n",
    "        # Create test dataset, containing missing values in Y    \n",
    "        messy_df_test = messy_df[messy_df[col].isnull()]\n",
    "        \n",
    "        # Separate X and Y in test dataset\n",
    "        msg_cols_test_df = messy_df_test[col]\n",
    "        messy_df_test = messy_df_test.drop(colnames,axis = 1)\n",
    "\n",
    "        # Copy X_train and Y_train\n",
    "        Y_train = msg_cols_train_df.copy()\n",
    "        X_train = messy_df_train.copy()\n",
    "        \n",
    "        # Linear Regression model\n",
    "        if metric == \"Linear Regression\":\n",
    "            model = LinearRegression()\n",
    "            model.fit(X_train,Y_train)\n",
    "            print(\"R-squared value is: \" + str(model.score(X_train, Y_train)))\n",
    "          \n",
    "        # Random Forests regression model\n",
    "        elif metric == \"Random Forests\":\n",
    "            model = RandomForestRegressor(n_estimators = 50 , oob_score = True, max_depth=10)\n",
    "            model.fit(X_train,Y_train) \n",
    "                   \n",
    "        X_test = messy_df_test.copy()\n",
    "        \n",
    "        # Predict Y_test values by passing X_test as input to the model\n",
    "        Y_test = model.predict(X_test)\n",
    "        \n",
    "        Y_test_integer = pd.to_numeric(pd.Series(Y_test),downcast='integer')\n",
    "        \n",
    "        # Append predicted Y values to known Y values\n",
    "        Y_complete = Y_train.append(Y_test_integer)\n",
    "        Y_complete = Y_complete.reset_index(drop = True)\n",
    "        \n",
    "        # Update list of missing values\n",
    "        missing_list.append(Y_test.tolist())\n",
    "        \n",
    "        Y_pred_df[col] = Y_complete\n",
    "        Y_pred_df = Y_pred_df.reset_index(drop = True)\n",
    "    \n",
    "    # Create cleaned up dataframe\n",
    "    clean_df = X_df.join(Y_pred_df)\n",
    "    \n",
    "    return clean_df, missing_list"
   ]
  },
  {
   "cell_type": "code",
   "execution_count": 49,
   "metadata": {
    "colab": {
     "base_uri": "https://localhost:8080/"
    },
    "id": "3ik7ayLj7QEi",
    "outputId": "052c5afa-ac55-4cae-a5ab-cfabd8559427"
   },
   "outputs": [
    {
     "data": {
      "text/plain": [
       "Sex                                 0\n",
       "Age                                 0\n",
       "FBS                                24\n",
       "CHOL                               25\n",
       "TG                                 26\n",
       "HDL                                29\n",
       "LDL                                62\n",
       "CPK                                18\n",
       "CPKMB                              15\n",
       "Hb                                 10\n",
       "PT                                 21\n",
       "PTT                                17\n",
       "Trop i                              5\n",
       "BPs                                 2\n",
       "BPd                                 2\n",
       "Heart rate                          2\n",
       "Diabetes                            1\n",
       "Smoke                               1\n",
       "Chest pain                          1\n",
       "History of shortness of breath      0\n",
       "History of heart disease            0\n",
       "Family history of heart disease     0\n",
       "History of high blood pressure      0\n",
       "Number of hospitalization days      0\n",
       "Target                              0\n",
       "dtype: int64"
      ]
     },
     "execution_count": 49,
     "metadata": {},
     "output_type": "execute_result"
    }
   ],
   "source": [
    "df.isnull().sum()"
   ]
  },
  {
   "cell_type": "code",
   "execution_count": 57,
   "metadata": {
    "colab": {
     "base_uri": "https://localhost:8080/"
    },
    "id": "cP2WzkB15E-B",
    "outputId": "b8415ca5-aaab-4868-c938-f10c81def622"
   },
   "outputs": [],
   "source": [
    "cleanDF, missList = approach2_impute_metric(messy_df,\"Random Forests\", colnames)"
   ]
  },
  {
   "cell_type": "code",
   "execution_count": 58,
   "metadata": {
    "id": "nx9GcdOpKbVR"
   },
   "outputs": [
    {
     "data": {
      "text/html": [
       "<div>\n",
       "<style scoped>\n",
       "    .dataframe tbody tr th:only-of-type {\n",
       "        vertical-align: middle;\n",
       "    }\n",
       "\n",
       "    .dataframe tbody tr th {\n",
       "        vertical-align: top;\n",
       "    }\n",
       "\n",
       "    .dataframe thead th {\n",
       "        text-align: right;\n",
       "    }\n",
       "</style>\n",
       "<table border=\"1\" class=\"dataframe\">\n",
       "  <thead>\n",
       "    <tr style=\"text-align: right;\">\n",
       "      <th></th>\n",
       "      <th>Sex</th>\n",
       "      <th>Age</th>\n",
       "      <th>History of shortness of breath</th>\n",
       "      <th>History of heart disease</th>\n",
       "      <th>Family history of heart disease</th>\n",
       "      <th>History of high blood pressure</th>\n",
       "      <th>Number of hospitalization days</th>\n",
       "      <th>Target</th>\n",
       "      <th>FBS</th>\n",
       "      <th>CHOL</th>\n",
       "      <th>...</th>\n",
       "      <th>Hb</th>\n",
       "      <th>PT</th>\n",
       "      <th>PTT</th>\n",
       "      <th>Trop i</th>\n",
       "      <th>BPs</th>\n",
       "      <th>BPd</th>\n",
       "      <th>Heart rate</th>\n",
       "      <th>Diabetes</th>\n",
       "      <th>Smoke</th>\n",
       "      <th>Chest pain</th>\n",
       "    </tr>\n",
       "  </thead>\n",
       "  <tbody>\n",
       "    <tr>\n",
       "      <th>0</th>\n",
       "      <td>0</td>\n",
       "      <td>58</td>\n",
       "      <td>0</td>\n",
       "      <td>0</td>\n",
       "      <td>1</td>\n",
       "      <td>0</td>\n",
       "      <td>1</td>\n",
       "      <td>4</td>\n",
       "      <td>110.000000</td>\n",
       "      <td>173.000000</td>\n",
       "      <td>...</td>\n",
       "      <td>13.500000</td>\n",
       "      <td>12.000000</td>\n",
       "      <td>37.000000</td>\n",
       "      <td>0.00</td>\n",
       "      <td>126.000000</td>\n",
       "      <td>69.000000</td>\n",
       "      <td>78.000000</td>\n",
       "      <td>0.0</td>\n",
       "      <td>0.0</td>\n",
       "      <td>0.00</td>\n",
       "    </tr>\n",
       "    <tr>\n",
       "      <th>1</th>\n",
       "      <td>0</td>\n",
       "      <td>65</td>\n",
       "      <td>0</td>\n",
       "      <td>0</td>\n",
       "      <td>1</td>\n",
       "      <td>0</td>\n",
       "      <td>6</td>\n",
       "      <td>3</td>\n",
       "      <td>100.000000</td>\n",
       "      <td>200.000000</td>\n",
       "      <td>...</td>\n",
       "      <td>12.200000</td>\n",
       "      <td>12.000000</td>\n",
       "      <td>30.000000</td>\n",
       "      <td>1.00</td>\n",
       "      <td>110.000000</td>\n",
       "      <td>70.000000</td>\n",
       "      <td>88.000000</td>\n",
       "      <td>1.0</td>\n",
       "      <td>0.0</td>\n",
       "      <td>0.00</td>\n",
       "    </tr>\n",
       "    <tr>\n",
       "      <th>2</th>\n",
       "      <td>1</td>\n",
       "      <td>77</td>\n",
       "      <td>0</td>\n",
       "      <td>1</td>\n",
       "      <td>1</td>\n",
       "      <td>0</td>\n",
       "      <td>10</td>\n",
       "      <td>4</td>\n",
       "      <td>70.000000</td>\n",
       "      <td>130.000000</td>\n",
       "      <td>...</td>\n",
       "      <td>14.000000</td>\n",
       "      <td>30.000000</td>\n",
       "      <td>45.000000</td>\n",
       "      <td>0.00</td>\n",
       "      <td>130.000000</td>\n",
       "      <td>60.000000</td>\n",
       "      <td>69.000000</td>\n",
       "      <td>0.0</td>\n",
       "      <td>0.0</td>\n",
       "      <td>0.00</td>\n",
       "    </tr>\n",
       "    <tr>\n",
       "      <th>3</th>\n",
       "      <td>0</td>\n",
       "      <td>75</td>\n",
       "      <td>0</td>\n",
       "      <td>1</td>\n",
       "      <td>0</td>\n",
       "      <td>0</td>\n",
       "      <td>4</td>\n",
       "      <td>2</td>\n",
       "      <td>108.000000</td>\n",
       "      <td>120.000000</td>\n",
       "      <td>...</td>\n",
       "      <td>12.200000</td>\n",
       "      <td>12.600000</td>\n",
       "      <td>30.000000</td>\n",
       "      <td>0.00</td>\n",
       "      <td>130.000000</td>\n",
       "      <td>80.000000</td>\n",
       "      <td>70.000000</td>\n",
       "      <td>0.0</td>\n",
       "      <td>1.0</td>\n",
       "      <td>0.00</td>\n",
       "    </tr>\n",
       "    <tr>\n",
       "      <th>4</th>\n",
       "      <td>0</td>\n",
       "      <td>80</td>\n",
       "      <td>0</td>\n",
       "      <td>0</td>\n",
       "      <td>0</td>\n",
       "      <td>0</td>\n",
       "      <td>5</td>\n",
       "      <td>2</td>\n",
       "      <td>85.000000</td>\n",
       "      <td>179.000000</td>\n",
       "      <td>...</td>\n",
       "      <td>13.700000</td>\n",
       "      <td>12.000000</td>\n",
       "      <td>30.000000</td>\n",
       "      <td>0.00</td>\n",
       "      <td>142.000000</td>\n",
       "      <td>93.000000</td>\n",
       "      <td>150.000000</td>\n",
       "      <td>0.0</td>\n",
       "      <td>1.0</td>\n",
       "      <td>0.00</td>\n",
       "    </tr>\n",
       "    <tr>\n",
       "      <th>...</th>\n",
       "      <td>...</td>\n",
       "      <td>...</td>\n",
       "      <td>...</td>\n",
       "      <td>...</td>\n",
       "      <td>...</td>\n",
       "      <td>...</td>\n",
       "      <td>...</td>\n",
       "      <td>...</td>\n",
       "      <td>...</td>\n",
       "      <td>...</td>\n",
       "      <td>...</td>\n",
       "      <td>...</td>\n",
       "      <td>...</td>\n",
       "      <td>...</td>\n",
       "      <td>...</td>\n",
       "      <td>...</td>\n",
       "      <td>...</td>\n",
       "      <td>...</td>\n",
       "      <td>...</td>\n",
       "      <td>...</td>\n",
       "      <td>...</td>\n",
       "    </tr>\n",
       "    <tr>\n",
       "      <th>225</th>\n",
       "      <td>1</td>\n",
       "      <td>66</td>\n",
       "      <td>0</td>\n",
       "      <td>1</td>\n",
       "      <td>0</td>\n",
       "      <td>0</td>\n",
       "      <td>3</td>\n",
       "      <td>2</td>\n",
       "      <td>142.605005</td>\n",
       "      <td>179.364030</td>\n",
       "      <td>...</td>\n",
       "      <td>14.553500</td>\n",
       "      <td>12.861461</td>\n",
       "      <td>36.646124</td>\n",
       "      <td>0.00</td>\n",
       "      <td>150.000000</td>\n",
       "      <td>90.000000</td>\n",
       "      <td>70.000000</td>\n",
       "      <td>0.0</td>\n",
       "      <td>1.0</td>\n",
       "      <td>0.00</td>\n",
       "    </tr>\n",
       "    <tr>\n",
       "      <th>226</th>\n",
       "      <td>1</td>\n",
       "      <td>82</td>\n",
       "      <td>0</td>\n",
       "      <td>0</td>\n",
       "      <td>0</td>\n",
       "      <td>0</td>\n",
       "      <td>3</td>\n",
       "      <td>2</td>\n",
       "      <td>124.428000</td>\n",
       "      <td>177.979333</td>\n",
       "      <td>...</td>\n",
       "      <td>15.582161</td>\n",
       "      <td>13.504727</td>\n",
       "      <td>34.286000</td>\n",
       "      <td>0.05</td>\n",
       "      <td>170.000000</td>\n",
       "      <td>100.000000</td>\n",
       "      <td>110.000000</td>\n",
       "      <td>0.0</td>\n",
       "      <td>1.0</td>\n",
       "      <td>0.00</td>\n",
       "    </tr>\n",
       "    <tr>\n",
       "      <th>227</th>\n",
       "      <td>1</td>\n",
       "      <td>62</td>\n",
       "      <td>0</td>\n",
       "      <td>1</td>\n",
       "      <td>0</td>\n",
       "      <td>0</td>\n",
       "      <td>3</td>\n",
       "      <td>2</td>\n",
       "      <td>96.191543</td>\n",
       "      <td>120.888000</td>\n",
       "      <td>...</td>\n",
       "      <td>13.568980</td>\n",
       "      <td>13.629533</td>\n",
       "      <td>35.078063</td>\n",
       "      <td>0.02</td>\n",
       "      <td>126.000000</td>\n",
       "      <td>75.000000</td>\n",
       "      <td>75.000000</td>\n",
       "      <td>0.0</td>\n",
       "      <td>0.0</td>\n",
       "      <td>0.00</td>\n",
       "    </tr>\n",
       "    <tr>\n",
       "      <th>228</th>\n",
       "      <td>0</td>\n",
       "      <td>66</td>\n",
       "      <td>0</td>\n",
       "      <td>1</td>\n",
       "      <td>1</td>\n",
       "      <td>0</td>\n",
       "      <td>4</td>\n",
       "      <td>4</td>\n",
       "      <td>111.057333</td>\n",
       "      <td>153.920814</td>\n",
       "      <td>...</td>\n",
       "      <td>12.821333</td>\n",
       "      <td>12.268256</td>\n",
       "      <td>33.092201</td>\n",
       "      <td>0.08</td>\n",
       "      <td>134.196778</td>\n",
       "      <td>75.913897</td>\n",
       "      <td>70.760092</td>\n",
       "      <td>0.0</td>\n",
       "      <td>1.0</td>\n",
       "      <td>0.00</td>\n",
       "    </tr>\n",
       "    <tr>\n",
       "      <th>229</th>\n",
       "      <td>1</td>\n",
       "      <td>62</td>\n",
       "      <td>0</td>\n",
       "      <td>0</td>\n",
       "      <td>1</td>\n",
       "      <td>0</td>\n",
       "      <td>5</td>\n",
       "      <td>4</td>\n",
       "      <td>135.069441</td>\n",
       "      <td>217.817071</td>\n",
       "      <td>...</td>\n",
       "      <td>15.952500</td>\n",
       "      <td>12.223052</td>\n",
       "      <td>31.793899</td>\n",
       "      <td>0.36</td>\n",
       "      <td>113.247778</td>\n",
       "      <td>78.911667</td>\n",
       "      <td>77.766103</td>\n",
       "      <td>0.0</td>\n",
       "      <td>0.0</td>\n",
       "      <td>0.44</td>\n",
       "    </tr>\n",
       "  </tbody>\n",
       "</table>\n",
       "<p>230 rows × 25 columns</p>\n",
       "</div>"
      ],
      "text/plain": [
       "     Sex  Age  History of shortness of breath  History of heart disease  \\\n",
       "0      0   58                               0                         0   \n",
       "1      0   65                               0                         0   \n",
       "2      1   77                               0                         1   \n",
       "3      0   75                               0                         1   \n",
       "4      0   80                               0                         0   \n",
       "..   ...  ...                             ...                       ...   \n",
       "225    1   66                               0                         1   \n",
       "226    1   82                               0                         0   \n",
       "227    1   62                               0                         1   \n",
       "228    0   66                               0                         1   \n",
       "229    1   62                               0                         0   \n",
       "\n",
       "     Family history of heart disease  History of high blood pressure  \\\n",
       "0                                  1                               0   \n",
       "1                                  1                               0   \n",
       "2                                  1                               0   \n",
       "3                                  0                               0   \n",
       "4                                  0                               0   \n",
       "..                               ...                             ...   \n",
       "225                                0                               0   \n",
       "226                                0                               0   \n",
       "227                                0                               0   \n",
       "228                                1                               0   \n",
       "229                                1                               0   \n",
       "\n",
       "     Number of hospitalization days  Target         FBS        CHOL  ...  \\\n",
       "0                                 1       4  110.000000  173.000000  ...   \n",
       "1                                 6       3  100.000000  200.000000  ...   \n",
       "2                                10       4   70.000000  130.000000  ...   \n",
       "3                                 4       2  108.000000  120.000000  ...   \n",
       "4                                 5       2   85.000000  179.000000  ...   \n",
       "..                              ...     ...         ...         ...  ...   \n",
       "225                               3       2  142.605005  179.364030  ...   \n",
       "226                               3       2  124.428000  177.979333  ...   \n",
       "227                               3       2   96.191543  120.888000  ...   \n",
       "228                               4       4  111.057333  153.920814  ...   \n",
       "229                               5       4  135.069441  217.817071  ...   \n",
       "\n",
       "            Hb         PT        PTT  Trop i         BPs         BPd  \\\n",
       "0    13.500000  12.000000  37.000000    0.00  126.000000   69.000000   \n",
       "1    12.200000  12.000000  30.000000    1.00  110.000000   70.000000   \n",
       "2    14.000000  30.000000  45.000000    0.00  130.000000   60.000000   \n",
       "3    12.200000  12.600000  30.000000    0.00  130.000000   80.000000   \n",
       "4    13.700000  12.000000  30.000000    0.00  142.000000   93.000000   \n",
       "..         ...        ...        ...     ...         ...         ...   \n",
       "225  14.553500  12.861461  36.646124    0.00  150.000000   90.000000   \n",
       "226  15.582161  13.504727  34.286000    0.05  170.000000  100.000000   \n",
       "227  13.568980  13.629533  35.078063    0.02  126.000000   75.000000   \n",
       "228  12.821333  12.268256  33.092201    0.08  134.196778   75.913897   \n",
       "229  15.952500  12.223052  31.793899    0.36  113.247778   78.911667   \n",
       "\n",
       "     Heart rate  Diabetes  Smoke  Chest pain  \n",
       "0     78.000000       0.0    0.0        0.00  \n",
       "1     88.000000       1.0    0.0        0.00  \n",
       "2     69.000000       0.0    0.0        0.00  \n",
       "3     70.000000       0.0    1.0        0.00  \n",
       "4    150.000000       0.0    1.0        0.00  \n",
       "..          ...       ...    ...         ...  \n",
       "225   70.000000       0.0    1.0        0.00  \n",
       "226  110.000000       0.0    1.0        0.00  \n",
       "227   75.000000       0.0    0.0        0.00  \n",
       "228   70.760092       0.0    1.0        0.00  \n",
       "229   77.766103       0.0    0.0        0.44  \n",
       "\n",
       "[230 rows x 25 columns]"
      ]
     },
     "execution_count": 58,
     "metadata": {},
     "output_type": "execute_result"
    }
   ],
   "source": [
    "cleanDF"
   ]
  },
  {
   "cell_type": "code",
   "execution_count": 59,
   "metadata": {},
   "outputs": [
    {
     "data": {
      "text/plain": [
       "[[164.02378787878789,\n",
       "  104.09015312791786,\n",
       "  92.32977777777778,\n",
       "  125.44164502164502,\n",
       "  92.31194444444445,\n",
       "  94.45466666666667,\n",
       "  121.25466666666667,\n",
       "  92.95926923076922,\n",
       "  126.62,\n",
       "  106.5,\n",
       "  114.44463509018689,\n",
       "  122.22787537462538,\n",
       "  130.33713607960664,\n",
       "  99.43423015873017,\n",
       "  142.605004731983,\n",
       "  101.99000000000002,\n",
       "  97.8,\n",
       "  100.9251544011544,\n",
       "  99.32984126984127,\n",
       "  142.605004731983,\n",
       "  124.428,\n",
       "  96.19154345327875,\n",
       "  111.05733333333333,\n",
       "  135.06944077339728],\n",
       " [138.05055555555555,\n",
       "  162.83535714285713,\n",
       "  154.84302972686544,\n",
       "  163.96672222222224,\n",
       "  152.24488095238092,\n",
       "  138.468,\n",
       "  163.41083333333333,\n",
       "  180.44783333333334,\n",
       "  144.89761904761906,\n",
       "  179.98835497835498,\n",
       "  182.2805,\n",
       "  153.87333333333333,\n",
       "  162.791,\n",
       "  171.1755,\n",
       "  189.4386334776335,\n",
       "  214.26136075036075,\n",
       "  124.40799999999999,\n",
       "  150.21428571428572,\n",
       "  167.62099999999998,\n",
       "  166.5972222222222,\n",
       "  179.3640303030303,\n",
       "  177.97933333333333,\n",
       "  120.88799999999999,\n",
       "  153.92081419729695,\n",
       "  217.8170707070707],\n",
       " [175.79220512820513,\n",
       "  187.9766666666667,\n",
       "  141.21766666666664,\n",
       "  83.18966666666667,\n",
       "  114.8489393939394,\n",
       "  96.56,\n",
       "  110.24,\n",
       "  123.22476190476189,\n",
       "  133.68333333333334,\n",
       "  134.7571182501709,\n",
       "  98.75142857142856,\n",
       "  140.084,\n",
       "  151.9959523809524,\n",
       "  87.40666666666668,\n",
       "  169.49917239602502,\n",
       "  241.2079365762892,\n",
       "  224.6520936081463,\n",
       "  80.4,\n",
       "  148.7,\n",
       "  80.0525,\n",
       "  80.5525,\n",
       "  224.6520936081463,\n",
       "  100.64209523809522,\n",
       "  149.38,\n",
       "  166.0509318394024,\n",
       "  199.0782308042834],\n",
       " [51.286,\n",
       "  39.174447293447294,\n",
       "  50.211999999999996,\n",
       "  38.33749491249491,\n",
       "  61.546527777777776,\n",
       "  48.93,\n",
       "  57.53800000000001,\n",
       "  53.984705882352934,\n",
       "  52.473333333333336,\n",
       "  51.90248366013072,\n",
       "  43.91698400258745,\n",
       "  43.31427272727273,\n",
       "  55.04748366013072,\n",
       "  45.21151515151516,\n",
       "  42.92,\n",
       "  58.56470588235294,\n",
       "  49.06709498344793,\n",
       "  52.640858946608944,\n",
       "  45.27255952380952,\n",
       "  49.872,\n",
       "  42.547894736842096,\n",
       "  47.95338095238095,\n",
       "  42.85514285714285,\n",
       "  45.27255952380952,\n",
       "  58.04,\n",
       "  37.75246019306364,\n",
       "  46.61586206896552,\n",
       "  40.584134796238246,\n",
       "  61.55666666666666],\n",
       " [88.352,\n",
       "  83.17513015873016,\n",
       "  101.85300000000001,\n",
       "  93.6987454212454,\n",
       "  120.05033333333333,\n",
       "  84.8544,\n",
       "  97.71653333333333,\n",
       "  86.86898771929823,\n",
       "  97.31200000000003,\n",
       "  83.94191111111111,\n",
       "  102.71200000000003,\n",
       "  72.00441111111112,\n",
       "  54.89999999999999,\n",
       "  75.77506666666667,\n",
       "  117.0919103641456,\n",
       "  78.57512380952382,\n",
       "  73.24,\n",
       "  102.91999999999996,\n",
       "  91.30089999999998,\n",
       "  82.37200000000001,\n",
       "  85.06749956709956,\n",
       "  124.25459607843133,\n",
       "  93.162,\n",
       "  146.46933333333334,\n",
       "  103.73249999999996,\n",
       "  113.42661666666667,\n",
       "  107.61390476190473,\n",
       "  88.5819411764706,\n",
       "  98.03795555555557,\n",
       "  71.55533333333332,\n",
       "  220.25308771929832,\n",
       "  81.192,\n",
       "  186.6621710526316,\n",
       "  113.26325438596491,\n",
       "  94.47733333333332,\n",
       "  89.5312380952381,\n",
       "  71.34813333333332,\n",
       "  88.6755047619047,\n",
       "  100.36401736694681,\n",
       "  131.82000000000005,\n",
       "  66.74746666666667,\n",
       "  109.4923,\n",
       "  99.4257333333333,\n",
       "  101.11619999999999,\n",
       "  100.36401736694681,\n",
       "  97.4418333333333,\n",
       "  101.804,\n",
       "  83.03802380952382,\n",
       "  78.19490909090909,\n",
       "  95.91961904761902,\n",
       "  134.8968,\n",
       "  85.06749956709956,\n",
       "  92.65895238095237,\n",
       "  72.17733333333332,\n",
       "  97.42539393939394,\n",
       "  97.40833333333335,\n",
       "  81.81399999999998,\n",
       "  99.84,\n",
       "  126.56465690697334,\n",
       "  123.43497142857144,\n",
       "  88.66842857142859,\n",
       "  118.08373333333334],\n",
       " [362.9973333333333,\n",
       "  356.08666666666664,\n",
       "  122.23344444444444,\n",
       "  119.02300854700856,\n",
       "  178.27703138528142,\n",
       "  511.14566666666667,\n",
       "  86.47167434715823,\n",
       "  119.9196267281106,\n",
       "  89.09616138136583,\n",
       "  534.072,\n",
       "  85.27803252982523,\n",
       "  120.23064102564105,\n",
       "  186.61833333333337,\n",
       "  270.625,\n",
       "  513.8685957317535,\n",
       "  272.9633333333333,\n",
       "  116.50868220015278,\n",
       "  153.52760350499173],\n",
       " [23.611857142857144,\n",
       "  15.439364357864356,\n",
       "  20.39442857142857,\n",
       "  13.486666666666668,\n",
       "  35.22,\n",
       "  15.079666666666666,\n",
       "  11.893333333333334,\n",
       "  60.06613492063492,\n",
       "  10.481166666666669,\n",
       "  17.084857142857146,\n",
       "  26.304285714285715,\n",
       "  27.494560606060602,\n",
       "  50.707779668607266,\n",
       "  46.09933333333333,\n",
       "  17.430967032967033],\n",
       " [13.30899572423191,\n",
       "  16.732866666666656,\n",
       "  13.095119640082146,\n",
       "  13.96771363022942,\n",
       "  14.032046064461856,\n",
       "  14.553500000000001,\n",
       "  15.582160606060604,\n",
       "  13.568979866478546,\n",
       "  12.821333333333332,\n",
       "  15.952499999999992],\n",
       " [14.152000000000001,\n",
       "  14.711776341305756,\n",
       "  12.698813725490195,\n",
       "  12.386100732600735,\n",
       "  24.613574242424242,\n",
       "  14.394000000000004,\n",
       "  13.165207571657234,\n",
       "  12.8028,\n",
       "  12.866133333333334,\n",
       "  13.060774847701317,\n",
       "  13.441221600948072,\n",
       "  12.344364912280703,\n",
       "  12.931999999999999,\n",
       "  13.000000000000002,\n",
       "  12.519785714285716,\n",
       "  13.842770773086563,\n",
       "  12.861460606060605,\n",
       "  13.504727272727273,\n",
       "  13.629533333333331,\n",
       "  12.268255777252811,\n",
       "  12.223051747014598],\n",
       " [37.3723819764465,\n",
       "  32.82099322734272,\n",
       "  40.71333333333334,\n",
       "  37.74219047619047,\n",
       "  34.39538801898584,\n",
       "  33.87744087026792,\n",
       "  32.712809917886965,\n",
       "  36.522190476190474,\n",
       "  34.85833333333333,\n",
       "  36.876714285714286,\n",
       "  32.91219996221058,\n",
       "  58.57279220779221,\n",
       "  36.6461239774718,\n",
       "  34.286,\n",
       "  35.078063492063485,\n",
       "  33.092200920291,\n",
       "  31.79389852631029],\n",
       " [0.0, 0.05, 0.02, 0.08, 0.36],\n",
       " [134.19677777777778, 113.24777777777777],\n",
       " [75.91389668832721, 78.91166666666668],\n",
       " [70.76009178770671, 77.76610275689224],\n",
       " [0.0],\n",
       " [0.0],\n",
       " [0.44]]"
      ]
     },
     "execution_count": 59,
     "metadata": {},
     "output_type": "execute_result"
    }
   ],
   "source": [
    "missList"
   ]
  }
 ],
 "metadata": {
  "colab": {
   "collapsed_sections": [],
   "name": "Ghashghaei",
   "provenance": []
  },
  "kernelspec": {
   "display_name": "Python 3",
   "language": "python",
   "name": "python3"
  },
  "language_info": {
   "codemirror_mode": {
    "name": "ipython",
    "version": 3
   },
   "file_extension": ".py",
   "mimetype": "text/x-python",
   "name": "python",
   "nbconvert_exporter": "python",
   "pygments_lexer": "ipython3",
   "version": "3.6.9"
  }
 },
 "nbformat": 4,
 "nbformat_minor": 1
}
