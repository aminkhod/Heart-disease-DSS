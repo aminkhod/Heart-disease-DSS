{
  "nbformat": 4,
  "nbformat_minor": 0,
  "metadata": {
    "colab": {
      "name": "Ghashghaei",
      "provenance": [],
      "collapsed_sections": []
    },
    "kernelspec": {
      "name": "python3",
      "display_name": "Python 3"
    },
    "language_info": {
      "name": "python"
    }
  },
  "cells": [
    {
      "cell_type": "code",
      "metadata": {
        "id": "PcfB0OOKCHqu"
      },
      "source": [
        "import numpy as np\n",
        "import pandas as pd\n",
        "import matplotlib.pyplot as plt\n",
        "import seaborn as sns\n",
        "from sklearn.pipeline import Pipeline, make_pipeline\n",
        "from sklearn.decomposition import PCA, KernelPCA\n",
        "from sklearn.impute import SimpleImputer\n",
        "from sklearn.model_selection import cross_val_score, GridSearchCV, KFold\n",
        "from sklearn.ensemble import RandomForestClassifier, RandomForestRegressor"
      ],
      "execution_count": null,
      "outputs": []
    },
    {
      "cell_type": "code",
      "metadata": {
        "colab": {
          "base_uri": "https://localhost:8080/",
          "height": 275
        },
        "id": "6Osvng2jCvqZ",
        "outputId": "920ba834-f382-4aee-95bd-c974b3be63ad"
      },
      "source": [
        "df=pd.read_excel('/content/Actual Data (230).xlsx')\n",
        "df.head()"
      ],
      "execution_count": null,
      "outputs": [
        {
          "output_type": "execute_result",
          "data": {
            "text/html": [
              "<div>\n",
              "<style scoped>\n",
              "    .dataframe tbody tr th:only-of-type {\n",
              "        vertical-align: middle;\n",
              "    }\n",
              "\n",
              "    .dataframe tbody tr th {\n",
              "        vertical-align: top;\n",
              "    }\n",
              "\n",
              "    .dataframe thead th {\n",
              "        text-align: right;\n",
              "    }\n",
              "</style>\n",
              "<table border=\"1\" class=\"dataframe\">\n",
              "  <thead>\n",
              "    <tr style=\"text-align: right;\">\n",
              "      <th></th>\n",
              "      <th>ردیف</th>\n",
              "      <th>جنس</th>\n",
              "      <th>سن</th>\n",
              "      <th>FBS</th>\n",
              "      <th>CHOL</th>\n",
              "      <th>TG</th>\n",
              "      <th>HDL</th>\n",
              "      <th>LDL</th>\n",
              "      <th>CPK</th>\n",
              "      <th>CPKMB</th>\n",
              "      <th>Hb</th>\n",
              "      <th>PT</th>\n",
              "      <th>PTT</th>\n",
              "      <th>Trop i</th>\n",
              "      <th>فشار خون سیستولیک</th>\n",
              "      <th>فشار خون دیاستولیک</th>\n",
              "      <th>نبض</th>\n",
              "      <th>دیابت</th>\n",
              "      <th>سیگار</th>\n",
              "      <th>درد قفسه سینه</th>\n",
              "      <th>سابقه تنگی نفس</th>\n",
              "      <th>سابقه بیماری قلبی</th>\n",
              "      <th>سابقه فامیلی بیماری قلبی</th>\n",
              "      <th>سابقه فشار خون</th>\n",
              "      <th>تعداد روزهای بستری</th>\n",
              "      <th>C</th>\n",
              "    </tr>\n",
              "  </thead>\n",
              "  <tbody>\n",
              "    <tr>\n",
              "      <th>0</th>\n",
              "      <td>1</td>\n",
              "      <td>زن</td>\n",
              "      <td>58</td>\n",
              "      <td>110.0</td>\n",
              "      <td>173.0</td>\n",
              "      <td>75.0</td>\n",
              "      <td>67.0</td>\n",
              "      <td>91.0</td>\n",
              "      <td>120.0</td>\n",
              "      <td>19.0</td>\n",
              "      <td>13.5</td>\n",
              "      <td>12.0</td>\n",
              "      <td>37.0</td>\n",
              "      <td>0.0</td>\n",
              "      <td>126.0</td>\n",
              "      <td>69.0</td>\n",
              "      <td>78.0</td>\n",
              "      <td>0.0</td>\n",
              "      <td>0.0</td>\n",
              "      <td>0.0</td>\n",
              "      <td>0</td>\n",
              "      <td>0</td>\n",
              "      <td>1</td>\n",
              "      <td>0</td>\n",
              "      <td>1</td>\n",
              "      <td>4</td>\n",
              "    </tr>\n",
              "    <tr>\n",
              "      <th>1</th>\n",
              "      <td>2</td>\n",
              "      <td>زن</td>\n",
              "      <td>65</td>\n",
              "      <td>100.0</td>\n",
              "      <td>200.0</td>\n",
              "      <td>199.0</td>\n",
              "      <td>41.0</td>\n",
              "      <td>119.2</td>\n",
              "      <td>181.0</td>\n",
              "      <td>20.0</td>\n",
              "      <td>12.2</td>\n",
              "      <td>12.0</td>\n",
              "      <td>30.0</td>\n",
              "      <td>1.0</td>\n",
              "      <td>110.0</td>\n",
              "      <td>70.0</td>\n",
              "      <td>88.0</td>\n",
              "      <td>1.0</td>\n",
              "      <td>0.0</td>\n",
              "      <td>0.0</td>\n",
              "      <td>0</td>\n",
              "      <td>0</td>\n",
              "      <td>1</td>\n",
              "      <td>0</td>\n",
              "      <td>6</td>\n",
              "      <td>3</td>\n",
              "    </tr>\n",
              "    <tr>\n",
              "      <th>2</th>\n",
              "      <td>3</td>\n",
              "      <td>مرد</td>\n",
              "      <td>77</td>\n",
              "      <td>70.0</td>\n",
              "      <td>130.0</td>\n",
              "      <td>104.0</td>\n",
              "      <td>60.0</td>\n",
              "      <td>NaN</td>\n",
              "      <td>59.0</td>\n",
              "      <td>15.0</td>\n",
              "      <td>14.0</td>\n",
              "      <td>30.0</td>\n",
              "      <td>45.0</td>\n",
              "      <td>0.0</td>\n",
              "      <td>130.0</td>\n",
              "      <td>60.0</td>\n",
              "      <td>69.0</td>\n",
              "      <td>0.0</td>\n",
              "      <td>0.0</td>\n",
              "      <td>0.0</td>\n",
              "      <td>0</td>\n",
              "      <td>1</td>\n",
              "      <td>1</td>\n",
              "      <td>0</td>\n",
              "      <td>10</td>\n",
              "      <td>4</td>\n",
              "    </tr>\n",
              "    <tr>\n",
              "      <th>3</th>\n",
              "      <td>4</td>\n",
              "      <td>زن</td>\n",
              "      <td>75</td>\n",
              "      <td>108.0</td>\n",
              "      <td>NaN</td>\n",
              "      <td>NaN</td>\n",
              "      <td>NaN</td>\n",
              "      <td>NaN</td>\n",
              "      <td>160.0</td>\n",
              "      <td>19.0</td>\n",
              "      <td>12.2</td>\n",
              "      <td>12.6</td>\n",
              "      <td>30.0</td>\n",
              "      <td>0.0</td>\n",
              "      <td>130.0</td>\n",
              "      <td>80.0</td>\n",
              "      <td>70.0</td>\n",
              "      <td>0.0</td>\n",
              "      <td>1.0</td>\n",
              "      <td>0.0</td>\n",
              "      <td>0</td>\n",
              "      <td>1</td>\n",
              "      <td>0</td>\n",
              "      <td>0</td>\n",
              "      <td>4</td>\n",
              "      <td>2</td>\n",
              "    </tr>\n",
              "    <tr>\n",
              "      <th>4</th>\n",
              "      <td>5</td>\n",
              "      <td>زن</td>\n",
              "      <td>80</td>\n",
              "      <td>85.0</td>\n",
              "      <td>120.0</td>\n",
              "      <td>72.0</td>\n",
              "      <td>42.0</td>\n",
              "      <td>63.6</td>\n",
              "      <td>160.0</td>\n",
              "      <td>17.0</td>\n",
              "      <td>13.7</td>\n",
              "      <td>12.0</td>\n",
              "      <td>30.0</td>\n",
              "      <td>0.0</td>\n",
              "      <td>142.0</td>\n",
              "      <td>93.0</td>\n",
              "      <td>150.0</td>\n",
              "      <td>0.0</td>\n",
              "      <td>1.0</td>\n",
              "      <td>0.0</td>\n",
              "      <td>0</td>\n",
              "      <td>0</td>\n",
              "      <td>0</td>\n",
              "      <td>0</td>\n",
              "      <td>5</td>\n",
              "      <td>2</td>\n",
              "    </tr>\n",
              "  </tbody>\n",
              "</table>\n",
              "</div>"
            ],
            "text/plain": [
              "   ردیف  جنس  سن  ...  سابقه فشار خون  تعداد روزهای بستری  C\n",
              "0     1   زن  58  ...               0                   1  4\n",
              "1     2   زن  65  ...               0                   6  3\n",
              "2     3  مرد  77  ...               0                  10  4\n",
              "3     4   زن  75  ...               0                   4  2\n",
              "4     5   زن  80  ...               0                   5  2\n",
              "\n",
              "[5 rows x 26 columns]"
            ]
          },
          "metadata": {
            "tags": []
          },
          "execution_count": 60
        }
      ]
    },
    {
      "cell_type": "code",
      "metadata": {
        "colab": {
          "base_uri": "https://localhost:8080/"
        },
        "id": "lNjmb5p4C3S7",
        "outputId": "4bbbff09-8223-42dc-ed44-5b02e2f04f5e"
      },
      "source": [
        "df.shape"
      ],
      "execution_count": null,
      "outputs": [
        {
          "output_type": "execute_result",
          "data": {
            "text/plain": [
              "(230, 26)"
            ]
          },
          "metadata": {
            "tags": []
          },
          "execution_count": 61
        }
      ]
    },
    {
      "cell_type": "code",
      "metadata": {
        "id": "LHdO9QppC9hg"
      },
      "source": [
        "df=df.drop('ردیف', axis=1)"
      ],
      "execution_count": null,
      "outputs": []
    },
    {
      "cell_type": "code",
      "metadata": {
        "colab": {
          "base_uri": "https://localhost:8080/",
          "height": 275
        },
        "id": "xxXgzBfNDDg3",
        "outputId": "023971d5-33b9-4422-cc5e-4adb8f976e80"
      },
      "source": [
        "df.head()"
      ],
      "execution_count": null,
      "outputs": [
        {
          "output_type": "execute_result",
          "data": {
            "text/html": [
              "<div>\n",
              "<style scoped>\n",
              "    .dataframe tbody tr th:only-of-type {\n",
              "        vertical-align: middle;\n",
              "    }\n",
              "\n",
              "    .dataframe tbody tr th {\n",
              "        vertical-align: top;\n",
              "    }\n",
              "\n",
              "    .dataframe thead th {\n",
              "        text-align: right;\n",
              "    }\n",
              "</style>\n",
              "<table border=\"1\" class=\"dataframe\">\n",
              "  <thead>\n",
              "    <tr style=\"text-align: right;\">\n",
              "      <th></th>\n",
              "      <th>جنس</th>\n",
              "      <th>سن</th>\n",
              "      <th>FBS</th>\n",
              "      <th>CHOL</th>\n",
              "      <th>TG</th>\n",
              "      <th>HDL</th>\n",
              "      <th>LDL</th>\n",
              "      <th>CPK</th>\n",
              "      <th>CPKMB</th>\n",
              "      <th>Hb</th>\n",
              "      <th>PT</th>\n",
              "      <th>PTT</th>\n",
              "      <th>Trop i</th>\n",
              "      <th>فشار خون سیستولیک</th>\n",
              "      <th>فشار خون دیاستولیک</th>\n",
              "      <th>نبض</th>\n",
              "      <th>دیابت</th>\n",
              "      <th>سیگار</th>\n",
              "      <th>درد قفسه سینه</th>\n",
              "      <th>سابقه تنگی نفس</th>\n",
              "      <th>سابقه بیماری قلبی</th>\n",
              "      <th>سابقه فامیلی بیماری قلبی</th>\n",
              "      <th>سابقه فشار خون</th>\n",
              "      <th>تعداد روزهای بستری</th>\n",
              "      <th>C</th>\n",
              "    </tr>\n",
              "  </thead>\n",
              "  <tbody>\n",
              "    <tr>\n",
              "      <th>0</th>\n",
              "      <td>زن</td>\n",
              "      <td>58</td>\n",
              "      <td>110.0</td>\n",
              "      <td>173.0</td>\n",
              "      <td>75.0</td>\n",
              "      <td>67.0</td>\n",
              "      <td>91.0</td>\n",
              "      <td>120.0</td>\n",
              "      <td>19.0</td>\n",
              "      <td>13.5</td>\n",
              "      <td>12.0</td>\n",
              "      <td>37.0</td>\n",
              "      <td>0.0</td>\n",
              "      <td>126.0</td>\n",
              "      <td>69.0</td>\n",
              "      <td>78.0</td>\n",
              "      <td>0.0</td>\n",
              "      <td>0.0</td>\n",
              "      <td>0.0</td>\n",
              "      <td>0</td>\n",
              "      <td>0</td>\n",
              "      <td>1</td>\n",
              "      <td>0</td>\n",
              "      <td>1</td>\n",
              "      <td>4</td>\n",
              "    </tr>\n",
              "    <tr>\n",
              "      <th>1</th>\n",
              "      <td>زن</td>\n",
              "      <td>65</td>\n",
              "      <td>100.0</td>\n",
              "      <td>200.0</td>\n",
              "      <td>199.0</td>\n",
              "      <td>41.0</td>\n",
              "      <td>119.2</td>\n",
              "      <td>181.0</td>\n",
              "      <td>20.0</td>\n",
              "      <td>12.2</td>\n",
              "      <td>12.0</td>\n",
              "      <td>30.0</td>\n",
              "      <td>1.0</td>\n",
              "      <td>110.0</td>\n",
              "      <td>70.0</td>\n",
              "      <td>88.0</td>\n",
              "      <td>1.0</td>\n",
              "      <td>0.0</td>\n",
              "      <td>0.0</td>\n",
              "      <td>0</td>\n",
              "      <td>0</td>\n",
              "      <td>1</td>\n",
              "      <td>0</td>\n",
              "      <td>6</td>\n",
              "      <td>3</td>\n",
              "    </tr>\n",
              "    <tr>\n",
              "      <th>2</th>\n",
              "      <td>مرد</td>\n",
              "      <td>77</td>\n",
              "      <td>70.0</td>\n",
              "      <td>130.0</td>\n",
              "      <td>104.0</td>\n",
              "      <td>60.0</td>\n",
              "      <td>NaN</td>\n",
              "      <td>59.0</td>\n",
              "      <td>15.0</td>\n",
              "      <td>14.0</td>\n",
              "      <td>30.0</td>\n",
              "      <td>45.0</td>\n",
              "      <td>0.0</td>\n",
              "      <td>130.0</td>\n",
              "      <td>60.0</td>\n",
              "      <td>69.0</td>\n",
              "      <td>0.0</td>\n",
              "      <td>0.0</td>\n",
              "      <td>0.0</td>\n",
              "      <td>0</td>\n",
              "      <td>1</td>\n",
              "      <td>1</td>\n",
              "      <td>0</td>\n",
              "      <td>10</td>\n",
              "      <td>4</td>\n",
              "    </tr>\n",
              "    <tr>\n",
              "      <th>3</th>\n",
              "      <td>زن</td>\n",
              "      <td>75</td>\n",
              "      <td>108.0</td>\n",
              "      <td>NaN</td>\n",
              "      <td>NaN</td>\n",
              "      <td>NaN</td>\n",
              "      <td>NaN</td>\n",
              "      <td>160.0</td>\n",
              "      <td>19.0</td>\n",
              "      <td>12.2</td>\n",
              "      <td>12.6</td>\n",
              "      <td>30.0</td>\n",
              "      <td>0.0</td>\n",
              "      <td>130.0</td>\n",
              "      <td>80.0</td>\n",
              "      <td>70.0</td>\n",
              "      <td>0.0</td>\n",
              "      <td>1.0</td>\n",
              "      <td>0.0</td>\n",
              "      <td>0</td>\n",
              "      <td>1</td>\n",
              "      <td>0</td>\n",
              "      <td>0</td>\n",
              "      <td>4</td>\n",
              "      <td>2</td>\n",
              "    </tr>\n",
              "    <tr>\n",
              "      <th>4</th>\n",
              "      <td>زن</td>\n",
              "      <td>80</td>\n",
              "      <td>85.0</td>\n",
              "      <td>120.0</td>\n",
              "      <td>72.0</td>\n",
              "      <td>42.0</td>\n",
              "      <td>63.6</td>\n",
              "      <td>160.0</td>\n",
              "      <td>17.0</td>\n",
              "      <td>13.7</td>\n",
              "      <td>12.0</td>\n",
              "      <td>30.0</td>\n",
              "      <td>0.0</td>\n",
              "      <td>142.0</td>\n",
              "      <td>93.0</td>\n",
              "      <td>150.0</td>\n",
              "      <td>0.0</td>\n",
              "      <td>1.0</td>\n",
              "      <td>0.0</td>\n",
              "      <td>0</td>\n",
              "      <td>0</td>\n",
              "      <td>0</td>\n",
              "      <td>0</td>\n",
              "      <td>5</td>\n",
              "      <td>2</td>\n",
              "    </tr>\n",
              "  </tbody>\n",
              "</table>\n",
              "</div>"
            ],
            "text/plain": [
              "   جنس  سن    FBS  ...  سابقه فشار خون  تعداد روزهای بستری  C\n",
              "0   زن  58  110.0  ...               0                   1  4\n",
              "1   زن  65  100.0  ...               0                   6  3\n",
              "2  مرد  77   70.0  ...               0                  10  4\n",
              "3   زن  75  108.0  ...               0                   4  2\n",
              "4   زن  80   85.0  ...               0                   5  2\n",
              "\n",
              "[5 rows x 25 columns]"
            ]
          },
          "metadata": {
            "tags": []
          },
          "execution_count": 63
        }
      ]
    },
    {
      "cell_type": "code",
      "metadata": {
        "colab": {
          "base_uri": "https://localhost:8080/",
          "height": 292
        },
        "id": "DI6mJsP3DbVv",
        "outputId": "20fff73f-1f74-4792-ce85-423d0a8a1209"
      },
      "source": [
        "df=df.rename(columns={'جنس': 'Sex',\n",
        "                       'سن': 'Age',\n",
        "                       'C':'Target',\n",
        "                       'تعداد روزهای بستری':'Number of hospitalization days',\n",
        "                       'نبض':'Heart rate',\n",
        "                       'دیابت':'Diabetes',\n",
        "                       'فشار خون سیستولیک':'BPs',\n",
        "                       'فشار خون دیاستولیک':'BPd',\n",
        "                      'درد قفسه سینه':'Chest pain',\n",
        "                      'سیگار':'Smoke',\n",
        "                      'سابقه تنگی نفس':'History of shortness of breath',\n",
        "                      'سابقه بیماری قلبی':'History of heart disease',\n",
        "                      'سابقه فامیلی بیماری قلبی':'Family history of heart disease',\n",
        "                      'سابقه فشار خون':'History of high blood pressure'})\n",
        "df.head()"
      ],
      "execution_count": null,
      "outputs": [
        {
          "output_type": "execute_result",
          "data": {
            "text/html": [
              "<div>\n",
              "<style scoped>\n",
              "    .dataframe tbody tr th:only-of-type {\n",
              "        vertical-align: middle;\n",
              "    }\n",
              "\n",
              "    .dataframe tbody tr th {\n",
              "        vertical-align: top;\n",
              "    }\n",
              "\n",
              "    .dataframe thead th {\n",
              "        text-align: right;\n",
              "    }\n",
              "</style>\n",
              "<table border=\"1\" class=\"dataframe\">\n",
              "  <thead>\n",
              "    <tr style=\"text-align: right;\">\n",
              "      <th></th>\n",
              "      <th>Sex</th>\n",
              "      <th>Age</th>\n",
              "      <th>FBS</th>\n",
              "      <th>CHOL</th>\n",
              "      <th>TG</th>\n",
              "      <th>HDL</th>\n",
              "      <th>LDL</th>\n",
              "      <th>CPK</th>\n",
              "      <th>CPKMB</th>\n",
              "      <th>Hb</th>\n",
              "      <th>PT</th>\n",
              "      <th>PTT</th>\n",
              "      <th>Trop i</th>\n",
              "      <th>BPs</th>\n",
              "      <th>BPd</th>\n",
              "      <th>Heart rate</th>\n",
              "      <th>Diabetes</th>\n",
              "      <th>Smoke</th>\n",
              "      <th>Chest pain</th>\n",
              "      <th>History of shortness of breath</th>\n",
              "      <th>History of heart disease</th>\n",
              "      <th>Family history of heart disease</th>\n",
              "      <th>History of high blood pressure</th>\n",
              "      <th>Number of hospitalization days</th>\n",
              "      <th>Target</th>\n",
              "    </tr>\n",
              "  </thead>\n",
              "  <tbody>\n",
              "    <tr>\n",
              "      <th>0</th>\n",
              "      <td>زن</td>\n",
              "      <td>58</td>\n",
              "      <td>110.0</td>\n",
              "      <td>173.0</td>\n",
              "      <td>75.0</td>\n",
              "      <td>67.0</td>\n",
              "      <td>91.0</td>\n",
              "      <td>120.0</td>\n",
              "      <td>19.0</td>\n",
              "      <td>13.5</td>\n",
              "      <td>12.0</td>\n",
              "      <td>37.0</td>\n",
              "      <td>0.0</td>\n",
              "      <td>126.0</td>\n",
              "      <td>69.0</td>\n",
              "      <td>78.0</td>\n",
              "      <td>0.0</td>\n",
              "      <td>0.0</td>\n",
              "      <td>0.0</td>\n",
              "      <td>0</td>\n",
              "      <td>0</td>\n",
              "      <td>1</td>\n",
              "      <td>0</td>\n",
              "      <td>1</td>\n",
              "      <td>4</td>\n",
              "    </tr>\n",
              "    <tr>\n",
              "      <th>1</th>\n",
              "      <td>زن</td>\n",
              "      <td>65</td>\n",
              "      <td>100.0</td>\n",
              "      <td>200.0</td>\n",
              "      <td>199.0</td>\n",
              "      <td>41.0</td>\n",
              "      <td>119.2</td>\n",
              "      <td>181.0</td>\n",
              "      <td>20.0</td>\n",
              "      <td>12.2</td>\n",
              "      <td>12.0</td>\n",
              "      <td>30.0</td>\n",
              "      <td>1.0</td>\n",
              "      <td>110.0</td>\n",
              "      <td>70.0</td>\n",
              "      <td>88.0</td>\n",
              "      <td>1.0</td>\n",
              "      <td>0.0</td>\n",
              "      <td>0.0</td>\n",
              "      <td>0</td>\n",
              "      <td>0</td>\n",
              "      <td>1</td>\n",
              "      <td>0</td>\n",
              "      <td>6</td>\n",
              "      <td>3</td>\n",
              "    </tr>\n",
              "    <tr>\n",
              "      <th>2</th>\n",
              "      <td>مرد</td>\n",
              "      <td>77</td>\n",
              "      <td>70.0</td>\n",
              "      <td>130.0</td>\n",
              "      <td>104.0</td>\n",
              "      <td>60.0</td>\n",
              "      <td>NaN</td>\n",
              "      <td>59.0</td>\n",
              "      <td>15.0</td>\n",
              "      <td>14.0</td>\n",
              "      <td>30.0</td>\n",
              "      <td>45.0</td>\n",
              "      <td>0.0</td>\n",
              "      <td>130.0</td>\n",
              "      <td>60.0</td>\n",
              "      <td>69.0</td>\n",
              "      <td>0.0</td>\n",
              "      <td>0.0</td>\n",
              "      <td>0.0</td>\n",
              "      <td>0</td>\n",
              "      <td>1</td>\n",
              "      <td>1</td>\n",
              "      <td>0</td>\n",
              "      <td>10</td>\n",
              "      <td>4</td>\n",
              "    </tr>\n",
              "    <tr>\n",
              "      <th>3</th>\n",
              "      <td>زن</td>\n",
              "      <td>75</td>\n",
              "      <td>108.0</td>\n",
              "      <td>NaN</td>\n",
              "      <td>NaN</td>\n",
              "      <td>NaN</td>\n",
              "      <td>NaN</td>\n",
              "      <td>160.0</td>\n",
              "      <td>19.0</td>\n",
              "      <td>12.2</td>\n",
              "      <td>12.6</td>\n",
              "      <td>30.0</td>\n",
              "      <td>0.0</td>\n",
              "      <td>130.0</td>\n",
              "      <td>80.0</td>\n",
              "      <td>70.0</td>\n",
              "      <td>0.0</td>\n",
              "      <td>1.0</td>\n",
              "      <td>0.0</td>\n",
              "      <td>0</td>\n",
              "      <td>1</td>\n",
              "      <td>0</td>\n",
              "      <td>0</td>\n",
              "      <td>4</td>\n",
              "      <td>2</td>\n",
              "    </tr>\n",
              "    <tr>\n",
              "      <th>4</th>\n",
              "      <td>زن</td>\n",
              "      <td>80</td>\n",
              "      <td>85.0</td>\n",
              "      <td>120.0</td>\n",
              "      <td>72.0</td>\n",
              "      <td>42.0</td>\n",
              "      <td>63.6</td>\n",
              "      <td>160.0</td>\n",
              "      <td>17.0</td>\n",
              "      <td>13.7</td>\n",
              "      <td>12.0</td>\n",
              "      <td>30.0</td>\n",
              "      <td>0.0</td>\n",
              "      <td>142.0</td>\n",
              "      <td>93.0</td>\n",
              "      <td>150.0</td>\n",
              "      <td>0.0</td>\n",
              "      <td>1.0</td>\n",
              "      <td>0.0</td>\n",
              "      <td>0</td>\n",
              "      <td>0</td>\n",
              "      <td>0</td>\n",
              "      <td>0</td>\n",
              "      <td>5</td>\n",
              "      <td>2</td>\n",
              "    </tr>\n",
              "  </tbody>\n",
              "</table>\n",
              "</div>"
            ],
            "text/plain": [
              "   Sex  Age  ...  Number of hospitalization days  Target\n",
              "0   زن   58  ...                               1       4\n",
              "1   زن   65  ...                               6       3\n",
              "2  مرد   77  ...                              10       4\n",
              "3   زن   75  ...                               4       2\n",
              "4   زن   80  ...                               5       2\n",
              "\n",
              "[5 rows x 25 columns]"
            ]
          },
          "metadata": {
            "tags": []
          },
          "execution_count": 64
        }
      ]
    },
    {
      "cell_type": "code",
      "metadata": {
        "colab": {
          "base_uri": "https://localhost:8080/"
        },
        "id": "HuvCMHzZFg6q",
        "outputId": "9be9badb-b4f5-4fdf-8006-ea7f70f39300"
      },
      "source": [
        "df.dtypes"
      ],
      "execution_count": null,
      "outputs": [
        {
          "output_type": "execute_result",
          "data": {
            "text/plain": [
              "Sex                                 object\n",
              "Age                                  int64\n",
              "FBS                                float64\n",
              "CHOL                               float64\n",
              "TG                                 float64\n",
              "HDL                                float64\n",
              "LDL                                float64\n",
              "CPK                                float64\n",
              "CPKMB                              float64\n",
              "Hb                                 float64\n",
              "PT                                 float64\n",
              "PTT                                float64\n",
              "Trop i                             float64\n",
              "BPs                                float64\n",
              "BPd                                float64\n",
              "Heart rate                         float64\n",
              "Diabetes                           float64\n",
              "Smoke                              float64\n",
              "Chest pain                         float64\n",
              "History of shortness of breath       int64\n",
              "History of heart disease             int64\n",
              "Family history of heart disease      int64\n",
              "History of high blood pressure       int64\n",
              "Number of hospitalization days       int64\n",
              "Target                               int64\n",
              "dtype: object"
            ]
          },
          "metadata": {
            "tags": []
          },
          "execution_count": 65
        }
      ]
    },
    {
      "cell_type": "code",
      "metadata": {
        "colab": {
          "base_uri": "https://localhost:8080/"
        },
        "id": "a7364pdxFzEG",
        "outputId": "ff5eab87-7840-4c53-f6cd-19ad6eaeb256"
      },
      "source": [
        "df.isnull().sum()"
      ],
      "execution_count": null,
      "outputs": [
        {
          "output_type": "execute_result",
          "data": {
            "text/plain": [
              "Sex                                 0\n",
              "Age                                 0\n",
              "FBS                                24\n",
              "CHOL                               25\n",
              "TG                                 26\n",
              "HDL                                29\n",
              "LDL                                62\n",
              "CPK                                18\n",
              "CPKMB                              15\n",
              "Hb                                 10\n",
              "PT                                 21\n",
              "PTT                                17\n",
              "Trop i                              5\n",
              "BPs                                 2\n",
              "BPd                                 2\n",
              "Heart rate                          2\n",
              "Diabetes                            1\n",
              "Smoke                               1\n",
              "Chest pain                          1\n",
              "History of shortness of breath      0\n",
              "History of heart disease            0\n",
              "Family history of heart disease     0\n",
              "History of high blood pressure      0\n",
              "Number of hospitalization days      0\n",
              "Target                              0\n",
              "dtype: int64"
            ]
          },
          "metadata": {
            "tags": []
          },
          "execution_count": 66
        }
      ]
    },
    {
      "cell_type": "code",
      "metadata": {
        "colab": {
          "base_uri": "https://localhost:8080/",
          "height": 368
        },
        "id": "1iVIfaXMF5g6",
        "outputId": "74272819-f33d-4b63-90bd-b68d1f42ecd0"
      },
      "source": [
        "df.describe()"
      ],
      "execution_count": null,
      "outputs": [
        {
          "output_type": "execute_result",
          "data": {
            "text/html": [
              "<div>\n",
              "<style scoped>\n",
              "    .dataframe tbody tr th:only-of-type {\n",
              "        vertical-align: middle;\n",
              "    }\n",
              "\n",
              "    .dataframe tbody tr th {\n",
              "        vertical-align: top;\n",
              "    }\n",
              "\n",
              "    .dataframe thead th {\n",
              "        text-align: right;\n",
              "    }\n",
              "</style>\n",
              "<table border=\"1\" class=\"dataframe\">\n",
              "  <thead>\n",
              "    <tr style=\"text-align: right;\">\n",
              "      <th></th>\n",
              "      <th>Age</th>\n",
              "      <th>FBS</th>\n",
              "      <th>CHOL</th>\n",
              "      <th>TG</th>\n",
              "      <th>HDL</th>\n",
              "      <th>LDL</th>\n",
              "      <th>CPK</th>\n",
              "      <th>CPKMB</th>\n",
              "      <th>Hb</th>\n",
              "      <th>PT</th>\n",
              "      <th>PTT</th>\n",
              "      <th>Trop i</th>\n",
              "      <th>BPs</th>\n",
              "      <th>BPd</th>\n",
              "      <th>Heart rate</th>\n",
              "      <th>Diabetes</th>\n",
              "      <th>Smoke</th>\n",
              "      <th>Chest pain</th>\n",
              "      <th>History of shortness of breath</th>\n",
              "      <th>History of heart disease</th>\n",
              "      <th>Family history of heart disease</th>\n",
              "      <th>History of high blood pressure</th>\n",
              "      <th>Number of hospitalization days</th>\n",
              "      <th>Target</th>\n",
              "    </tr>\n",
              "  </thead>\n",
              "  <tbody>\n",
              "    <tr>\n",
              "      <th>count</th>\n",
              "      <td>230.000000</td>\n",
              "      <td>206.000000</td>\n",
              "      <td>205.000000</td>\n",
              "      <td>204.000000</td>\n",
              "      <td>201.000000</td>\n",
              "      <td>168.000000</td>\n",
              "      <td>212.000000</td>\n",
              "      <td>215.000000</td>\n",
              "      <td>220.000000</td>\n",
              "      <td>209.000000</td>\n",
              "      <td>213.000000</td>\n",
              "      <td>225.000000</td>\n",
              "      <td>228.000000</td>\n",
              "      <td>228.000000</td>\n",
              "      <td>228.000000</td>\n",
              "      <td>229.000000</td>\n",
              "      <td>229.000000</td>\n",
              "      <td>229.000000</td>\n",
              "      <td>230.000000</td>\n",
              "      <td>230.000000</td>\n",
              "      <td>230.000000</td>\n",
              "      <td>230.000000</td>\n",
              "      <td>230.000000</td>\n",
              "      <td>230.000000</td>\n",
              "    </tr>\n",
              "    <tr>\n",
              "      <th>mean</th>\n",
              "      <td>62.465217</td>\n",
              "      <td>113.902913</td>\n",
              "      <td>169.360976</td>\n",
              "      <td>141.132353</td>\n",
              "      <td>48.312438</td>\n",
              "      <td>97.833333</td>\n",
              "      <td>204.339623</td>\n",
              "      <td>23.465116</td>\n",
              "      <td>13.702273</td>\n",
              "      <td>13.147368</td>\n",
              "      <td>35.399061</td>\n",
              "      <td>0.066667</td>\n",
              "      <td>127.986842</td>\n",
              "      <td>77.048246</td>\n",
              "      <td>74.364035</td>\n",
              "      <td>0.043668</td>\n",
              "      <td>0.244541</td>\n",
              "      <td>0.069869</td>\n",
              "      <td>0.143478</td>\n",
              "      <td>0.539130</td>\n",
              "      <td>0.226087</td>\n",
              "      <td>0.060870</td>\n",
              "      <td>4.100000</td>\n",
              "      <td>3.400000</td>\n",
              "    </tr>\n",
              "    <tr>\n",
              "      <th>std</th>\n",
              "      <td>13.175209</td>\n",
              "      <td>47.669495</td>\n",
              "      <td>40.737400</td>\n",
              "      <td>84.889016</td>\n",
              "      <td>12.142203</td>\n",
              "      <td>47.222047</td>\n",
              "      <td>409.155167</td>\n",
              "      <td>37.555286</td>\n",
              "      <td>1.910974</td>\n",
              "      <td>3.556495</td>\n",
              "      <td>9.039504</td>\n",
              "      <td>0.250000</td>\n",
              "      <td>25.866053</td>\n",
              "      <td>14.340182</td>\n",
              "      <td>15.443914</td>\n",
              "      <td>0.204803</td>\n",
              "      <td>0.430757</td>\n",
              "      <td>0.255485</td>\n",
              "      <td>0.351324</td>\n",
              "      <td>0.499554</td>\n",
              "      <td>0.419208</td>\n",
              "      <td>0.239612</td>\n",
              "      <td>2.830511</td>\n",
              "      <td>1.440524</td>\n",
              "    </tr>\n",
              "    <tr>\n",
              "      <th>min</th>\n",
              "      <td>23.000000</td>\n",
              "      <td>62.000000</td>\n",
              "      <td>88.000000</td>\n",
              "      <td>38.000000</td>\n",
              "      <td>26.000000</td>\n",
              "      <td>14.000000</td>\n",
              "      <td>14.000000</td>\n",
              "      <td>5.000000</td>\n",
              "      <td>5.600000</td>\n",
              "      <td>10.000000</td>\n",
              "      <td>30.000000</td>\n",
              "      <td>0.000000</td>\n",
              "      <td>4.000000</td>\n",
              "      <td>26.000000</td>\n",
              "      <td>40.000000</td>\n",
              "      <td>0.000000</td>\n",
              "      <td>0.000000</td>\n",
              "      <td>0.000000</td>\n",
              "      <td>0.000000</td>\n",
              "      <td>0.000000</td>\n",
              "      <td>0.000000</td>\n",
              "      <td>0.000000</td>\n",
              "      <td>1.000000</td>\n",
              "      <td>1.000000</td>\n",
              "    </tr>\n",
              "    <tr>\n",
              "      <th>25%</th>\n",
              "      <td>54.000000</td>\n",
              "      <td>85.000000</td>\n",
              "      <td>140.000000</td>\n",
              "      <td>81.750000</td>\n",
              "      <td>40.000000</td>\n",
              "      <td>71.200000</td>\n",
              "      <td>70.750000</td>\n",
              "      <td>12.000000</td>\n",
              "      <td>12.600000</td>\n",
              "      <td>12.000000</td>\n",
              "      <td>30.000000</td>\n",
              "      <td>0.000000</td>\n",
              "      <td>110.000000</td>\n",
              "      <td>70.000000</td>\n",
              "      <td>65.000000</td>\n",
              "      <td>0.000000</td>\n",
              "      <td>0.000000</td>\n",
              "      <td>0.000000</td>\n",
              "      <td>0.000000</td>\n",
              "      <td>0.000000</td>\n",
              "      <td>0.000000</td>\n",
              "      <td>0.000000</td>\n",
              "      <td>2.250000</td>\n",
              "      <td>2.000000</td>\n",
              "    </tr>\n",
              "    <tr>\n",
              "      <th>50%</th>\n",
              "      <td>62.000000</td>\n",
              "      <td>99.500000</td>\n",
              "      <td>167.000000</td>\n",
              "      <td>120.000000</td>\n",
              "      <td>47.000000</td>\n",
              "      <td>92.000000</td>\n",
              "      <td>107.000000</td>\n",
              "      <td>15.000000</td>\n",
              "      <td>13.800000</td>\n",
              "      <td>12.000000</td>\n",
              "      <td>34.000000</td>\n",
              "      <td>0.000000</td>\n",
              "      <td>124.000000</td>\n",
              "      <td>75.000000</td>\n",
              "      <td>72.000000</td>\n",
              "      <td>0.000000</td>\n",
              "      <td>0.000000</td>\n",
              "      <td>0.000000</td>\n",
              "      <td>0.000000</td>\n",
              "      <td>1.000000</td>\n",
              "      <td>0.000000</td>\n",
              "      <td>0.000000</td>\n",
              "      <td>4.000000</td>\n",
              "      <td>3.500000</td>\n",
              "    </tr>\n",
              "    <tr>\n",
              "      <th>75%</th>\n",
              "      <td>73.000000</td>\n",
              "      <td>121.500000</td>\n",
              "      <td>194.000000</td>\n",
              "      <td>170.000000</td>\n",
              "      <td>55.000000</td>\n",
              "      <td>114.000000</td>\n",
              "      <td>179.000000</td>\n",
              "      <td>20.000000</td>\n",
              "      <td>14.700000</td>\n",
              "      <td>13.200000</td>\n",
              "      <td>38.000000</td>\n",
              "      <td>0.000000</td>\n",
              "      <td>140.000000</td>\n",
              "      <td>83.250000</td>\n",
              "      <td>80.000000</td>\n",
              "      <td>0.000000</td>\n",
              "      <td>0.000000</td>\n",
              "      <td>0.000000</td>\n",
              "      <td>0.000000</td>\n",
              "      <td>1.000000</td>\n",
              "      <td>0.000000</td>\n",
              "      <td>0.000000</td>\n",
              "      <td>5.000000</td>\n",
              "      <td>5.000000</td>\n",
              "    </tr>\n",
              "    <tr>\n",
              "      <th>max</th>\n",
              "      <td>94.000000</td>\n",
              "      <td>318.000000</td>\n",
              "      <td>290.000000</td>\n",
              "      <td>550.000000</td>\n",
              "      <td>98.000000</td>\n",
              "      <td>464.000000</td>\n",
              "      <td>3400.000000</td>\n",
              "      <td>347.000000</td>\n",
              "      <td>21.400000</td>\n",
              "      <td>50.000000</td>\n",
              "      <td>130.000000</td>\n",
              "      <td>1.000000</td>\n",
              "      <td>220.000000</td>\n",
              "      <td>140.000000</td>\n",
              "      <td>160.000000</td>\n",
              "      <td>1.000000</td>\n",
              "      <td>1.000000</td>\n",
              "      <td>1.000000</td>\n",
              "      <td>1.000000</td>\n",
              "      <td>1.000000</td>\n",
              "      <td>1.000000</td>\n",
              "      <td>1.000000</td>\n",
              "      <td>22.000000</td>\n",
              "      <td>5.000000</td>\n",
              "    </tr>\n",
              "  </tbody>\n",
              "</table>\n",
              "</div>"
            ],
            "text/plain": [
              "              Age         FBS  ...  Number of hospitalization days      Target\n",
              "count  230.000000  206.000000  ...                      230.000000  230.000000\n",
              "mean    62.465217  113.902913  ...                        4.100000    3.400000\n",
              "std     13.175209   47.669495  ...                        2.830511    1.440524\n",
              "min     23.000000   62.000000  ...                        1.000000    1.000000\n",
              "25%     54.000000   85.000000  ...                        2.250000    2.000000\n",
              "50%     62.000000   99.500000  ...                        4.000000    3.500000\n",
              "75%     73.000000  121.500000  ...                        5.000000    5.000000\n",
              "max     94.000000  318.000000  ...                       22.000000    5.000000\n",
              "\n",
              "[8 rows x 24 columns]"
            ]
          },
          "metadata": {
            "tags": []
          },
          "execution_count": 9
        }
      ]
    },
    {
      "cell_type": "code",
      "metadata": {
        "colab": {
          "base_uri": "https://localhost:8080/",
          "height": 299
        },
        "id": "2JbqoXwGF-qQ",
        "outputId": "630163f8-1027-4bc5-e7d2-d5764fab317f"
      },
      "source": [
        "sns.boxplot(df.Age)"
      ],
      "execution_count": null,
      "outputs": [
        {
          "output_type": "execute_result",
          "data": {
            "text/plain": [
              "<matplotlib.axes._subplots.AxesSubplot at 0x7ff0e6aa86d0>"
            ]
          },
          "metadata": {
            "tags": []
          },
          "execution_count": 10
        },
        {
          "output_type": "display_data",
          "data": {
            "image/png": "[encoded data removed]",
            "text/plain": [
              "<Figure size 432x288 with 1 Axes>"
            ]
          },
          "metadata": {
            "tags": [],
            "needs_background": "light"
          }
        }
      ]
    },
    {
      "cell_type": "code",
      "metadata": {
        "colab": {
          "base_uri": "https://localhost:8080/",
          "height": 299
        },
        "id": "RNEvf9xmGZ31",
        "outputId": "1b6fa008-d1ce-4329-cabb-4cf3f13ff7b7"
      },
      "source": [
        "sns.boxplot(df.FBS)"
      ],
      "execution_count": null,
      "outputs": [
        {
          "output_type": "execute_result",
          "data": {
            "text/plain": [
              "<matplotlib.axes._subplots.AxesSubplot at 0x7ff0e6ad68d0>"
            ]
          },
          "metadata": {
            "tags": []
          },
          "execution_count": 11
        },
        {
          "output_type": "display_data",
          "data": {
            "image/png": "[encoded data removed]",
            "text/plain": [
              "<Figure size 432x288 with 1 Axes>"
            ]
          },
          "metadata": {
            "tags": [],
            "needs_background": "light"
          }
        }
      ]
    },
    {
      "cell_type": "code",
      "metadata": {
        "colab": {
          "base_uri": "https://localhost:8080/",
          "height": 299
        },
        "id": "NlM9-gBBHzRJ",
        "outputId": "661c408e-4fb9-4449-f5bf-36446be13ee2"
      },
      "source": [
        "sns.boxplot(df.CHOL)"
      ],
      "execution_count": null,
      "outputs": [
        {
          "output_type": "execute_result",
          "data": {
            "text/plain": [
              "<matplotlib.axes._subplots.AxesSubplot at 0x7ff0e645ae50>"
            ]
          },
          "metadata": {
            "tags": []
          },
          "execution_count": 12
        },
        {
          "output_type": "display_data",
          "data": {
            "image/png": "[encoded data removed]",
            "text/plain": [
              "<Figure size 432x288 with 1 Axes>"
            ]
          },
          "metadata": {
            "tags": [],
            "needs_background": "light"
          }
        }
      ]
    },
    {
      "cell_type": "code",
      "metadata": {
        "colab": {
          "base_uri": "https://localhost:8080/",
          "height": 299
        },
        "id": "2d-8En3zIRZy",
        "outputId": "94cff6a3-8d0f-4ff0-848a-41aec6b93b90"
      },
      "source": [
        "sns.boxplot(df.TG)\n"
      ],
      "execution_count": null,
      "outputs": [
        {
          "output_type": "execute_result",
          "data": {
            "text/plain": [
              "<matplotlib.axes._subplots.AxesSubplot at 0x7ff0e644fd50>"
            ]
          },
          "metadata": {
            "tags": []
          },
          "execution_count": 13
        },
        {
          "output_type": "display_data",
          "data": {
            "image/png": "[encoded data removed]",
            "text/plain": [
              "<Figure size 432x288 with 1 Axes>"
            ]
          },
          "metadata": {
            "tags": [],
            "needs_background": "light"
          }
        }
      ]
    },
    {
      "cell_type": "code",
      "metadata": {
        "colab": {
          "base_uri": "https://localhost:8080/",
          "height": 299
        },
        "id": "HOs22UbyISE7",
        "outputId": "cdaafcea-b052-4b96-e403-c44d10a1ed8b"
      },
      "source": [
        "sns.boxplot(df.HDL)\n"
      ],
      "execution_count": null,
      "outputs": [
        {
          "output_type": "execute_result",
          "data": {
            "text/plain": [
              "<matplotlib.axes._subplots.AxesSubplot at 0x7ff0e63d6f50>"
            ]
          },
          "metadata": {
            "tags": []
          },
          "execution_count": 14
        },
        {
          "output_type": "display_data",
          "data": {
            "image/png": "[encoded data removed]",
            "text/plain": [
              "<Figure size 432x288 with 1 Axes>"
            ]
          },
          "metadata": {
            "tags": [],
            "needs_background": "light"
          }
        }
      ]
    },
    {
      "cell_type": "code",
      "metadata": {
        "colab": {
          "base_uri": "https://localhost:8080/",
          "height": 299
        },
        "id": "vy7KijDjIShS",
        "outputId": "3eadc2ad-9cfc-4b04-f9ca-7a1716736308"
      },
      "source": [
        "sns.boxplot(df.LDL)\n"
      ],
      "execution_count": null,
      "outputs": [
        {
          "output_type": "execute_result",
          "data": {
            "text/plain": [
              "<matplotlib.axes._subplots.AxesSubplot at 0x7ff0e6335650>"
            ]
          },
          "metadata": {
            "tags": []
          },
          "execution_count": 15
        },
        {
          "output_type": "display_data",
          "data": {
            "image/png": "[encoded data removed]",
            "text/plain": [
              "<Figure size 432x288 with 1 Axes>"
            ]
          },
          "metadata": {
            "tags": [],
            "needs_background": "light"
          }
        }
      ]
    },
    {
      "cell_type": "code",
      "metadata": {
        "colab": {
          "base_uri": "https://localhost:8080/",
          "height": 299
        },
        "id": "gzsKmCKxIS2j",
        "outputId": "7175cd1e-37a8-4fa3-f505-ef55b60ca818"
      },
      "source": [
        "sns.boxplot(df.CPK)\n"
      ],
      "execution_count": null,
      "outputs": [
        {
          "output_type": "execute_result",
          "data": {
            "text/plain": [
              "<matplotlib.axes._subplots.AxesSubplot at 0x7ff0e633f310>"
            ]
          },
          "metadata": {
            "tags": []
          },
          "execution_count": 16
        },
        {
          "output_type": "display_data",
          "data": {
            "image/png": "[encoded data removed]",
            "text/plain": [
              "<Figure size 432x288 with 1 Axes>"
            ]
          },
          "metadata": {
            "tags": [],
            "needs_background": "light"
          }
        }
      ]
    },
    {
      "cell_type": "code",
      "metadata": {
        "colab": {
          "base_uri": "https://localhost:8080/",
          "height": 299
        },
        "id": "pFLlB_v0ITNi",
        "outputId": "2e4a948e-f145-4abe-b513-82f0e3204847"
      },
      "source": [
        "sns.boxplot(df.CPKMB)\n"
      ],
      "execution_count": null,
      "outputs": [
        {
          "output_type": "execute_result",
          "data": {
            "text/plain": [
              "<matplotlib.axes._subplots.AxesSubplot at 0x7ff0e628b190>"
            ]
          },
          "metadata": {
            "tags": []
          },
          "execution_count": 17
        },
        {
          "output_type": "display_data",
          "data": {
            "image/png": "[encoded data removed]",
            "text/plain": [
              "<Figure size 432x288 with 1 Axes>"
            ]
          },
          "metadata": {
            "tags": [],
            "needs_background": "light"
          }
        }
      ]
    },
    {
      "cell_type": "code",
      "metadata": {
        "colab": {
          "base_uri": "https://localhost:8080/",
          "height": 299
        },
        "id": "BZDucSgQITqU",
        "outputId": "636b6626-b3c0-4c99-b664-3b501846d936"
      },
      "source": [
        "sns.boxplot(df.Hb)\n"
      ],
      "execution_count": null,
      "outputs": [
        {
          "output_type": "execute_result",
          "data": {
            "text/plain": [
              "<matplotlib.axes._subplots.AxesSubplot at 0x7ff0e6204a90>"
            ]
          },
          "metadata": {
            "tags": []
          },
          "execution_count": 18
        },
        {
          "output_type": "display_data",
          "data": {
            "image/png": "[encoded data removed]",
            "text/plain": [
              "<Figure size 432x288 with 1 Axes>"
            ]
          },
          "metadata": {
            "tags": [],
            "needs_background": "light"
          }
        }
      ]
    },
    {
      "cell_type": "code",
      "metadata": {
        "colab": {
          "base_uri": "https://localhost:8080/",
          "height": 299
        },
        "id": "-BtmG6j6IUFA",
        "outputId": "ec488dfa-f158-426d-bc24-7896efd94f81"
      },
      "source": [
        "sns.boxplot(df.PT)\n"
      ],
      "execution_count": null,
      "outputs": [
        {
          "output_type": "execute_result",
          "data": {
            "text/plain": [
              "<matplotlib.axes._subplots.AxesSubplot at 0x7ff0e6181810>"
            ]
          },
          "metadata": {
            "tags": []
          },
          "execution_count": 19
        },
        {
          "output_type": "display_data",
          "data": {
            "image/png": "[encoded data removed]",
            "text/plain": [
              "<Figure size 432x288 with 1 Axes>"
            ]
          },
          "metadata": {
            "tags": [],
            "needs_background": "light"
          }
        }
      ]
    },
    {
      "cell_type": "code",
      "metadata": {
        "colab": {
          "base_uri": "https://localhost:8080/",
          "height": 299
        },
        "id": "hUysQ5Q-IUnW",
        "outputId": "743dabb2-01fc-4449-ad1b-ce2a1dbd1b4a"
      },
      "source": [
        "sns.boxplot(df.PTT)\n"
      ],
      "execution_count": null,
      "outputs": [
        {
          "output_type": "execute_result",
          "data": {
            "text/plain": [
              "<matplotlib.axes._subplots.AxesSubplot at 0x7ff0e60fad90>"
            ]
          },
          "metadata": {
            "tags": []
          },
          "execution_count": 20
        },
        {
          "output_type": "display_data",
          "data": {
            "image/png": "[encoded data removed]",
            "text/plain": [
              "<Figure size 432x288 with 1 Axes>"
            ]
          },
          "metadata": {
            "tags": [],
            "needs_background": "light"
          }
        }
      ]
    },
    {
      "cell_type": "code",
      "metadata": {
        "colab": {
          "base_uri": "https://localhost:8080/",
          "height": 299
        },
        "id": "MW7FEvKkIWJJ",
        "outputId": "60aea557-5e83-4ed2-e617-5a091fc78a92"
      },
      "source": [
        "sns.boxplot(df.BPs)\n"
      ],
      "execution_count": null,
      "outputs": [
        {
          "output_type": "execute_result",
          "data": {
            "text/plain": [
              "<matplotlib.axes._subplots.AxesSubplot at 0x7ff0e6022550>"
            ]
          },
          "metadata": {
            "tags": []
          },
          "execution_count": 22
        },
        {
          "output_type": "display_data",
          "data": {
            "image/png": "[encoded data removed]",
            "text/plain": [
              "<Figure size 432x288 with 1 Axes>"
            ]
          },
          "metadata": {
            "tags": [],
            "needs_background": "light"
          }
        }
      ]
    },
    {
      "cell_type": "code",
      "metadata": {
        "colab": {
          "base_uri": "https://localhost:8080/",
          "height": 299
        },
        "id": "jnTg1pixIWdU",
        "outputId": "b76d3f32-0eea-402b-e793-74e0afe61621"
      },
      "source": [
        "sns.boxplot(df.BPd)\n"
      ],
      "execution_count": null,
      "outputs": [
        {
          "output_type": "execute_result",
          "data": {
            "text/plain": [
              "<matplotlib.axes._subplots.AxesSubplot at 0x7ff0e5fbf7d0>"
            ]
          },
          "metadata": {
            "tags": []
          },
          "execution_count": 23
        },
        {
          "output_type": "display_data",
          "data": {
            "image/png": "[encoded data removed]",
            "text/plain": [
              "<Figure size 432x288 with 1 Axes>"
            ]
          },
          "metadata": {
            "tags": [],
            "needs_background": "light"
          }
        }
      ]
    },
    {
      "cell_type": "code",
      "metadata": {
        "colab": {
          "base_uri": "https://localhost:8080/",
          "height": 299
        },
        "id": "Iru85EXgIW0Q",
        "outputId": "322bdefe-afa9-4b66-afa2-48d7d299d312"
      },
      "source": [
        "sns.boxplot(df['Heart rate'])\n"
      ],
      "execution_count": null,
      "outputs": [
        {
          "output_type": "execute_result",
          "data": {
            "text/plain": [
              "<matplotlib.axes._subplots.AxesSubplot at 0x7ff0e64649d0>"
            ]
          },
          "metadata": {
            "tags": []
          },
          "execution_count": 24
        },
        {
          "output_type": "display_data",
          "data": {
            "image/png": "[encoded data removed]",
            "text/plain": [
              "<Figure size 432x288 with 1 Axes>"
            ]
          },
          "metadata": {
            "tags": [],
            "needs_background": "light"
          }
        }
      ]
    },
    {
      "cell_type": "code",
      "metadata": {
        "colab": {
          "base_uri": "https://localhost:8080/",
          "height": 299
        },
        "id": "wDmaC4SJI6Ky",
        "outputId": "16cadb98-a0c8-48ba-f175-f5f194bdf50e"
      },
      "source": [
        "sns.boxplot(df['Number of hospitalization days'])"
      ],
      "execution_count": null,
      "outputs": [
        {
          "output_type": "execute_result",
          "data": {
            "text/plain": [
              "<matplotlib.axes._subplots.AxesSubplot at 0x7ff0e6a97e10>"
            ]
          },
          "metadata": {
            "tags": []
          },
          "execution_count": 25
        },
        {
          "output_type": "display_data",
          "data": {
            "image/png": "[encoded data removed]",
            "text/plain": [
              "<Figure size 432x288 with 1 Axes>"
            ]
          },
          "metadata": {
            "tags": [],
            "needs_background": "light"
          }
        }
      ]
    },
    {
      "cell_type": "code",
      "metadata": {
        "colab": {
          "base_uri": "https://localhost:8080/",
          "height": 867
        },
        "id": "_5AZBFfDJszO",
        "outputId": "f45c02fb-3802-4e9b-ed0d-dd6eb04f9ecd"
      },
      "source": [
        "plt.figure(figsize=(12, 12))\n",
        "sns.heatmap(df.corr()>0.7, annot=True)\n",
        "##dfdemo.corr()>0.7"
      ],
      "execution_count": null,
      "outputs": [
        {
          "output_type": "execute_result",
          "data": {
            "text/plain": [
              "<matplotlib.axes._subplots.AxesSubplot at 0x7ff0e5eff3d0>"
            ]
          },
          "metadata": {
            "tags": []
          },
          "execution_count": 26
        },
        {
          "output_type": "display_data",
          "data": {
            "image/png": "[encoded data removed]",
            "text/plain": [
              "<Figure size 864x864 with 2 Axes>"
            ]
          },
          "metadata": {
            "tags": [],
            "needs_background": "light"
          }
        }
      ]
    },
    {
      "cell_type": "code",
      "metadata": {
        "colab": {
          "base_uri": "https://localhost:8080/"
        },
        "id": "veRFjWLsLktv",
        "outputId": "81264744-3969-4d04-e364-06f628f7a1ae"
      },
      "source": [
        "df['Sex'].value_counts()"
      ],
      "execution_count": null,
      "outputs": [
        {
          "output_type": "execute_result",
          "data": {
            "text/plain": [
              "زن      118\n",
              "مرد     111\n",
              "مرد       1\n",
              "Name: Sex, dtype: int64"
            ]
          },
          "metadata": {
            "tags": []
          },
          "execution_count": 70
        }
      ]
    },
    {
      "cell_type": "code",
      "metadata": {
        "colab": {
          "base_uri": "https://localhost:8080/"
        },
        "id": "rhJtyLxSMfrn",
        "outputId": "cf69396a-4bb8-4be9-e911-b158becc1fec"
      },
      "source": [
        "df['Trop i'].value_counts()"
      ],
      "execution_count": null,
      "outputs": [
        {
          "output_type": "execute_result",
          "data": {
            "text/plain": [
              "0.0    210\n",
              "1.0     15\n",
              "Name: Trop i, dtype: int64"
            ]
          },
          "metadata": {
            "tags": []
          },
          "execution_count": 28
        }
      ]
    },
    {
      "cell_type": "code",
      "metadata": {
        "colab": {
          "base_uri": "https://localhost:8080/"
        },
        "id": "ZArorZGhMnsk",
        "outputId": "f44bd8f7-6a0a-4ed7-e3d8-6df2f8014870"
      },
      "source": [
        "df['Diabetes'].value_counts()"
      ],
      "execution_count": null,
      "outputs": [
        {
          "output_type": "execute_result",
          "data": {
            "text/plain": [
              "0.0    219\n",
              "1.0     10\n",
              "Name: Diabetes, dtype: int64"
            ]
          },
          "metadata": {
            "tags": []
          },
          "execution_count": 29
        }
      ]
    },
    {
      "cell_type": "code",
      "metadata": {
        "colab": {
          "base_uri": "https://localhost:8080/"
        },
        "id": "hk7Cs6wZMoH8",
        "outputId": "1e41a306-7aaf-43ac-e982-32189c017bae"
      },
      "source": [
        "df['Smoke'].value_counts()"
      ],
      "execution_count": null,
      "outputs": [
        {
          "output_type": "execute_result",
          "data": {
            "text/plain": [
              "0.0    173\n",
              "1.0     56\n",
              "Name: Smoke, dtype: int64"
            ]
          },
          "metadata": {
            "tags": []
          },
          "execution_count": 30
        }
      ]
    },
    {
      "cell_type": "code",
      "metadata": {
        "colab": {
          "base_uri": "https://localhost:8080/"
        },
        "id": "6uq1V_wXMokZ",
        "outputId": "32fe6136-5fb5-4b27-b286-4d31954c1d6d"
      },
      "source": [
        "df['Chest pain'].value_counts()"
      ],
      "execution_count": null,
      "outputs": [
        {
          "output_type": "execute_result",
          "data": {
            "text/plain": [
              "0.0    213\n",
              "1.0     16\n",
              "Name: Chest pain, dtype: int64"
            ]
          },
          "metadata": {
            "tags": []
          },
          "execution_count": 31
        }
      ]
    },
    {
      "cell_type": "code",
      "metadata": {
        "colab": {
          "base_uri": "https://localhost:8080/"
        },
        "id": "1U9mX38PMpAe",
        "outputId": "ec1dae9c-00f5-45a5-e8eb-d71788793497"
      },
      "source": [
        "df['History of shortness of breath'].value_counts()"
      ],
      "execution_count": null,
      "outputs": [
        {
          "output_type": "execute_result",
          "data": {
            "text/plain": [
              "0    197\n",
              "1     33\n",
              "Name: History of shortness of breath, dtype: int64"
            ]
          },
          "metadata": {
            "tags": []
          },
          "execution_count": 32
        }
      ]
    },
    {
      "cell_type": "code",
      "metadata": {
        "colab": {
          "base_uri": "https://localhost:8080/"
        },
        "id": "84i3uWreMpX2",
        "outputId": "c9f2ff2f-af40-46ce-b482-58a6ec160ea2"
      },
      "source": [
        "df['History of heart disease'].value_counts()"
      ],
      "execution_count": null,
      "outputs": [
        {
          "output_type": "execute_result",
          "data": {
            "text/plain": [
              "1    124\n",
              "0    106\n",
              "Name: History of heart disease, dtype: int64"
            ]
          },
          "metadata": {
            "tags": []
          },
          "execution_count": 33
        }
      ]
    },
    {
      "cell_type": "code",
      "metadata": {
        "colab": {
          "base_uri": "https://localhost:8080/"
        },
        "id": "hVFXeqVtMpsP",
        "outputId": "308e732e-4147-4b93-c026-55f1337ac9aa"
      },
      "source": [
        "df['Family history of heart disease'].value_counts()"
      ],
      "execution_count": null,
      "outputs": [
        {
          "output_type": "execute_result",
          "data": {
            "text/plain": [
              "0    178\n",
              "1     52\n",
              "Name: Family history of heart disease, dtype: int64"
            ]
          },
          "metadata": {
            "tags": []
          },
          "execution_count": 34
        }
      ]
    },
    {
      "cell_type": "code",
      "metadata": {
        "colab": {
          "base_uri": "https://localhost:8080/"
        },
        "id": "xS3GJg1KMqP0",
        "outputId": "9e83fb61-e072-4716-b5c2-d53fde1e4ee3"
      },
      "source": [
        "df['History of high blood pressure'].value_counts()"
      ],
      "execution_count": null,
      "outputs": [
        {
          "output_type": "execute_result",
          "data": {
            "text/plain": [
              "0    216\n",
              "1     14\n",
              "Name: History of high blood pressure, dtype: int64"
            ]
          },
          "metadata": {
            "tags": []
          },
          "execution_count": 35
        }
      ]
    },
    {
      "cell_type": "code",
      "metadata": {
        "colab": {
          "base_uri": "https://localhost:8080/"
        },
        "id": "M8ufIut-Mqtt",
        "outputId": "f4ca8d8c-2b44-4c8e-fab6-d4ca55228378"
      },
      "source": [
        "df['Number of hospitalization days'].value_counts()"
      ],
      "execution_count": null,
      "outputs": [
        {
          "output_type": "execute_result",
          "data": {
            "text/plain": [
              "3     55\n",
              "4     41\n",
              "5     32\n",
              "2     31\n",
              "1     27\n",
              "6     18\n",
              "7     10\n",
              "10     4\n",
              "9      4\n",
              "13     2\n",
              "8      2\n",
              "22     1\n",
              "21     1\n",
              "15     1\n",
              "11     1\n",
              "Name: Number of hospitalization days, dtype: int64"
            ]
          },
          "metadata": {
            "tags": []
          },
          "execution_count": 36
        }
      ]
    },
    {
      "cell_type": "code",
      "metadata": {
        "colab": {
          "base_uri": "https://localhost:8080/"
        },
        "id": "siWAgaDDMrLr",
        "outputId": "f0569017-e010-403d-e73a-5cc517499151"
      },
      "source": [
        "df['Target'].value_counts()"
      ],
      "execution_count": null,
      "outputs": [
        {
          "output_type": "execute_result",
          "data": {
            "text/plain": [
              "5    81\n",
              "2    54\n",
              "3    36\n",
              "4    34\n",
              "1    25\n",
              "Name: Target, dtype: int64"
            ]
          },
          "metadata": {
            "tags": []
          },
          "execution_count": 37
        }
      ]
    },
    {
      "cell_type": "code",
      "metadata": {
        "colab": {
          "base_uri": "https://localhost:8080/"
        },
        "id": "Fu2fIE2cNdbj",
        "outputId": "f258d005-5f33-466d-bd7d-b07afcf54bb7"
      },
      "source": [
        "df=df.drop_duplicates()\n",
        "df.shape"
      ],
      "execution_count": null,
      "outputs": [
        {
          "output_type": "execute_result",
          "data": {
            "text/plain": [
              "(230, 25)"
            ]
          },
          "metadata": {
            "tags": []
          },
          "execution_count": 71
        }
      ]
    },
    {
      "cell_type": "code",
      "metadata": {
        "id": "4Wzsmf-cOFpZ"
      },
      "source": [
        "df['Sex'][df['Sex']=='زن']=0\n",
        "df['Sex'][df['Sex']=='مرد']=1\n",
        "df['Sex'][df['Sex']=='مرد ']=1"
      ],
      "execution_count": null,
      "outputs": []
    },
    {
      "cell_type": "code",
      "metadata": {
        "colab": {
          "base_uri": "https://localhost:8080/",
          "height": 292
        },
        "id": "_HpDuSEsOS2A",
        "outputId": "23acc5f3-dcad-4543-b11a-6a591da9cb1f"
      },
      "source": [
        "df.head()"
      ],
      "execution_count": null,
      "outputs": [
        {
          "output_type": "execute_result",
          "data": {
            "text/html": [
              "<div>\n",
              "<style scoped>\n",
              "    .dataframe tbody tr th:only-of-type {\n",
              "        vertical-align: middle;\n",
              "    }\n",
              "\n",
              "    .dataframe tbody tr th {\n",
              "        vertical-align: top;\n",
              "    }\n",
              "\n",
              "    .dataframe thead th {\n",
              "        text-align: right;\n",
              "    }\n",
              "</style>\n",
              "<table border=\"1\" class=\"dataframe\">\n",
              "  <thead>\n",
              "    <tr style=\"text-align: right;\">\n",
              "      <th></th>\n",
              "      <th>Sex</th>\n",
              "      <th>Age</th>\n",
              "      <th>FBS</th>\n",
              "      <th>CHOL</th>\n",
              "      <th>TG</th>\n",
              "      <th>HDL</th>\n",
              "      <th>LDL</th>\n",
              "      <th>CPK</th>\n",
              "      <th>CPKMB</th>\n",
              "      <th>Hb</th>\n",
              "      <th>PT</th>\n",
              "      <th>PTT</th>\n",
              "      <th>Trop i</th>\n",
              "      <th>BPs</th>\n",
              "      <th>BPd</th>\n",
              "      <th>Heart rate</th>\n",
              "      <th>Diabetes</th>\n",
              "      <th>Smoke</th>\n",
              "      <th>Chest pain</th>\n",
              "      <th>History of shortness of breath</th>\n",
              "      <th>History of heart disease</th>\n",
              "      <th>Family history of heart disease</th>\n",
              "      <th>History of high blood pressure</th>\n",
              "      <th>Number of hospitalization days</th>\n",
              "      <th>Target</th>\n",
              "    </tr>\n",
              "  </thead>\n",
              "  <tbody>\n",
              "    <tr>\n",
              "      <th>0</th>\n",
              "      <td>0</td>\n",
              "      <td>58</td>\n",
              "      <td>110.0</td>\n",
              "      <td>173.0</td>\n",
              "      <td>75.0</td>\n",
              "      <td>67.0</td>\n",
              "      <td>91.0</td>\n",
              "      <td>120.0</td>\n",
              "      <td>19.0</td>\n",
              "      <td>13.5</td>\n",
              "      <td>12.0</td>\n",
              "      <td>37.0</td>\n",
              "      <td>0.0</td>\n",
              "      <td>126.0</td>\n",
              "      <td>69.0</td>\n",
              "      <td>78.0</td>\n",
              "      <td>0.0</td>\n",
              "      <td>0.0</td>\n",
              "      <td>0.0</td>\n",
              "      <td>0</td>\n",
              "      <td>0</td>\n",
              "      <td>1</td>\n",
              "      <td>0</td>\n",
              "      <td>1</td>\n",
              "      <td>4</td>\n",
              "    </tr>\n",
              "    <tr>\n",
              "      <th>1</th>\n",
              "      <td>0</td>\n",
              "      <td>65</td>\n",
              "      <td>100.0</td>\n",
              "      <td>200.0</td>\n",
              "      <td>199.0</td>\n",
              "      <td>41.0</td>\n",
              "      <td>119.2</td>\n",
              "      <td>181.0</td>\n",
              "      <td>20.0</td>\n",
              "      <td>12.2</td>\n",
              "      <td>12.0</td>\n",
              "      <td>30.0</td>\n",
              "      <td>1.0</td>\n",
              "      <td>110.0</td>\n",
              "      <td>70.0</td>\n",
              "      <td>88.0</td>\n",
              "      <td>1.0</td>\n",
              "      <td>0.0</td>\n",
              "      <td>0.0</td>\n",
              "      <td>0</td>\n",
              "      <td>0</td>\n",
              "      <td>1</td>\n",
              "      <td>0</td>\n",
              "      <td>6</td>\n",
              "      <td>3</td>\n",
              "    </tr>\n",
              "    <tr>\n",
              "      <th>2</th>\n",
              "      <td>1</td>\n",
              "      <td>77</td>\n",
              "      <td>70.0</td>\n",
              "      <td>130.0</td>\n",
              "      <td>104.0</td>\n",
              "      <td>60.0</td>\n",
              "      <td>NaN</td>\n",
              "      <td>59.0</td>\n",
              "      <td>15.0</td>\n",
              "      <td>14.0</td>\n",
              "      <td>30.0</td>\n",
              "      <td>45.0</td>\n",
              "      <td>0.0</td>\n",
              "      <td>130.0</td>\n",
              "      <td>60.0</td>\n",
              "      <td>69.0</td>\n",
              "      <td>0.0</td>\n",
              "      <td>0.0</td>\n",
              "      <td>0.0</td>\n",
              "      <td>0</td>\n",
              "      <td>1</td>\n",
              "      <td>1</td>\n",
              "      <td>0</td>\n",
              "      <td>10</td>\n",
              "      <td>4</td>\n",
              "    </tr>\n",
              "    <tr>\n",
              "      <th>3</th>\n",
              "      <td>0</td>\n",
              "      <td>75</td>\n",
              "      <td>108.0</td>\n",
              "      <td>NaN</td>\n",
              "      <td>NaN</td>\n",
              "      <td>NaN</td>\n",
              "      <td>NaN</td>\n",
              "      <td>160.0</td>\n",
              "      <td>19.0</td>\n",
              "      <td>12.2</td>\n",
              "      <td>12.6</td>\n",
              "      <td>30.0</td>\n",
              "      <td>0.0</td>\n",
              "      <td>130.0</td>\n",
              "      <td>80.0</td>\n",
              "      <td>70.0</td>\n",
              "      <td>0.0</td>\n",
              "      <td>1.0</td>\n",
              "      <td>0.0</td>\n",
              "      <td>0</td>\n",
              "      <td>1</td>\n",
              "      <td>0</td>\n",
              "      <td>0</td>\n",
              "      <td>4</td>\n",
              "      <td>2</td>\n",
              "    </tr>\n",
              "    <tr>\n",
              "      <th>4</th>\n",
              "      <td>0</td>\n",
              "      <td>80</td>\n",
              "      <td>85.0</td>\n",
              "      <td>120.0</td>\n",
              "      <td>72.0</td>\n",
              "      <td>42.0</td>\n",
              "      <td>63.6</td>\n",
              "      <td>160.0</td>\n",
              "      <td>17.0</td>\n",
              "      <td>13.7</td>\n",
              "      <td>12.0</td>\n",
              "      <td>30.0</td>\n",
              "      <td>0.0</td>\n",
              "      <td>142.0</td>\n",
              "      <td>93.0</td>\n",
              "      <td>150.0</td>\n",
              "      <td>0.0</td>\n",
              "      <td>1.0</td>\n",
              "      <td>0.0</td>\n",
              "      <td>0</td>\n",
              "      <td>0</td>\n",
              "      <td>0</td>\n",
              "      <td>0</td>\n",
              "      <td>5</td>\n",
              "      <td>2</td>\n",
              "    </tr>\n",
              "  </tbody>\n",
              "</table>\n",
              "</div>"
            ],
            "text/plain": [
              "  Sex  Age  ...  Number of hospitalization days  Target\n",
              "0   0   58  ...                               1       4\n",
              "1   0   65  ...                               6       3\n",
              "2   1   77  ...                              10       4\n",
              "3   0   75  ...                               4       2\n",
              "4   0   80  ...                               5       2\n",
              "\n",
              "[5 rows x 25 columns]"
            ]
          },
          "metadata": {
            "tags": []
          },
          "execution_count": 73
        }
      ]
    },
    {
      "cell_type": "code",
      "metadata": {
        "colab": {
          "base_uri": "https://localhost:8080/"
        },
        "id": "ocLImnjDOX0w",
        "outputId": "3bb68b5b-3bde-4d91-cfb4-61d28a212208"
      },
      "source": [
        "df.dtypes"
      ],
      "execution_count": null,
      "outputs": [
        {
          "output_type": "execute_result",
          "data": {
            "text/plain": [
              "Sex                                 object\n",
              "Age                                  int64\n",
              "FBS                                float64\n",
              "CHOL                               float64\n",
              "TG                                 float64\n",
              "HDL                                float64\n",
              "LDL                                float64\n",
              "CPK                                float64\n",
              "CPKMB                              float64\n",
              "Hb                                 float64\n",
              "PT                                 float64\n",
              "PTT                                float64\n",
              "Trop i                             float64\n",
              "BPs                                float64\n",
              "BPd                                float64\n",
              "Heart rate                         float64\n",
              "Diabetes                           float64\n",
              "Smoke                              float64\n",
              "Chest pain                         float64\n",
              "History of shortness of breath       int64\n",
              "History of heart disease             int64\n",
              "Family history of heart disease      int64\n",
              "History of high blood pressure       int64\n",
              "Number of hospitalization days       int64\n",
              "Target                               int64\n",
              "dtype: object"
            ]
          },
          "metadata": {
            "tags": []
          },
          "execution_count": 74
        }
      ]
    },
    {
      "cell_type": "code",
      "metadata": {
        "id": "AhPc4oyAOalS"
      },
      "source": [
        "df['Sex']=df['Sex'].astype('int64')"
      ],
      "execution_count": null,
      "outputs": []
    },
    {
      "cell_type": "code",
      "metadata": {
        "colab": {
          "base_uri": "https://localhost:8080/"
        },
        "id": "kX1z9nJIOlpO",
        "outputId": "43866d05-7fe4-4bf5-c2f4-0b72b72c2610"
      },
      "source": [
        "df.dtypes"
      ],
      "execution_count": null,
      "outputs": [
        {
          "output_type": "execute_result",
          "data": {
            "text/plain": [
              "Sex                                  int64\n",
              "Age                                  int64\n",
              "FBS                                float64\n",
              "CHOL                               float64\n",
              "TG                                 float64\n",
              "HDL                                float64\n",
              "LDL                                float64\n",
              "CPK                                float64\n",
              "CPKMB                              float64\n",
              "Hb                                 float64\n",
              "PT                                 float64\n",
              "PTT                                float64\n",
              "Trop i                             float64\n",
              "BPs                                float64\n",
              "BPd                                float64\n",
              "Heart rate                         float64\n",
              "Diabetes                           float64\n",
              "Smoke                              float64\n",
              "Chest pain                         float64\n",
              "History of shortness of breath       int64\n",
              "History of heart disease             int64\n",
              "Family history of heart disease      int64\n",
              "History of high blood pressure       int64\n",
              "Number of hospitalization days       int64\n",
              "Target                               int64\n",
              "dtype: object"
            ]
          },
          "metadata": {
            "tags": []
          },
          "execution_count": 76
        }
      ]
    },
    {
      "cell_type": "code",
      "metadata": {
        "colab": {
          "base_uri": "https://localhost:8080/"
        },
        "id": "ySqHxLQj2T_R",
        "outputId": "d9d04ca1-0c46-4152-ad04-7d5bb0a30df2"
      },
      "source": [
        "df.Sex.value_counts()"
      ],
      "execution_count": null,
      "outputs": [
        {
          "output_type": "execute_result",
          "data": {
            "text/plain": [
              "0    118\n",
              "1    112\n",
              "Name: Sex, dtype: int64"
            ]
          },
          "metadata": {
            "tags": []
          },
          "execution_count": 77
        }
      ]
    },
    {
      "cell_type": "code",
      "metadata": {
        "id": "QjazWE4LOzXk"
      },
      "source": [
        "X=df.drop('Target', axis=1)\n",
        "y=df.Target"
      ],
      "execution_count": null,
      "outputs": []
    },
    {
      "cell_type": "code",
      "metadata": {
        "colab": {
          "base_uri": "https://localhost:8080/",
          "height": 292
        },
        "id": "6fxDWb-TO_VU",
        "outputId": "0f2c3cf6-86c1-45f8-f803-cb42b86b3478"
      },
      "source": [
        "X.head()"
      ],
      "execution_count": null,
      "outputs": [
        {
          "output_type": "execute_result",
          "data": {
            "text/html": [
              "<div>\n",
              "<style scoped>\n",
              "    .dataframe tbody tr th:only-of-type {\n",
              "        vertical-align: middle;\n",
              "    }\n",
              "\n",
              "    .dataframe tbody tr th {\n",
              "        vertical-align: top;\n",
              "    }\n",
              "\n",
              "    .dataframe thead th {\n",
              "        text-align: right;\n",
              "    }\n",
              "</style>\n",
              "<table border=\"1\" class=\"dataframe\">\n",
              "  <thead>\n",
              "    <tr style=\"text-align: right;\">\n",
              "      <th></th>\n",
              "      <th>Sex</th>\n",
              "      <th>Age</th>\n",
              "      <th>FBS</th>\n",
              "      <th>CHOL</th>\n",
              "      <th>TG</th>\n",
              "      <th>HDL</th>\n",
              "      <th>LDL</th>\n",
              "      <th>CPK</th>\n",
              "      <th>CPKMB</th>\n",
              "      <th>Hb</th>\n",
              "      <th>PT</th>\n",
              "      <th>PTT</th>\n",
              "      <th>Trop i</th>\n",
              "      <th>BPs</th>\n",
              "      <th>BPd</th>\n",
              "      <th>Heart rate</th>\n",
              "      <th>Diabetes</th>\n",
              "      <th>Smoke</th>\n",
              "      <th>Chest pain</th>\n",
              "      <th>History of shortness of breath</th>\n",
              "      <th>History of heart disease</th>\n",
              "      <th>Family history of heart disease</th>\n",
              "      <th>History of high blood pressure</th>\n",
              "      <th>Number of hospitalization days</th>\n",
              "    </tr>\n",
              "  </thead>\n",
              "  <tbody>\n",
              "    <tr>\n",
              "      <th>0</th>\n",
              "      <td>0</td>\n",
              "      <td>58</td>\n",
              "      <td>110.0</td>\n",
              "      <td>173.0</td>\n",
              "      <td>75.0</td>\n",
              "      <td>67.0</td>\n",
              "      <td>91.0</td>\n",
              "      <td>120.0</td>\n",
              "      <td>19.0</td>\n",
              "      <td>13.5</td>\n",
              "      <td>12.0</td>\n",
              "      <td>37.0</td>\n",
              "      <td>0.0</td>\n",
              "      <td>126.0</td>\n",
              "      <td>69.0</td>\n",
              "      <td>78.0</td>\n",
              "      <td>0.0</td>\n",
              "      <td>0.0</td>\n",
              "      <td>0.0</td>\n",
              "      <td>0</td>\n",
              "      <td>0</td>\n",
              "      <td>1</td>\n",
              "      <td>0</td>\n",
              "      <td>1</td>\n",
              "    </tr>\n",
              "    <tr>\n",
              "      <th>1</th>\n",
              "      <td>0</td>\n",
              "      <td>65</td>\n",
              "      <td>100.0</td>\n",
              "      <td>200.0</td>\n",
              "      <td>199.0</td>\n",
              "      <td>41.0</td>\n",
              "      <td>119.2</td>\n",
              "      <td>181.0</td>\n",
              "      <td>20.0</td>\n",
              "      <td>12.2</td>\n",
              "      <td>12.0</td>\n",
              "      <td>30.0</td>\n",
              "      <td>1.0</td>\n",
              "      <td>110.0</td>\n",
              "      <td>70.0</td>\n",
              "      <td>88.0</td>\n",
              "      <td>1.0</td>\n",
              "      <td>0.0</td>\n",
              "      <td>0.0</td>\n",
              "      <td>0</td>\n",
              "      <td>0</td>\n",
              "      <td>1</td>\n",
              "      <td>0</td>\n",
              "      <td>6</td>\n",
              "    </tr>\n",
              "    <tr>\n",
              "      <th>2</th>\n",
              "      <td>1</td>\n",
              "      <td>77</td>\n",
              "      <td>70.0</td>\n",
              "      <td>130.0</td>\n",
              "      <td>104.0</td>\n",
              "      <td>60.0</td>\n",
              "      <td>NaN</td>\n",
              "      <td>59.0</td>\n",
              "      <td>15.0</td>\n",
              "      <td>14.0</td>\n",
              "      <td>30.0</td>\n",
              "      <td>45.0</td>\n",
              "      <td>0.0</td>\n",
              "      <td>130.0</td>\n",
              "      <td>60.0</td>\n",
              "      <td>69.0</td>\n",
              "      <td>0.0</td>\n",
              "      <td>0.0</td>\n",
              "      <td>0.0</td>\n",
              "      <td>0</td>\n",
              "      <td>1</td>\n",
              "      <td>1</td>\n",
              "      <td>0</td>\n",
              "      <td>10</td>\n",
              "    </tr>\n",
              "    <tr>\n",
              "      <th>3</th>\n",
              "      <td>0</td>\n",
              "      <td>75</td>\n",
              "      <td>108.0</td>\n",
              "      <td>NaN</td>\n",
              "      <td>NaN</td>\n",
              "      <td>NaN</td>\n",
              "      <td>NaN</td>\n",
              "      <td>160.0</td>\n",
              "      <td>19.0</td>\n",
              "      <td>12.2</td>\n",
              "      <td>12.6</td>\n",
              "      <td>30.0</td>\n",
              "      <td>0.0</td>\n",
              "      <td>130.0</td>\n",
              "      <td>80.0</td>\n",
              "      <td>70.0</td>\n",
              "      <td>0.0</td>\n",
              "      <td>1.0</td>\n",
              "      <td>0.0</td>\n",
              "      <td>0</td>\n",
              "      <td>1</td>\n",
              "      <td>0</td>\n",
              "      <td>0</td>\n",
              "      <td>4</td>\n",
              "    </tr>\n",
              "    <tr>\n",
              "      <th>4</th>\n",
              "      <td>0</td>\n",
              "      <td>80</td>\n",
              "      <td>85.0</td>\n",
              "      <td>120.0</td>\n",
              "      <td>72.0</td>\n",
              "      <td>42.0</td>\n",
              "      <td>63.6</td>\n",
              "      <td>160.0</td>\n",
              "      <td>17.0</td>\n",
              "      <td>13.7</td>\n",
              "      <td>12.0</td>\n",
              "      <td>30.0</td>\n",
              "      <td>0.0</td>\n",
              "      <td>142.0</td>\n",
              "      <td>93.0</td>\n",
              "      <td>150.0</td>\n",
              "      <td>0.0</td>\n",
              "      <td>1.0</td>\n",
              "      <td>0.0</td>\n",
              "      <td>0</td>\n",
              "      <td>0</td>\n",
              "      <td>0</td>\n",
              "      <td>0</td>\n",
              "      <td>5</td>\n",
              "    </tr>\n",
              "  </tbody>\n",
              "</table>\n",
              "</div>"
            ],
            "text/plain": [
              "   Sex  Age  ...  History of high blood pressure  Number of hospitalization days\n",
              "0    0   58  ...                               0                               1\n",
              "1    0   65  ...                               0                               6\n",
              "2    1   77  ...                               0                              10\n",
              "3    0   75  ...                               0                               4\n",
              "4    0   80  ...                               0                               5\n",
              "\n",
              "[5 rows x 24 columns]"
            ]
          },
          "metadata": {
            "tags": []
          },
          "execution_count": 79
        }
      ]
    },
    {
      "cell_type": "code",
      "metadata": {
        "id": "7QY9JPAy3IEL"
      },
      "source": [
        "messy_df=df"
      ],
      "execution_count": null,
      "outputs": []
    },
    {
      "cell_type": "code",
      "metadata": {
        "id": "KO7Ue881PBQk"
      },
      "source": [
        "colnames=['FBS','CHOL','TG','HDL','LDL','CPK','CPKMB','Hb','PT','PTT','Trop i',\n",
        "          'BPs','BPd','Heart rate','Diabetes','Smoke','Chest pain'] \n",
        "\n",
        "def  approach2_impute_metric(messy_df, metric, colnames):\n",
        "    \n",
        "    # Create X_df of predictor columns\n",
        "    X_df = messy_df.drop(colnames, axis = 1)\n",
        "    \n",
        "    # Create Y_df of predicted columns\n",
        "    Y_df = messy_df[colnames]\n",
        "        \n",
        "    # Create empty dataframes and list\n",
        "    Y_pred_df = pd.DataFrame(columns=colnames)\n",
        "    Y_missing_df = pd.DataFrame(columns=colnames)\n",
        "    missing_list = []\n",
        "    \n",
        "    # Loop through all columns containing missing values\n",
        "    for col in messy_df[colnames]:\n",
        "    \n",
        "        # Number of missing values in the column\n",
        "        missing_count = messy_df[col].isnull().sum()\n",
        "        \n",
        "        # Separate train dataset which does not contain missing values\n",
        "        messy_df_train = messy_df[~messy_df[col].isnull()]\n",
        "        \n",
        "        # Create X and Y within train dataset\n",
        "        msg_cols_train_df = messy_df_train[col]\n",
        "        messy_df_train = messy_df_train.drop(colnames, axis = 1)\n",
        "\n",
        "        # Create test dataset, containing missing values in Y    \n",
        "        messy_df_test = messy_df[messy_df[col].isnull()]\n",
        "        \n",
        "        # Separate X and Y in test dataset\n",
        "        msg_cols_test_df = messy_df_test[col]\n",
        "        messy_df_test = messy_df_test.drop(colnames,axis = 1)\n",
        "\n",
        "        # Copy X_train and Y_train\n",
        "        Y_train = msg_cols_train_df.copy()\n",
        "        X_train = messy_df_train.copy()\n",
        "        \n",
        "        # Linear Regression model\n",
        "        if metric == \"Linear Regression\":\n",
        "            model = LinearRegression()\n",
        "            model.fit(X_train,Y_train)\n",
        "            print(\"R-squared value is: \" + str(model.score(X_train, Y_train)))\n",
        "          \n",
        "        # Random Forests regression model\n",
        "        elif metric == \"Random Forests\":\n",
        "            model = RandomForestRegressor(n_estimators = 50 , oob_score = True, max_depth=10)\n",
        "            model.fit(X_train,Y_train) \n",
        "                   \n",
        "        X_test = messy_df_test.copy()\n",
        "        \n",
        "        # Predict Y_test values by passing X_test as input to the model\n",
        "        Y_test = model.predict(X_test)\n",
        "        \n",
        "        Y_test_integer = pd.to_numeric(pd.Series(Y_test),downcast='integer')\n",
        "        \n",
        "        # Append predicted Y values to known Y values\n",
        "        Y_complete = Y_train.append(Y_test_integer)\n",
        "        Y_complete = Y_complete.reset_index(drop = True)\n",
        "        \n",
        "        # Update list of missing values\n",
        "        missing_list.append(Y_test.tolist())\n",
        "        \n",
        "        Y_pred_df[col] = Y_complete\n",
        "        Y_pred_df = Y_pred_df.reset_index(drop = True)\n",
        "    \n",
        "    # Create cleaned up dataframe\n",
        "    clean_df = X_df.join(Y_pred_df)\n",
        "    \n",
        "    return clean_df,missing_list"
      ],
      "execution_count": null,
      "outputs": []
    },
    {
      "cell_type": "code",
      "metadata": {
        "colab": {
          "base_uri": "https://localhost:8080/"
        },
        "id": "3ik7ayLj7QEi",
        "outputId": "052c5afa-ac55-4cae-a5ab-cfabd8559427"
      },
      "source": [
        "df.isnull().sum()"
      ],
      "execution_count": null,
      "outputs": [
        {
          "output_type": "execute_result",
          "data": {
            "text/plain": [
              "Sex                                 0\n",
              "Age                                 0\n",
              "FBS                                24\n",
              "CHOL                               25\n",
              "TG                                 26\n",
              "HDL                                29\n",
              "LDL                                62\n",
              "CPK                                18\n",
              "CPKMB                              15\n",
              "Hb                                 10\n",
              "PT                                 21\n",
              "PTT                                17\n",
              "Trop i                              5\n",
              "BPs                                 2\n",
              "BPd                                 2\n",
              "Heart rate                          2\n",
              "Diabetes                            1\n",
              "Smoke                               1\n",
              "Chest pain                          1\n",
              "History of shortness of breath      0\n",
              "History of heart disease            0\n",
              "Family history of heart disease     0\n",
              "History of high blood pressure      0\n",
              "Number of hospitalization days      0\n",
              "Target                              0\n",
              "dtype: int64"
            ]
          },
          "metadata": {
            "tags": []
          },
          "execution_count": 91
        }
      ]
    },
    {
      "cell_type": "code",
      "metadata": {
        "colab": {
          "base_uri": "https://localhost:8080/"
        },
        "id": "cP2WzkB15E-B",
        "outputId": "b8415ca5-aaab-4868-c938-f10c81def622"
      },
      "source": [
        "approach2_impute_metric(messy_df,\"Random Forests\", colnames)"
      ],
      "execution_count": null,
      "outputs": [
        {
          "output_type": "execute_result",
          "data": {
            "text/plain": [
              "(     Sex  Age  History of shortness of breath  ...  Diabetes  Smoke  Chest pain\n",
              " 0      0   58                               0  ...       0.0    0.0         0.0\n",
              " 1      0   65                               0  ...       1.0    0.0         0.0\n",
              " 2      1   77                               0  ...       0.0    0.0         0.0\n",
              " 3      0   75                               0  ...       0.0    1.0         0.0\n",
              " 4      0   80                               0  ...       0.0    1.0         0.0\n",
              " ..   ...  ...                             ...  ...       ...    ...         ...\n",
              " 225    1   66                               0  ...       0.0    1.0         0.0\n",
              " 226    1   82                               0  ...       0.0    1.0         0.0\n",
              " 227    1   62                               0  ...       0.0    0.0         0.0\n",
              " 228    0   66                               0  ...       0.0    1.0         0.0\n",
              " 229    1   62                               0  ...       0.0    0.0         0.5\n",
              " \n",
              " [230 rows x 25 columns],\n",
              " [[139.8466666666667,\n",
              "   101.4440989010989,\n",
              "   90.42815069954202,\n",
              "   123.93916666666667,\n",
              "   87.64547826086957,\n",
              "   96.76,\n",
              "   108.74,\n",
              "   90.12847474747475,\n",
              "   114.16,\n",
              "   104.98,\n",
              "   121.31507833978884,\n",
              "   132.07828855355172,\n",
              "   121.14561111111111,\n",
              "   94.23817450906581,\n",
              "   146.2818238778765,\n",
              "   99.87428571428572,\n",
              "   95.31,\n",
              "   98.89822212811343,\n",
              "   115.30090476190476,\n",
              "   146.2818238778765,\n",
              "   104.59666666666668,\n",
              "   98.46332905982905,\n",
              "   106.045,\n",
              "   112.41123809523806],\n",
              "  [146.04686413586413,\n",
              "   155.68555555555554,\n",
              "   158.5430104470693,\n",
              "   159.81089588189587,\n",
              "   146.6517338217338,\n",
              "   141.39154545454548,\n",
              "   152.78,\n",
              "   164.33833333333337,\n",
              "   147.78066666666666,\n",
              "   164.0325,\n",
              "   172.20642857142857,\n",
              "   170.05166666666665,\n",
              "   158.76125,\n",
              "   161.04,\n",
              "   194.75668799827616,\n",
              "   220.79703781512603,\n",
              "   127.49454545454546,\n",
              "   163.84295238095237,\n",
              "   162.2330586080586,\n",
              "   158.42615384615385,\n",
              "   178.2748327228327,\n",
              "   172.98,\n",
              "   131.724,\n",
              "   156.621900030525,\n",
              "   197.71314652014652],\n",
              "  [166.65000288600285,\n",
              "   223.6393333333333,\n",
              "   144.67288888888888,\n",
              "   93.12638186813187,\n",
              "   153.8121904761905,\n",
              "   92.18435805860805,\n",
              "   148.31,\n",
              "   136.35533333333333,\n",
              "   128.00414718614718,\n",
              "   157.601,\n",
              "   102.90199999999999,\n",
              "   137.63666666666668,\n",
              "   148.76,\n",
              "   110.73,\n",
              "   211.46113653913656,\n",
              "   227.70283783783782,\n",
              "   234.45117117117115,\n",
              "   75.87902472527473,\n",
              "   170.29722222222222,\n",
              "   71.42,\n",
              "   74.115,\n",
              "   234.45117117117115,\n",
              "   106.57333333333332,\n",
              "   135.42,\n",
              "   141.8019257993468,\n",
              "   160.12526312576313],\n",
              "  [46.81804761904761,\n",
              "   39.117215384615385,\n",
              "   44.434961038961035,\n",
              "   39.93933795190317,\n",
              "   61.24738095238095,\n",
              "   42.6914005994006,\n",
              "   55.17214285714286,\n",
              "   57.14285714285714,\n",
              "   47.185333333333325,\n",
              "   50.982857142857135,\n",
              "   44.394198757763974,\n",
              "   42.39146320346321,\n",
              "   54.335,\n",
              "   47.038555777555764,\n",
              "   43.88914285714285,\n",
              "   59.655,\n",
              "   52.21179581529583,\n",
              "   52.41342857142857,\n",
              "   45.728843434343446,\n",
              "   46.055,\n",
              "   45.87253846153846,\n",
              "   42.82314285714287,\n",
              "   42.07380952380952,\n",
              "   45.728843434343446,\n",
              "   55.57666666666666,\n",
              "   38.887,\n",
              "   46.42,\n",
              "   41.632356643356644,\n",
              "   58.62822222222222],\n",
              "  [78.88399999999997,\n",
              "   101.70004761904764,\n",
              "   102.52088888888888,\n",
              "   90.04816666666669,\n",
              "   122.788,\n",
              "   88.675,\n",
              "   93.57652380952382,\n",
              "   85.06271428571428,\n",
              "   88.01099999999997,\n",
              "   86.70790476190476,\n",
              "   94.602,\n",
              "   71.94682539682537,\n",
              "   62.208999999999996,\n",
              "   70.81538095238096,\n",
              "   121.94499999999998,\n",
              "   79.90380952380953,\n",
              "   84.348,\n",
              "   93.04699999999997,\n",
              "   94.2267,\n",
              "   85.61600000000003,\n",
              "   92.25955555555552,\n",
              "   124.45402857142854,\n",
              "   84.78152820512821,\n",
              "   124.28071515151515,\n",
              "   99.69883333333331,\n",
              "   111.49371428571429,\n",
              "   95.90866666666665,\n",
              "   87.84300000000002,\n",
              "   97.07520000000004,\n",
              "   80.21933333333334,\n",
              "   183.82649494949496,\n",
              "   85.82400000000001,\n",
              "   174.85800000000003,\n",
              "   101.66549494949497,\n",
              "   86.4344615384615,\n",
              "   72.99399999999996,\n",
              "   64.744,\n",
              "   79.03771428571424,\n",
              "   100.4585,\n",
              "   116.52509090909092,\n",
              "   68.6522380952381,\n",
              "   105.5852380952381,\n",
              "   95.9663333333333,\n",
              "   95.29979487179486,\n",
              "   100.4585,\n",
              "   96.24203333333332,\n",
              "   98.42851515151517,\n",
              "   91.35495555555552,\n",
              "   83.56,\n",
              "   103.28366666666665,\n",
              "   127.38100000000004,\n",
              "   92.25955555555552,\n",
              "   88.0624,\n",
              "   66.03199999999998,\n",
              "   103.00786666666669,\n",
              "   89.64211428571427,\n",
              "   95.86688888888888,\n",
              "   90.96699999999997,\n",
              "   135.1995838383839,\n",
              "   117.87185714285714,\n",
              "   91.86548376068376,\n",
              "   129.85733333333334],\n",
              "  [328.776,\n",
              "   336.68910810810814,\n",
              "   158.89541666666665,\n",
              "   141.98024999999998,\n",
              "   180.60966666666667,\n",
              "   798.4128205128206,\n",
              "   84.9,\n",
              "   97.47933333333334,\n",
              "   85.55853901653902,\n",
              "   795.6866666666666,\n",
              "   84.51932844332845,\n",
              "   116.67,\n",
              "   192.98,\n",
              "   325.4873333333333,\n",
              "   561.5387163561077,\n",
              "   299.41821428571427,\n",
              "   98.4494279054279,\n",
              "   87.88487790693675],\n",
              "  [27.70666666666667,\n",
              "   15.790151515151512,\n",
              "   21.096365914786965,\n",
              "   12.276923076923076,\n",
              "   33.18,\n",
              "   15.51025641025641,\n",
              "   12.67375568875569,\n",
              "   80.7789696969697,\n",
              "   10.871147186147187,\n",
              "   16.711333333333332,\n",
              "   21.420051282051283,\n",
              "   36.891333333333336,\n",
              "   60.82625585703389,\n",
              "   64.53433333333332,\n",
              "   16.322039215686274],\n",
              "  [13.695921647633408,\n",
              "   16.338999999999988,\n",
              "   12.922730158730158,\n",
              "   13.8756833999334,\n",
              "   14.572484498834497,\n",
              "   14.52325757575758,\n",
              "   15.72183760683761,\n",
              "   13.582191623213383,\n",
              "   12.387066666666675,\n",
              "   15.907999999999992],\n",
              "  [13.859999999999998,\n",
              "   14.178074074074075,\n",
              "   12.789961111111106,\n",
              "   12.558731037078863,\n",
              "   24.17192,\n",
              "   14.360000000000005,\n",
              "   12.63425656423613,\n",
              "   12.823333333333334,\n",
              "   12.718000000000002,\n",
              "   12.853162050960739,\n",
              "   13.126627380952382,\n",
              "   12.7282358974359,\n",
              "   12.524000000000001,\n",
              "   12.777000000000001,\n",
              "   12.554729523809522,\n",
              "   13.859815584415582,\n",
              "   12.826433333333332,\n",
              "   13.925600000000001,\n",
              "   12.448844444444449,\n",
              "   12.433245714519401,\n",
              "   12.421435897435902],\n",
              "  [36.54819531448943,\n",
              "   32.94932861564933,\n",
              "   40.77214285714286,\n",
              "   36.66506833036245,\n",
              "   36.644922391618046,\n",
              "   32.97084793588055,\n",
              "   32.27178654465739,\n",
              "   37.48395721925134,\n",
              "   34.228701891715595,\n",
              "   35.83178802780173,\n",
              "   32.86641262091135,\n",
              "   56.74039920634921,\n",
              "   38.623742784992785,\n",
              "   35.02111111111111,\n",
              "   36.461132756132756,\n",
              "   32.6214050119389,\n",
              "   32.2116204779248],\n",
              "  [0.0, 0.04, 0.08, 0.04, 0.4],\n",
              "  [137.47976713070207, 111.08],\n",
              "  [75.94170449257973, 82.00901515151514],\n",
              "  [72.59272871572871, 87.96109090909093],\n",
              "  [0.0],\n",
              "  [0.0],\n",
              "  [0.5]])"
            ]
          },
          "metadata": {
            "tags": []
          },
          "execution_count": 88
        }
      ]
    },
    {
      "cell_type": "code",
      "metadata": {
        "id": "nx9GcdOpKbVR"
      },
      "source": [
        ""
      ],
      "execution_count": null,
      "outputs": []
    }
  ]
}