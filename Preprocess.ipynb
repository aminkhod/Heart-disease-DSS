{
 "cells": [
  {
   "cell_type": "code",
   "execution_count": 1,
   "metadata": {
    "id": "PcfB0OOKCHqu"
   },
   "outputs": [],
   "source": [
    "import numpy as np\n",
    "import pandas as pd\n",
    "import matplotlib.pyplot as plt\n",
    "import seaborn as sns\n",
    "from sklearn.pipeline import Pipeline, make_pipeline\n",
    "from sklearn.decomposition import PCA, KernelPCA\n",
    "from sklearn.impute import SimpleImputer\n",
    "from sklearn.model_selection import cross_val_score, GridSearchCV, KFold\n",
    "from sklearn.ensemble import RandomForestClassifier, RandomForestRegressor"
   ]
  },
  {
   "cell_type": "code",
   "execution_count": 2,
   "metadata": {
    "colab": {
     "base_uri": "https://localhost:8080/",
     "height": 275
    },
    "id": "6Osvng2jCvqZ",
    "outputId": "920ba834-f382-4aee-95bd-c974b3be63ad"
   },
   "outputs": [
    {
     "data": {
      "text/html": [
       "<div>\n",
       "<style scoped>\n",
       "    .dataframe tbody tr th:only-of-type {\n",
       "        vertical-align: middle;\n",
       "    }\n",
       "\n",
       "    .dataframe tbody tr th {\n",
       "        vertical-align: top;\n",
       "    }\n",
       "\n",
       "    .dataframe thead th {\n",
       "        text-align: right;\n",
       "    }\n",
       "</style>\n",
       "<table border=\"1\" class=\"dataframe\">\n",
       "  <thead>\n",
       "    <tr style=\"text-align: right;\">\n",
       "      <th></th>\n",
       "      <th>Unnamed: 0</th>\n",
       "      <th>جنس</th>\n",
       "      <th>سن</th>\n",
       "      <th>FBS</th>\n",
       "      <th>CHOL</th>\n",
       "      <th>TG</th>\n",
       "      <th>HDL</th>\n",
       "      <th>LDL</th>\n",
       "      <th>CPK</th>\n",
       "      <th>CPKMB</th>\n",
       "      <th>...</th>\n",
       "      <th>نبض</th>\n",
       "      <th>دیابت</th>\n",
       "      <th>سیگار</th>\n",
       "      <th>درد قفسه سینه</th>\n",
       "      <th>سابقه تنگی نفس</th>\n",
       "      <th>سابقه بیماری قلبی</th>\n",
       "      <th>سابقه فامیلی بیماری قلبی</th>\n",
       "      <th>سابقه فشار خون</th>\n",
       "      <th>تعداد روزهای بستری</th>\n",
       "      <th>C</th>\n",
       "    </tr>\n",
       "  </thead>\n",
       "  <tbody>\n",
       "    <tr>\n",
       "      <th>0</th>\n",
       "      <td>1</td>\n",
       "      <td>زن</td>\n",
       "      <td>58</td>\n",
       "      <td>110.0</td>\n",
       "      <td>173.0</td>\n",
       "      <td>75.0</td>\n",
       "      <td>67.0</td>\n",
       "      <td>91.0</td>\n",
       "      <td>120.0</td>\n",
       "      <td>19.0</td>\n",
       "      <td>...</td>\n",
       "      <td>78.0</td>\n",
       "      <td>0.0</td>\n",
       "      <td>0.0</td>\n",
       "      <td>0.0</td>\n",
       "      <td>0</td>\n",
       "      <td>0</td>\n",
       "      <td>1</td>\n",
       "      <td>0</td>\n",
       "      <td>1</td>\n",
       "      <td>4</td>\n",
       "    </tr>\n",
       "    <tr>\n",
       "      <th>1</th>\n",
       "      <td>2</td>\n",
       "      <td>زن</td>\n",
       "      <td>65</td>\n",
       "      <td>100.0</td>\n",
       "      <td>200.0</td>\n",
       "      <td>199.0</td>\n",
       "      <td>41.0</td>\n",
       "      <td>119.2</td>\n",
       "      <td>181.0</td>\n",
       "      <td>20.0</td>\n",
       "      <td>...</td>\n",
       "      <td>88.0</td>\n",
       "      <td>1.0</td>\n",
       "      <td>0.0</td>\n",
       "      <td>0.0</td>\n",
       "      <td>0</td>\n",
       "      <td>0</td>\n",
       "      <td>1</td>\n",
       "      <td>0</td>\n",
       "      <td>6</td>\n",
       "      <td>3</td>\n",
       "    </tr>\n",
       "    <tr>\n",
       "      <th>2</th>\n",
       "      <td>3</td>\n",
       "      <td>مرد</td>\n",
       "      <td>77</td>\n",
       "      <td>70.0</td>\n",
       "      <td>130.0</td>\n",
       "      <td>104.0</td>\n",
       "      <td>60.0</td>\n",
       "      <td>NaN</td>\n",
       "      <td>59.0</td>\n",
       "      <td>15.0</td>\n",
       "      <td>...</td>\n",
       "      <td>69.0</td>\n",
       "      <td>0.0</td>\n",
       "      <td>0.0</td>\n",
       "      <td>0.0</td>\n",
       "      <td>0</td>\n",
       "      <td>1</td>\n",
       "      <td>1</td>\n",
       "      <td>0</td>\n",
       "      <td>10</td>\n",
       "      <td>4</td>\n",
       "    </tr>\n",
       "    <tr>\n",
       "      <th>3</th>\n",
       "      <td>4</td>\n",
       "      <td>زن</td>\n",
       "      <td>75</td>\n",
       "      <td>108.0</td>\n",
       "      <td>NaN</td>\n",
       "      <td>NaN</td>\n",
       "      <td>NaN</td>\n",
       "      <td>NaN</td>\n",
       "      <td>160.0</td>\n",
       "      <td>19.0</td>\n",
       "      <td>...</td>\n",
       "      <td>70.0</td>\n",
       "      <td>0.0</td>\n",
       "      <td>1.0</td>\n",
       "      <td>0.0</td>\n",
       "      <td>0</td>\n",
       "      <td>1</td>\n",
       "      <td>0</td>\n",
       "      <td>0</td>\n",
       "      <td>4</td>\n",
       "      <td>2</td>\n",
       "    </tr>\n",
       "    <tr>\n",
       "      <th>4</th>\n",
       "      <td>5</td>\n",
       "      <td>زن</td>\n",
       "      <td>80</td>\n",
       "      <td>85.0</td>\n",
       "      <td>120.0</td>\n",
       "      <td>72.0</td>\n",
       "      <td>42.0</td>\n",
       "      <td>63.6</td>\n",
       "      <td>160.0</td>\n",
       "      <td>17.0</td>\n",
       "      <td>...</td>\n",
       "      <td>150.0</td>\n",
       "      <td>0.0</td>\n",
       "      <td>1.0</td>\n",
       "      <td>0.0</td>\n",
       "      <td>0</td>\n",
       "      <td>0</td>\n",
       "      <td>0</td>\n",
       "      <td>0</td>\n",
       "      <td>5</td>\n",
       "      <td>2</td>\n",
       "    </tr>\n",
       "  </tbody>\n",
       "</table>\n",
       "<p>5 rows × 26 columns</p>\n",
       "</div>"
      ],
      "text/plain": [
       "   Unnamed: 0  جنس  سن    FBS   CHOL     TG   HDL    LDL    CPK  CPKMB  ...  \\\n",
       "0           1   زن  58  110.0  173.0   75.0  67.0   91.0  120.0   19.0  ...   \n",
       "1           2   زن  65  100.0  200.0  199.0  41.0  119.2  181.0   20.0  ...   \n",
       "2           3  مرد  77   70.0  130.0  104.0  60.0    NaN   59.0   15.0  ...   \n",
       "3           4   زن  75  108.0    NaN    NaN   NaN    NaN  160.0   19.0  ...   \n",
       "4           5   زن  80   85.0  120.0   72.0  42.0   63.6  160.0   17.0  ...   \n",
       "\n",
       "     نبض  دیابت  سیگار  درد قفسه سینه  سابقه تنگی نفس  سابقه بیماری قلبی  \\\n",
       "0   78.0    0.0    0.0            0.0               0                  0   \n",
       "1   88.0    1.0    0.0            0.0               0                  0   \n",
       "2   69.0    0.0    0.0            0.0               0                  1   \n",
       "3   70.0    0.0    1.0            0.0               0                  1   \n",
       "4  150.0    0.0    1.0            0.0               0                  0   \n",
       "\n",
       "   سابقه فامیلی بیماری قلبی  سابقه فشار خون  تعداد روزهای بستری  C  \n",
       "0                         1               0                   1  4  \n",
       "1                         1               0                   6  3  \n",
       "2                         1               0                  10  4  \n",
       "3                         0               0                   4  2  \n",
       "4                         0               0                   5  2  \n",
       "\n",
       "[5 rows x 26 columns]"
      ]
     },
     "execution_count": 2,
     "metadata": {},
     "output_type": "execute_result"
    }
   ],
   "source": [
    "df=pd.read_excel('Actual Data (230).xlsx', engine='openpyxl')\n",
    "df.head()"
   ]
  },
  {
   "cell_type": "code",
   "execution_count": 3,
   "metadata": {
    "colab": {
     "base_uri": "https://localhost:8080/"
    },
    "id": "lNjmb5p4C3S7",
    "outputId": "4bbbff09-8223-42dc-ed44-5b02e2f04f5e"
   },
   "outputs": [
    {
     "data": {
      "text/plain": [
       "(230, 26)"
      ]
     },
     "execution_count": 3,
     "metadata": {},
     "output_type": "execute_result"
    }
   ],
   "source": [
    "df.shape"
   ]
  },
  {
   "cell_type": "code",
   "execution_count": 4,
   "metadata": {},
   "outputs": [
    {
     "data": {
      "text/plain": [
       "Index(['Unnamed: 0', 'جنس', 'سن', 'FBS', 'CHOL', 'TG', 'HDL', 'LDL', 'CPK',\n",
       "       'CPKMB', 'Hb', 'PT', 'PTT', 'Trop i', 'فشار خون سیستولیک',\n",
       "       'فشار خون دیاستولیک', 'نبض', 'دیابت', 'سیگار', 'درد قفسه سینه',\n",
       "       'سابقه تنگی نفس', 'سابقه بیماری قلبی', 'سابقه فامیلی بیماری قلبی',\n",
       "       'سابقه فشار خون', 'تعداد روزهای بستری', 'C'],\n",
       "      dtype='object')"
      ]
     },
     "execution_count": 4,
     "metadata": {},
     "output_type": "execute_result"
    }
   ],
   "source": [
    "df.columns"
   ]
  },
  {
   "cell_type": "code",
   "execution_count": 5,
   "metadata": {
    "id": "LHdO9QppC9hg"
   },
   "outputs": [],
   "source": [
    "df=df.drop('Unnamed: 0', axis=1)"
   ]
  },
  {
   "cell_type": "code",
   "execution_count": 6,
   "metadata": {
    "colab": {
     "base_uri": "https://localhost:8080/",
     "height": 275
    },
    "id": "xxXgzBfNDDg3",
    "outputId": "023971d5-33b9-4422-cc5e-4adb8f976e80"
   },
   "outputs": [
    {
     "data": {
      "text/html": [
       "<div>\n",
       "<style scoped>\n",
       "    .dataframe tbody tr th:only-of-type {\n",
       "        vertical-align: middle;\n",
       "    }\n",
       "\n",
       "    .dataframe tbody tr th {\n",
       "        vertical-align: top;\n",
       "    }\n",
       "\n",
       "    .dataframe thead th {\n",
       "        text-align: right;\n",
       "    }\n",
       "</style>\n",
       "<table border=\"1\" class=\"dataframe\">\n",
       "  <thead>\n",
       "    <tr style=\"text-align: right;\">\n",
       "      <th></th>\n",
       "      <th>جنس</th>\n",
       "      <th>سن</th>\n",
       "      <th>FBS</th>\n",
       "      <th>CHOL</th>\n",
       "      <th>TG</th>\n",
       "      <th>HDL</th>\n",
       "      <th>LDL</th>\n",
       "      <th>CPK</th>\n",
       "      <th>CPKMB</th>\n",
       "      <th>Hb</th>\n",
       "      <th>...</th>\n",
       "      <th>نبض</th>\n",
       "      <th>دیابت</th>\n",
       "      <th>سیگار</th>\n",
       "      <th>درد قفسه سینه</th>\n",
       "      <th>سابقه تنگی نفس</th>\n",
       "      <th>سابقه بیماری قلبی</th>\n",
       "      <th>سابقه فامیلی بیماری قلبی</th>\n",
       "      <th>سابقه فشار خون</th>\n",
       "      <th>تعداد روزهای بستری</th>\n",
       "      <th>C</th>\n",
       "    </tr>\n",
       "  </thead>\n",
       "  <tbody>\n",
       "    <tr>\n",
       "      <th>0</th>\n",
       "      <td>زن</td>\n",
       "      <td>58</td>\n",
       "      <td>110.0</td>\n",
       "      <td>173.0</td>\n",
       "      <td>75.0</td>\n",
       "      <td>67.0</td>\n",
       "      <td>91.0</td>\n",
       "      <td>120.0</td>\n",
       "      <td>19.0</td>\n",
       "      <td>13.5</td>\n",
       "      <td>...</td>\n",
       "      <td>78.0</td>\n",
       "      <td>0.0</td>\n",
       "      <td>0.0</td>\n",
       "      <td>0.0</td>\n",
       "      <td>0</td>\n",
       "      <td>0</td>\n",
       "      <td>1</td>\n",
       "      <td>0</td>\n",
       "      <td>1</td>\n",
       "      <td>4</td>\n",
       "    </tr>\n",
       "    <tr>\n",
       "      <th>1</th>\n",
       "      <td>زن</td>\n",
       "      <td>65</td>\n",
       "      <td>100.0</td>\n",
       "      <td>200.0</td>\n",
       "      <td>199.0</td>\n",
       "      <td>41.0</td>\n",
       "      <td>119.2</td>\n",
       "      <td>181.0</td>\n",
       "      <td>20.0</td>\n",
       "      <td>12.2</td>\n",
       "      <td>...</td>\n",
       "      <td>88.0</td>\n",
       "      <td>1.0</td>\n",
       "      <td>0.0</td>\n",
       "      <td>0.0</td>\n",
       "      <td>0</td>\n",
       "      <td>0</td>\n",
       "      <td>1</td>\n",
       "      <td>0</td>\n",
       "      <td>6</td>\n",
       "      <td>3</td>\n",
       "    </tr>\n",
       "    <tr>\n",
       "      <th>2</th>\n",
       "      <td>مرد</td>\n",
       "      <td>77</td>\n",
       "      <td>70.0</td>\n",
       "      <td>130.0</td>\n",
       "      <td>104.0</td>\n",
       "      <td>60.0</td>\n",
       "      <td>NaN</td>\n",
       "      <td>59.0</td>\n",
       "      <td>15.0</td>\n",
       "      <td>14.0</td>\n",
       "      <td>...</td>\n",
       "      <td>69.0</td>\n",
       "      <td>0.0</td>\n",
       "      <td>0.0</td>\n",
       "      <td>0.0</td>\n",
       "      <td>0</td>\n",
       "      <td>1</td>\n",
       "      <td>1</td>\n",
       "      <td>0</td>\n",
       "      <td>10</td>\n",
       "      <td>4</td>\n",
       "    </tr>\n",
       "    <tr>\n",
       "      <th>3</th>\n",
       "      <td>زن</td>\n",
       "      <td>75</td>\n",
       "      <td>108.0</td>\n",
       "      <td>NaN</td>\n",
       "      <td>NaN</td>\n",
       "      <td>NaN</td>\n",
       "      <td>NaN</td>\n",
       "      <td>160.0</td>\n",
       "      <td>19.0</td>\n",
       "      <td>12.2</td>\n",
       "      <td>...</td>\n",
       "      <td>70.0</td>\n",
       "      <td>0.0</td>\n",
       "      <td>1.0</td>\n",
       "      <td>0.0</td>\n",
       "      <td>0</td>\n",
       "      <td>1</td>\n",
       "      <td>0</td>\n",
       "      <td>0</td>\n",
       "      <td>4</td>\n",
       "      <td>2</td>\n",
       "    </tr>\n",
       "    <tr>\n",
       "      <th>4</th>\n",
       "      <td>زن</td>\n",
       "      <td>80</td>\n",
       "      <td>85.0</td>\n",
       "      <td>120.0</td>\n",
       "      <td>72.0</td>\n",
       "      <td>42.0</td>\n",
       "      <td>63.6</td>\n",
       "      <td>160.0</td>\n",
       "      <td>17.0</td>\n",
       "      <td>13.7</td>\n",
       "      <td>...</td>\n",
       "      <td>150.0</td>\n",
       "      <td>0.0</td>\n",
       "      <td>1.0</td>\n",
       "      <td>0.0</td>\n",
       "      <td>0</td>\n",
       "      <td>0</td>\n",
       "      <td>0</td>\n",
       "      <td>0</td>\n",
       "      <td>5</td>\n",
       "      <td>2</td>\n",
       "    </tr>\n",
       "  </tbody>\n",
       "</table>\n",
       "<p>5 rows × 25 columns</p>\n",
       "</div>"
      ],
      "text/plain": [
       "   جنس  سن    FBS   CHOL     TG   HDL    LDL    CPK  CPKMB    Hb  ...    نبض  \\\n",
       "0   زن  58  110.0  173.0   75.0  67.0   91.0  120.0   19.0  13.5  ...   78.0   \n",
       "1   زن  65  100.0  200.0  199.0  41.0  119.2  181.0   20.0  12.2  ...   88.0   \n",
       "2  مرد  77   70.0  130.0  104.0  60.0    NaN   59.0   15.0  14.0  ...   69.0   \n",
       "3   زن  75  108.0    NaN    NaN   NaN    NaN  160.0   19.0  12.2  ...   70.0   \n",
       "4   زن  80   85.0  120.0   72.0  42.0   63.6  160.0   17.0  13.7  ...  150.0   \n",
       "\n",
       "   دیابت  سیگار  درد قفسه سینه  سابقه تنگی نفس  سابقه بیماری قلبی  \\\n",
       "0    0.0    0.0            0.0               0                  0   \n",
       "1    1.0    0.0            0.0               0                  0   \n",
       "2    0.0    0.0            0.0               0                  1   \n",
       "3    0.0    1.0            0.0               0                  1   \n",
       "4    0.0    1.0            0.0               0                  0   \n",
       "\n",
       "   سابقه فامیلی بیماری قلبی  سابقه فشار خون  تعداد روزهای بستری  C  \n",
       "0                         1               0                   1  4  \n",
       "1                         1               0                   6  3  \n",
       "2                         1               0                  10  4  \n",
       "3                         0               0                   4  2  \n",
       "4                         0               0                   5  2  \n",
       "\n",
       "[5 rows x 25 columns]"
      ]
     },
     "execution_count": 6,
     "metadata": {},
     "output_type": "execute_result"
    }
   ],
   "source": [
    "df.head()"
   ]
  },
  {
   "cell_type": "code",
   "execution_count": 7,
   "metadata": {
    "colab": {
     "base_uri": "https://localhost:8080/",
     "height": 292
    },
    "id": "DI6mJsP3DbVv",
    "outputId": "20fff73f-1f74-4792-ce85-423d0a8a1209"
   },
   "outputs": [
    {
     "data": {
      "text/html": [
       "<div>\n",
       "<style scoped>\n",
       "    .dataframe tbody tr th:only-of-type {\n",
       "        vertical-align: middle;\n",
       "    }\n",
       "\n",
       "    .dataframe tbody tr th {\n",
       "        vertical-align: top;\n",
       "    }\n",
       "\n",
       "    .dataframe thead th {\n",
       "        text-align: right;\n",
       "    }\n",
       "</style>\n",
       "<table border=\"1\" class=\"dataframe\">\n",
       "  <thead>\n",
       "    <tr style=\"text-align: right;\">\n",
       "      <th></th>\n",
       "      <th>Sex</th>\n",
       "      <th>Age</th>\n",
       "      <th>FBS</th>\n",
       "      <th>CHOL</th>\n",
       "      <th>TG</th>\n",
       "      <th>HDL</th>\n",
       "      <th>LDL</th>\n",
       "      <th>CPK</th>\n",
       "      <th>CPKMB</th>\n",
       "      <th>Hb</th>\n",
       "      <th>...</th>\n",
       "      <th>Heart rate</th>\n",
       "      <th>Diabetes</th>\n",
       "      <th>Smoke</th>\n",
       "      <th>Chest pain</th>\n",
       "      <th>History of shortness of breath</th>\n",
       "      <th>History of heart disease</th>\n",
       "      <th>Family history of heart disease</th>\n",
       "      <th>History of high blood pressure</th>\n",
       "      <th>Number of hospitalization days</th>\n",
       "      <th>Target</th>\n",
       "    </tr>\n",
       "  </thead>\n",
       "  <tbody>\n",
       "    <tr>\n",
       "      <th>0</th>\n",
       "      <td>زن</td>\n",
       "      <td>58</td>\n",
       "      <td>110.0</td>\n",
       "      <td>173.0</td>\n",
       "      <td>75.0</td>\n",
       "      <td>67.0</td>\n",
       "      <td>91.0</td>\n",
       "      <td>120.0</td>\n",
       "      <td>19.0</td>\n",
       "      <td>13.5</td>\n",
       "      <td>...</td>\n",
       "      <td>78.0</td>\n",
       "      <td>0.0</td>\n",
       "      <td>0.0</td>\n",
       "      <td>0.0</td>\n",
       "      <td>0</td>\n",
       "      <td>0</td>\n",
       "      <td>1</td>\n",
       "      <td>0</td>\n",
       "      <td>1</td>\n",
       "      <td>4</td>\n",
       "    </tr>\n",
       "    <tr>\n",
       "      <th>1</th>\n",
       "      <td>زن</td>\n",
       "      <td>65</td>\n",
       "      <td>100.0</td>\n",
       "      <td>200.0</td>\n",
       "      <td>199.0</td>\n",
       "      <td>41.0</td>\n",
       "      <td>119.2</td>\n",
       "      <td>181.0</td>\n",
       "      <td>20.0</td>\n",
       "      <td>12.2</td>\n",
       "      <td>...</td>\n",
       "      <td>88.0</td>\n",
       "      <td>1.0</td>\n",
       "      <td>0.0</td>\n",
       "      <td>0.0</td>\n",
       "      <td>0</td>\n",
       "      <td>0</td>\n",
       "      <td>1</td>\n",
       "      <td>0</td>\n",
       "      <td>6</td>\n",
       "      <td>3</td>\n",
       "    </tr>\n",
       "    <tr>\n",
       "      <th>2</th>\n",
       "      <td>مرد</td>\n",
       "      <td>77</td>\n",
       "      <td>70.0</td>\n",
       "      <td>130.0</td>\n",
       "      <td>104.0</td>\n",
       "      <td>60.0</td>\n",
       "      <td>NaN</td>\n",
       "      <td>59.0</td>\n",
       "      <td>15.0</td>\n",
       "      <td>14.0</td>\n",
       "      <td>...</td>\n",
       "      <td>69.0</td>\n",
       "      <td>0.0</td>\n",
       "      <td>0.0</td>\n",
       "      <td>0.0</td>\n",
       "      <td>0</td>\n",
       "      <td>1</td>\n",
       "      <td>1</td>\n",
       "      <td>0</td>\n",
       "      <td>10</td>\n",
       "      <td>4</td>\n",
       "    </tr>\n",
       "    <tr>\n",
       "      <th>3</th>\n",
       "      <td>زن</td>\n",
       "      <td>75</td>\n",
       "      <td>108.0</td>\n",
       "      <td>NaN</td>\n",
       "      <td>NaN</td>\n",
       "      <td>NaN</td>\n",
       "      <td>NaN</td>\n",
       "      <td>160.0</td>\n",
       "      <td>19.0</td>\n",
       "      <td>12.2</td>\n",
       "      <td>...</td>\n",
       "      <td>70.0</td>\n",
       "      <td>0.0</td>\n",
       "      <td>1.0</td>\n",
       "      <td>0.0</td>\n",
       "      <td>0</td>\n",
       "      <td>1</td>\n",
       "      <td>0</td>\n",
       "      <td>0</td>\n",
       "      <td>4</td>\n",
       "      <td>2</td>\n",
       "    </tr>\n",
       "    <tr>\n",
       "      <th>4</th>\n",
       "      <td>زن</td>\n",
       "      <td>80</td>\n",
       "      <td>85.0</td>\n",
       "      <td>120.0</td>\n",
       "      <td>72.0</td>\n",
       "      <td>42.0</td>\n",
       "      <td>63.6</td>\n",
       "      <td>160.0</td>\n",
       "      <td>17.0</td>\n",
       "      <td>13.7</td>\n",
       "      <td>...</td>\n",
       "      <td>150.0</td>\n",
       "      <td>0.0</td>\n",
       "      <td>1.0</td>\n",
       "      <td>0.0</td>\n",
       "      <td>0</td>\n",
       "      <td>0</td>\n",
       "      <td>0</td>\n",
       "      <td>0</td>\n",
       "      <td>5</td>\n",
       "      <td>2</td>\n",
       "    </tr>\n",
       "  </tbody>\n",
       "</table>\n",
       "<p>5 rows × 25 columns</p>\n",
       "</div>"
      ],
      "text/plain": [
       "   Sex  Age    FBS   CHOL     TG   HDL    LDL    CPK  CPKMB    Hb  ...  \\\n",
       "0   زن   58  110.0  173.0   75.0  67.0   91.0  120.0   19.0  13.5  ...   \n",
       "1   زن   65  100.0  200.0  199.0  41.0  119.2  181.0   20.0  12.2  ...   \n",
       "2  مرد   77   70.0  130.0  104.0  60.0    NaN   59.0   15.0  14.0  ...   \n",
       "3   زن   75  108.0    NaN    NaN   NaN    NaN  160.0   19.0  12.2  ...   \n",
       "4   زن   80   85.0  120.0   72.0  42.0   63.6  160.0   17.0  13.7  ...   \n",
       "\n",
       "   Heart rate  Diabetes  Smoke  Chest pain  History of shortness of breath  \\\n",
       "0        78.0       0.0    0.0         0.0                               0   \n",
       "1        88.0       1.0    0.0         0.0                               0   \n",
       "2        69.0       0.0    0.0         0.0                               0   \n",
       "3        70.0       0.0    1.0         0.0                               0   \n",
       "4       150.0       0.0    1.0         0.0                               0   \n",
       "\n",
       "   History of heart disease  Family history of heart disease  \\\n",
       "0                         0                                1   \n",
       "1                         0                                1   \n",
       "2                         1                                1   \n",
       "3                         1                                0   \n",
       "4                         0                                0   \n",
       "\n",
       "   History of high blood pressure  Number of hospitalization days  Target  \n",
       "0                               0                               1       4  \n",
       "1                               0                               6       3  \n",
       "2                               0                              10       4  \n",
       "3                               0                               4       2  \n",
       "4                               0                               5       2  \n",
       "\n",
       "[5 rows x 25 columns]"
      ]
     },
     "execution_count": 7,
     "metadata": {},
     "output_type": "execute_result"
    }
   ],
   "source": [
    "df=df.rename(columns={'جنس': 'Sex',\n",
    "                       'سن': 'Age',\n",
    "                       'C':'Target',\n",
    "                       'تعداد روزهای بستری':'Number of hospitalization days',\n",
    "                       'نبض':'Heart rate',\n",
    "                       'دیابت':'Diabetes',\n",
    "                       'فشار خون سیستولیک':'BPs',\n",
    "                       'فشار خون دیاستولیک':'BPd',\n",
    "                      'درد قفسه سینه':'Chest pain',\n",
    "                      'سیگار':'Smoke',\n",
    "                      'سابقه تنگی نفس':'History of shortness of breath',\n",
    "                      'سابقه بیماری قلبی':'History of heart disease',\n",
    "                      'سابقه فامیلی بیماری قلبی':'Family history of heart disease',\n",
    "                      'سابقه فشار خون':'History of high blood pressure'})\n",
    "df.head()"
   ]
  },
  {
   "cell_type": "code",
   "execution_count": 8,
   "metadata": {
    "colab": {
     "base_uri": "https://localhost:8080/"
    },
    "id": "HuvCMHzZFg6q",
    "outputId": "9be9badb-b4f5-4fdf-8006-ea7f70f39300"
   },
   "outputs": [
    {
     "data": {
      "text/plain": [
       "Sex                                 object\n",
       "Age                                  int64\n",
       "FBS                                float64\n",
       "CHOL                               float64\n",
       "TG                                 float64\n",
       "HDL                                float64\n",
       "LDL                                float64\n",
       "CPK                                float64\n",
       "CPKMB                              float64\n",
       "Hb                                 float64\n",
       "PT                                 float64\n",
       "PTT                                float64\n",
       "Trop i                             float64\n",
       "BPs                                float64\n",
       "BPd                                float64\n",
       "Heart rate                         float64\n",
       "Diabetes                           float64\n",
       "Smoke                              float64\n",
       "Chest pain                         float64\n",
       "History of shortness of breath       int64\n",
       "History of heart disease             int64\n",
       "Family history of heart disease      int64\n",
       "History of high blood pressure       int64\n",
       "Number of hospitalization days       int64\n",
       "Target                               int64\n",
       "dtype: object"
      ]
     },
     "execution_count": 8,
     "metadata": {},
     "output_type": "execute_result"
    }
   ],
   "source": [
    "df.dtypes"
   ]
  },
  {
   "cell_type": "code",
   "execution_count": 9,
   "metadata": {
    "colab": {
     "base_uri": "https://localhost:8080/"
    },
    "id": "a7364pdxFzEG",
    "outputId": "ff5eab87-7840-4c53-f6cd-19ad6eaeb256"
   },
   "outputs": [
    {
     "data": {
      "text/plain": [
       "Sex                                 0\n",
       "Age                                 0\n",
       "FBS                                24\n",
       "CHOL                               25\n",
       "TG                                 26\n",
       "HDL                                29\n",
       "LDL                                62\n",
       "CPK                                18\n",
       "CPKMB                              15\n",
       "Hb                                 10\n",
       "PT                                 21\n",
       "PTT                                17\n",
       "Trop i                              5\n",
       "BPs                                 2\n",
       "BPd                                 2\n",
       "Heart rate                          2\n",
       "Diabetes                            1\n",
       "Smoke                               1\n",
       "Chest pain                          1\n",
       "History of shortness of breath      0\n",
       "History of heart disease            0\n",
       "Family history of heart disease     0\n",
       "History of high blood pressure      0\n",
       "Number of hospitalization days      0\n",
       "Target                              0\n",
       "dtype: int64"
      ]
     },
     "execution_count": 9,
     "metadata": {},
     "output_type": "execute_result"
    }
   ],
   "source": [
    "df.isnull().sum()"
   ]
  },
  {
   "cell_type": "code",
   "execution_count": 10,
   "metadata": {
    "colab": {
     "base_uri": "https://localhost:8080/",
     "height": 368
    },
    "id": "1iVIfaXMF5g6",
    "outputId": "74272819-f33d-4b63-90bd-b68d1f42ecd0"
   },
   "outputs": [
    {
     "data": {
      "text/html": [
       "<div>\n",
       "<style scoped>\n",
       "    .dataframe tbody tr th:only-of-type {\n",
       "        vertical-align: middle;\n",
       "    }\n",
       "\n",
       "    .dataframe tbody tr th {\n",
       "        vertical-align: top;\n",
       "    }\n",
       "\n",
       "    .dataframe thead th {\n",
       "        text-align: right;\n",
       "    }\n",
       "</style>\n",
       "<table border=\"1\" class=\"dataframe\">\n",
       "  <thead>\n",
       "    <tr style=\"text-align: right;\">\n",
       "      <th></th>\n",
       "      <th>Age</th>\n",
       "      <th>FBS</th>\n",
       "      <th>CHOL</th>\n",
       "      <th>TG</th>\n",
       "      <th>HDL</th>\n",
       "      <th>LDL</th>\n",
       "      <th>CPK</th>\n",
       "      <th>CPKMB</th>\n",
       "      <th>Hb</th>\n",
       "      <th>PT</th>\n",
       "      <th>...</th>\n",
       "      <th>Heart rate</th>\n",
       "      <th>Diabetes</th>\n",
       "      <th>Smoke</th>\n",
       "      <th>Chest pain</th>\n",
       "      <th>History of shortness of breath</th>\n",
       "      <th>History of heart disease</th>\n",
       "      <th>Family history of heart disease</th>\n",
       "      <th>History of high blood pressure</th>\n",
       "      <th>Number of hospitalization days</th>\n",
       "      <th>Target</th>\n",
       "    </tr>\n",
       "  </thead>\n",
       "  <tbody>\n",
       "    <tr>\n",
       "      <th>count</th>\n",
       "      <td>230.000000</td>\n",
       "      <td>206.000000</td>\n",
       "      <td>205.000000</td>\n",
       "      <td>204.000000</td>\n",
       "      <td>201.000000</td>\n",
       "      <td>168.000000</td>\n",
       "      <td>212.000000</td>\n",
       "      <td>215.000000</td>\n",
       "      <td>220.000000</td>\n",
       "      <td>209.000000</td>\n",
       "      <td>...</td>\n",
       "      <td>228.000000</td>\n",
       "      <td>229.000000</td>\n",
       "      <td>229.000000</td>\n",
       "      <td>229.000000</td>\n",
       "      <td>230.000000</td>\n",
       "      <td>230.000000</td>\n",
       "      <td>230.000000</td>\n",
       "      <td>230.000000</td>\n",
       "      <td>230.000000</td>\n",
       "      <td>230.000000</td>\n",
       "    </tr>\n",
       "    <tr>\n",
       "      <th>mean</th>\n",
       "      <td>62.465217</td>\n",
       "      <td>113.902913</td>\n",
       "      <td>169.360976</td>\n",
       "      <td>141.132353</td>\n",
       "      <td>48.312438</td>\n",
       "      <td>97.833333</td>\n",
       "      <td>204.339623</td>\n",
       "      <td>23.465116</td>\n",
       "      <td>13.702273</td>\n",
       "      <td>13.147368</td>\n",
       "      <td>...</td>\n",
       "      <td>74.364035</td>\n",
       "      <td>0.043668</td>\n",
       "      <td>0.244541</td>\n",
       "      <td>0.069869</td>\n",
       "      <td>0.143478</td>\n",
       "      <td>0.539130</td>\n",
       "      <td>0.226087</td>\n",
       "      <td>0.060870</td>\n",
       "      <td>4.100000</td>\n",
       "      <td>3.400000</td>\n",
       "    </tr>\n",
       "    <tr>\n",
       "      <th>std</th>\n",
       "      <td>13.175209</td>\n",
       "      <td>47.669495</td>\n",
       "      <td>40.737400</td>\n",
       "      <td>84.889016</td>\n",
       "      <td>12.142203</td>\n",
       "      <td>47.222047</td>\n",
       "      <td>409.155167</td>\n",
       "      <td>37.555286</td>\n",
       "      <td>1.910974</td>\n",
       "      <td>3.556495</td>\n",
       "      <td>...</td>\n",
       "      <td>15.443914</td>\n",
       "      <td>0.204803</td>\n",
       "      <td>0.430757</td>\n",
       "      <td>0.255485</td>\n",
       "      <td>0.351324</td>\n",
       "      <td>0.499554</td>\n",
       "      <td>0.419208</td>\n",
       "      <td>0.239612</td>\n",
       "      <td>2.830511</td>\n",
       "      <td>1.440524</td>\n",
       "    </tr>\n",
       "    <tr>\n",
       "      <th>min</th>\n",
       "      <td>23.000000</td>\n",
       "      <td>62.000000</td>\n",
       "      <td>88.000000</td>\n",
       "      <td>38.000000</td>\n",
       "      <td>26.000000</td>\n",
       "      <td>14.000000</td>\n",
       "      <td>14.000000</td>\n",
       "      <td>5.000000</td>\n",
       "      <td>5.600000</td>\n",
       "      <td>10.000000</td>\n",
       "      <td>...</td>\n",
       "      <td>40.000000</td>\n",
       "      <td>0.000000</td>\n",
       "      <td>0.000000</td>\n",
       "      <td>0.000000</td>\n",
       "      <td>0.000000</td>\n",
       "      <td>0.000000</td>\n",
       "      <td>0.000000</td>\n",
       "      <td>0.000000</td>\n",
       "      <td>1.000000</td>\n",
       "      <td>1.000000</td>\n",
       "    </tr>\n",
       "    <tr>\n",
       "      <th>25%</th>\n",
       "      <td>54.000000</td>\n",
       "      <td>85.000000</td>\n",
       "      <td>140.000000</td>\n",
       "      <td>81.750000</td>\n",
       "      <td>40.000000</td>\n",
       "      <td>71.200000</td>\n",
       "      <td>70.750000</td>\n",
       "      <td>12.000000</td>\n",
       "      <td>12.600000</td>\n",
       "      <td>12.000000</td>\n",
       "      <td>...</td>\n",
       "      <td>65.000000</td>\n",
       "      <td>0.000000</td>\n",
       "      <td>0.000000</td>\n",
       "      <td>0.000000</td>\n",
       "      <td>0.000000</td>\n",
       "      <td>0.000000</td>\n",
       "      <td>0.000000</td>\n",
       "      <td>0.000000</td>\n",
       "      <td>2.250000</td>\n",
       "      <td>2.000000</td>\n",
       "    </tr>\n",
       "    <tr>\n",
       "      <th>50%</th>\n",
       "      <td>62.000000</td>\n",
       "      <td>99.500000</td>\n",
       "      <td>167.000000</td>\n",
       "      <td>120.000000</td>\n",
       "      <td>47.000000</td>\n",
       "      <td>92.000000</td>\n",
       "      <td>107.000000</td>\n",
       "      <td>15.000000</td>\n",
       "      <td>13.800000</td>\n",
       "      <td>12.000000</td>\n",
       "      <td>...</td>\n",
       "      <td>72.000000</td>\n",
       "      <td>0.000000</td>\n",
       "      <td>0.000000</td>\n",
       "      <td>0.000000</td>\n",
       "      <td>0.000000</td>\n",
       "      <td>1.000000</td>\n",
       "      <td>0.000000</td>\n",
       "      <td>0.000000</td>\n",
       "      <td>4.000000</td>\n",
       "      <td>3.500000</td>\n",
       "    </tr>\n",
       "    <tr>\n",
       "      <th>75%</th>\n",
       "      <td>73.000000</td>\n",
       "      <td>121.500000</td>\n",
       "      <td>194.000000</td>\n",
       "      <td>170.000000</td>\n",
       "      <td>55.000000</td>\n",
       "      <td>114.000000</td>\n",
       "      <td>179.000000</td>\n",
       "      <td>20.000000</td>\n",
       "      <td>14.700000</td>\n",
       "      <td>13.200000</td>\n",
       "      <td>...</td>\n",
       "      <td>80.000000</td>\n",
       "      <td>0.000000</td>\n",
       "      <td>0.000000</td>\n",
       "      <td>0.000000</td>\n",
       "      <td>0.000000</td>\n",
       "      <td>1.000000</td>\n",
       "      <td>0.000000</td>\n",
       "      <td>0.000000</td>\n",
       "      <td>5.000000</td>\n",
       "      <td>5.000000</td>\n",
       "    </tr>\n",
       "    <tr>\n",
       "      <th>max</th>\n",
       "      <td>94.000000</td>\n",
       "      <td>318.000000</td>\n",
       "      <td>290.000000</td>\n",
       "      <td>550.000000</td>\n",
       "      <td>98.000000</td>\n",
       "      <td>464.000000</td>\n",
       "      <td>3400.000000</td>\n",
       "      <td>347.000000</td>\n",
       "      <td>21.400000</td>\n",
       "      <td>50.000000</td>\n",
       "      <td>...</td>\n",
       "      <td>160.000000</td>\n",
       "      <td>1.000000</td>\n",
       "      <td>1.000000</td>\n",
       "      <td>1.000000</td>\n",
       "      <td>1.000000</td>\n",
       "      <td>1.000000</td>\n",
       "      <td>1.000000</td>\n",
       "      <td>1.000000</td>\n",
       "      <td>22.000000</td>\n",
       "      <td>5.000000</td>\n",
       "    </tr>\n",
       "  </tbody>\n",
       "</table>\n",
       "<p>8 rows × 24 columns</p>\n",
       "</div>"
      ],
      "text/plain": [
       "              Age         FBS        CHOL          TG         HDL         LDL  \\\n",
       "count  230.000000  206.000000  205.000000  204.000000  201.000000  168.000000   \n",
       "mean    62.465217  113.902913  169.360976  141.132353   48.312438   97.833333   \n",
       "std     13.175209   47.669495   40.737400   84.889016   12.142203   47.222047   \n",
       "min     23.000000   62.000000   88.000000   38.000000   26.000000   14.000000   \n",
       "25%     54.000000   85.000000  140.000000   81.750000   40.000000   71.200000   \n",
       "50%     62.000000   99.500000  167.000000  120.000000   47.000000   92.000000   \n",
       "75%     73.000000  121.500000  194.000000  170.000000   55.000000  114.000000   \n",
       "max     94.000000  318.000000  290.000000  550.000000   98.000000  464.000000   \n",
       "\n",
       "               CPK       CPKMB          Hb          PT  ...  Heart rate  \\\n",
       "count   212.000000  215.000000  220.000000  209.000000  ...  228.000000   \n",
       "mean    204.339623   23.465116   13.702273   13.147368  ...   74.364035   \n",
       "std     409.155167   37.555286    1.910974    3.556495  ...   15.443914   \n",
       "min      14.000000    5.000000    5.600000   10.000000  ...   40.000000   \n",
       "25%      70.750000   12.000000   12.600000   12.000000  ...   65.000000   \n",
       "50%     107.000000   15.000000   13.800000   12.000000  ...   72.000000   \n",
       "75%     179.000000   20.000000   14.700000   13.200000  ...   80.000000   \n",
       "max    3400.000000  347.000000   21.400000   50.000000  ...  160.000000   \n",
       "\n",
       "         Diabetes       Smoke  Chest pain  History of shortness of breath  \\\n",
       "count  229.000000  229.000000  229.000000                      230.000000   \n",
       "mean     0.043668    0.244541    0.069869                        0.143478   \n",
       "std      0.204803    0.430757    0.255485                        0.351324   \n",
       "min      0.000000    0.000000    0.000000                        0.000000   \n",
       "25%      0.000000    0.000000    0.000000                        0.000000   \n",
       "50%      0.000000    0.000000    0.000000                        0.000000   \n",
       "75%      0.000000    0.000000    0.000000                        0.000000   \n",
       "max      1.000000    1.000000    1.000000                        1.000000   \n",
       "\n",
       "       History of heart disease  Family history of heart disease  \\\n",
       "count                230.000000                       230.000000   \n",
       "mean                   0.539130                         0.226087   \n",
       "std                    0.499554                         0.419208   \n",
       "min                    0.000000                         0.000000   \n",
       "25%                    0.000000                         0.000000   \n",
       "50%                    1.000000                         0.000000   \n",
       "75%                    1.000000                         0.000000   \n",
       "max                    1.000000                         1.000000   \n",
       "\n",
       "       History of high blood pressure  Number of hospitalization days  \\\n",
       "count                      230.000000                      230.000000   \n",
       "mean                         0.060870                        4.100000   \n",
       "std                          0.239612                        2.830511   \n",
       "min                          0.000000                        1.000000   \n",
       "25%                          0.000000                        2.250000   \n",
       "50%                          0.000000                        4.000000   \n",
       "75%                          0.000000                        5.000000   \n",
       "max                          1.000000                       22.000000   \n",
       "\n",
       "           Target  \n",
       "count  230.000000  \n",
       "mean     3.400000  \n",
       "std      1.440524  \n",
       "min      1.000000  \n",
       "25%      2.000000  \n",
       "50%      3.500000  \n",
       "75%      5.000000  \n",
       "max      5.000000  \n",
       "\n",
       "[8 rows x 24 columns]"
      ]
     },
     "execution_count": 10,
     "metadata": {},
     "output_type": "execute_result"
    }
   ],
   "source": [
    "df.describe()"
   ]
  },
  {
   "cell_type": "code",
   "execution_count": 11,
   "metadata": {
    "colab": {
     "base_uri": "https://localhost:8080/",
     "height": 299
    },
    "id": "2JbqoXwGF-qQ",
    "outputId": "630163f8-1027-4bc5-e7d2-d5764fab317f"
   },
   "outputs": [
    {
     "name": "stderr",
     "output_type": "stream",
     "text": [
      "/home/amin/.local/lib/python3.8/site-packages/seaborn/_decorators.py:36: FutureWarning: Pass the following variable as a keyword arg: x. From version 0.12, the only valid positional argument will be `data`, and passing other arguments without an explicit keyword will result in an error or misinterpretation.\n",
      "  warnings.warn(\n"
     ]
    },
    {
     "data": {
      "text/plain": [
       "<AxesSubplot:xlabel='Age'>"
      ]
     },
     "execution_count": 11,
     "metadata": {},
     "output_type": "execute_result"
    },
    {
     "data": {
      "image/png": "[encoded data removed]",
      "text/plain": [
       "<Figure size 432x288 with 1 Axes>"
      ]
     },
     "metadata": {
      "needs_background": "light"
     },
     "output_type": "display_data"
    }
   ],
   "source": [
    "sns.boxplot(df.Age)"
   ]
  },
  {
   "cell_type": "code",
   "execution_count": 12,
   "metadata": {
    "colab": {
     "base_uri": "https://localhost:8080/",
     "height": 299
    },
    "id": "RNEvf9xmGZ31",
    "outputId": "1b6fa008-d1ce-4329-cabb-4cf3f13ff7b7"
   },
   "outputs": [
    {
     "name": "stderr",
     "output_type": "stream",
     "text": [
      "/home/amin/.local/lib/python3.8/site-packages/seaborn/_decorators.py:36: FutureWarning: Pass the following variable as a keyword arg: x. From version 0.12, the only valid positional argument will be `data`, and passing other arguments without an explicit keyword will result in an error or misinterpretation.\n",
      "  warnings.warn(\n"
     ]
    },
    {
     "data": {
      "text/plain": [
       "<AxesSubplot:xlabel='FBS'>"
      ]
     },
     "execution_count": 12,
     "metadata": {},
     "output_type": "execute_result"
    },
    {
     "data": {
      "image/png": "[encoded data removed]",
      "text/plain": [
       "<Figure size 432x288 with 1 Axes>"
      ]
     },
     "metadata": {
      "needs_background": "light"
     },
     "output_type": "display_data"
    }
   ],
   "source": [
    "sns.boxplot(df.FBS)"
   ]
  },
  {
   "cell_type": "code",
   "execution_count": 13,
   "metadata": {
    "colab": {
     "base_uri": "https://localhost:8080/",
     "height": 299
    },
    "id": "NlM9-gBBHzRJ",
    "outputId": "661c408e-4fb9-4449-f5bf-36446be13ee2"
   },
   "outputs": [
    {
     "name": "stderr",
     "output_type": "stream",
     "text": [
      "/home/amin/.local/lib/python3.8/site-packages/seaborn/_decorators.py:36: FutureWarning: Pass the following variable as a keyword arg: x. From version 0.12, the only valid positional argument will be `data`, and passing other arguments without an explicit keyword will result in an error or misinterpretation.\n",
      "  warnings.warn(\n"
     ]
    },
    {
     "data": {
      "text/plain": [
       "<AxesSubplot:xlabel='CHOL'>"
      ]
     },
     "execution_count": 13,
     "metadata": {},
     "output_type": "execute_result"
    },
    {
     "data": {
      "image/png": "[encoded data removed]",
      "text/plain": [
       "<Figure size 432x288 with 1 Axes>"
      ]
     },
     "metadata": {
      "needs_background": "light"
     },
     "output_type": "display_data"
    }
   ],
   "source": [
    "sns.boxplot(df.CHOL)"
   ]
  },
  {
   "cell_type": "code",
   "execution_count": 14,
   "metadata": {
    "colab": {
     "base_uri": "https://localhost:8080/",
     "height": 299
    },
    "id": "2d-8En3zIRZy",
    "outputId": "94cff6a3-8d0f-4ff0-848a-41aec6b93b90"
   },
   "outputs": [
    {
     "name": "stderr",
     "output_type": "stream",
     "text": [
      "/home/amin/.local/lib/python3.8/site-packages/seaborn/_decorators.py:36: FutureWarning: Pass the following variable as a keyword arg: x. From version 0.12, the only valid positional argument will be `data`, and passing other arguments without an explicit keyword will result in an error or misinterpretation.\n",
      "  warnings.warn(\n"
     ]
    },
    {
     "data": {
      "text/plain": [
       "<AxesSubplot:xlabel='TG'>"
      ]
     },
     "execution_count": 14,
     "metadata": {},
     "output_type": "execute_result"
    },
    {
     "data": {
      "image/png": "[encoded data removed]",
      "text/plain": [
       "<Figure size 432x288 with 1 Axes>"
      ]
     },
     "metadata": {
      "needs_background": "light"
     },
     "output_type": "display_data"
    }
   ],
   "source": [
    "sns.boxplot(df.TG)\n"
   ]
  },
  {
   "cell_type": "code",
   "execution_count": 15,
   "metadata": {
    "colab": {
     "base_uri": "https://localhost:8080/",
     "height": 299
    },
    "id": "HOs22UbyISE7",
    "outputId": "cdaafcea-b052-4b96-e403-c44d10a1ed8b"
   },
   "outputs": [
    {
     "name": "stderr",
     "output_type": "stream",
     "text": [
      "/home/amin/.local/lib/python3.8/site-packages/seaborn/_decorators.py:36: FutureWarning: Pass the following variable as a keyword arg: x. From version 0.12, the only valid positional argument will be `data`, and passing other arguments without an explicit keyword will result in an error or misinterpretation.\n",
      "  warnings.warn(\n"
     ]
    },
    {
     "data": {
      "text/plain": [
       "<AxesSubplot:xlabel='HDL'>"
      ]
     },
     "execution_count": 15,
     "metadata": {},
     "output_type": "execute_result"
    },
    {
     "data": {
      "image/png": "[encoded data removed]",
      "text/plain": [
       "<Figure size 432x288 with 1 Axes>"
      ]
     },
     "metadata": {
      "needs_background": "light"
     },
     "output_type": "display_data"
    }
   ],
   "source": [
    "sns.boxplot(df.HDL)\n"
   ]
  },
  {
   "cell_type": "code",
   "execution_count": 16,
   "metadata": {
    "colab": {
     "base_uri": "https://localhost:8080/",
     "height": 299
    },
    "id": "vy7KijDjIShS",
    "outputId": "3eadc2ad-9cfc-4b04-f9ca-7a1716736308"
   },
   "outputs": [
    {
     "name": "stderr",
     "output_type": "stream",
     "text": [
      "/home/amin/.local/lib/python3.8/site-packages/seaborn/_decorators.py:36: FutureWarning: Pass the following variable as a keyword arg: x. From version 0.12, the only valid positional argument will be `data`, and passing other arguments without an explicit keyword will result in an error or misinterpretation.\n",
      "  warnings.warn(\n"
     ]
    },
    {
     "data": {
      "text/plain": [
       "<AxesSubplot:xlabel='LDL'>"
      ]
     },
     "execution_count": 16,
     "metadata": {},
     "output_type": "execute_result"
    },
    {
     "data": {
      "image/png": "[encoded data removed]",
      "text/plain": [
       "<Figure size 432x288 with 1 Axes>"
      ]
     },
     "metadata": {
      "needs_background": "light"
     },
     "output_type": "display_data"
    }
   ],
   "source": [
    "sns.boxplot(df.LDL)\n"
   ]
  },
  {
   "cell_type": "code",
   "execution_count": 17,
   "metadata": {
    "colab": {
     "base_uri": "https://localhost:8080/",
     "height": 299
    },
    "id": "gzsKmCKxIS2j",
    "outputId": "7175cd1e-37a8-4fa3-f505-ef55b60ca818"
   },
   "outputs": [
    {
     "name": "stderr",
     "output_type": "stream",
     "text": [
      "/home/amin/.local/lib/python3.8/site-packages/seaborn/_decorators.py:36: FutureWarning: Pass the following variable as a keyword arg: x. From version 0.12, the only valid positional argument will be `data`, and passing other arguments without an explicit keyword will result in an error or misinterpretation.\n",
      "  warnings.warn(\n"
     ]
    },
    {
     "data": {
      "text/plain": [
       "<AxesSubplot:xlabel='CPK'>"
      ]
     },
     "execution_count": 17,
     "metadata": {},
     "output_type": "execute_result"
    },
    {
     "data": {
      "image/png": "[encoded data removed]",
      "text/plain": [
       "<Figure size 432x288 with 1 Axes>"
      ]
     },
     "metadata": {
      "needs_background": "light"
     },
     "output_type": "display_data"
    }
   ],
   "source": [
    "sns.boxplot(df.CPK)\n"
   ]
  },
  {
   "cell_type": "code",
   "execution_count": 18,
   "metadata": {
    "colab": {
     "base_uri": "https://localhost:8080/",
     "height": 299
    },
    "id": "pFLlB_v0ITNi",
    "outputId": "2e4a948e-f145-4abe-b513-82f0e3204847"
   },
   "outputs": [
    {
     "name": "stderr",
     "output_type": "stream",
     "text": [
      "/home/amin/.local/lib/python3.8/site-packages/seaborn/_decorators.py:36: FutureWarning: Pass the following variable as a keyword arg: x. From version 0.12, the only valid positional argument will be `data`, and passing other arguments without an explicit keyword will result in an error or misinterpretation.\n",
      "  warnings.warn(\n"
     ]
    },
    {
     "data": {
      "text/plain": [
       "<AxesSubplot:xlabel='CPKMB'>"
      ]
     },
     "execution_count": 18,
     "metadata": {},
     "output_type": "execute_result"
    },
    {
     "data": {
      "image/png": "[encoded data removed]",
      "text/plain": [
       "<Figure size 432x288 with 1 Axes>"
      ]
     },
     "metadata": {
      "needs_background": "light"
     },
     "output_type": "display_data"
    }
   ],
   "source": [
    "sns.boxplot(df.CPKMB)\n"
   ]
  },
  {
   "cell_type": "code",
   "execution_count": 19,
   "metadata": {
    "colab": {
     "base_uri": "https://localhost:8080/",
     "height": 299
    },
    "id": "BZDucSgQITqU",
    "outputId": "636b6626-b3c0-4c99-b664-3b501846d936"
   },
   "outputs": [
    {
     "name": "stderr",
     "output_type": "stream",
     "text": [
      "/home/amin/.local/lib/python3.8/site-packages/seaborn/_decorators.py:36: FutureWarning: Pass the following variable as a keyword arg: x. From version 0.12, the only valid positional argument will be `data`, and passing other arguments without an explicit keyword will result in an error or misinterpretation.\n",
      "  warnings.warn(\n"
     ]
    },
    {
     "data": {
      "text/plain": [
       "<AxesSubplot:xlabel='Hb'>"
      ]
     },
     "execution_count": 19,
     "metadata": {},
     "output_type": "execute_result"
    },
    {
     "data": {
      "image/png": "[encoded data removed]",
      "text/plain": [
       "<Figure size 432x288 with 1 Axes>"
      ]
     },
     "metadata": {
      "needs_background": "light"
     },
     "output_type": "display_data"
    }
   ],
   "source": [
    "sns.boxplot(df.Hb)\n"
   ]
  },
  {
   "cell_type": "code",
   "execution_count": 20,
   "metadata": {
    "colab": {
     "base_uri": "https://localhost:8080/",
     "height": 299
    },
    "id": "-BtmG6j6IUFA",
    "outputId": "ec488dfa-f158-426d-bc24-7896efd94f81"
   },
   "outputs": [
    {
     "name": "stderr",
     "output_type": "stream",
     "text": [
      "/home/amin/.local/lib/python3.8/site-packages/seaborn/_decorators.py:36: FutureWarning: Pass the following variable as a keyword arg: x. From version 0.12, the only valid positional argument will be `data`, and passing other arguments without an explicit keyword will result in an error or misinterpretation.\n",
      "  warnings.warn(\n"
     ]
    },
    {
     "data": {
      "text/plain": [
       "<AxesSubplot:xlabel='PT'>"
      ]
     },
     "execution_count": 20,
     "metadata": {},
     "output_type": "execute_result"
    },
    {
     "data": {
      "image/png": "[encoded data removed]",
      "text/plain": [
       "<Figure size 432x288 with 1 Axes>"
      ]
     },
     "metadata": {
      "needs_background": "light"
     },
     "output_type": "display_data"
    }
   ],
   "source": [
    "sns.boxplot(df.PT)\n"
   ]
  },
  {
   "cell_type": "code",
   "execution_count": 21,
   "metadata": {
    "colab": {
     "base_uri": "https://localhost:8080/",
     "height": 299
    },
    "id": "hUysQ5Q-IUnW",
    "outputId": "743dabb2-01fc-4449-ad1b-ce2a1dbd1b4a"
   },
   "outputs": [
    {
     "name": "stderr",
     "output_type": "stream",
     "text": [
      "/home/amin/.local/lib/python3.8/site-packages/seaborn/_decorators.py:36: FutureWarning: Pass the following variable as a keyword arg: x. From version 0.12, the only valid positional argument will be `data`, and passing other arguments without an explicit keyword will result in an error or misinterpretation.\n",
      "  warnings.warn(\n"
     ]
    },
    {
     "data": {
      "text/plain": [
       "<AxesSubplot:xlabel='PTT'>"
      ]
     },
     "execution_count": 21,
     "metadata": {},
     "output_type": "execute_result"
    },
    {
     "data": {
      "image/png": "[encoded data removed]",
      "text/plain": [
       "<Figure size 432x288 with 1 Axes>"
      ]
     },
     "metadata": {
      "needs_background": "light"
     },
     "output_type": "display_data"
    }
   ],
   "source": [
    "sns.boxplot(df.PTT)\n"
   ]
  },
  {
   "cell_type": "code",
   "execution_count": 22,
   "metadata": {
    "colab": {
     "base_uri": "https://localhost:8080/",
     "height": 299
    },
    "id": "MW7FEvKkIWJJ",
    "outputId": "60aea557-5e83-4ed2-e617-5a091fc78a92"
   },
   "outputs": [
    {
     "name": "stderr",
     "output_type": "stream",
     "text": [
      "/home/amin/.local/lib/python3.8/site-packages/seaborn/_decorators.py:36: FutureWarning: Pass the following variable as a keyword arg: x. From version 0.12, the only valid positional argument will be `data`, and passing other arguments without an explicit keyword will result in an error or misinterpretation.\n",
      "  warnings.warn(\n"
     ]
    },
    {
     "data": {
      "text/plain": [
       "<AxesSubplot:xlabel='BPs'>"
      ]
     },
     "execution_count": 22,
     "metadata": {},
     "output_type": "execute_result"
    },
    {
     "data": {
      "image/png": "[encoded data removed]",
      "text/plain": [
       "<Figure size 432x288 with 1 Axes>"
      ]
     },
     "metadata": {
      "needs_background": "light"
     },
     "output_type": "display_data"
    }
   ],
   "source": [
    "sns.boxplot(df.BPs)\n"
   ]
  },
  {
   "cell_type": "code",
   "execution_count": 23,
   "metadata": {
    "colab": {
     "base_uri": "https://localhost:8080/",
     "height": 299
    },
    "id": "jnTg1pixIWdU",
    "outputId": "b76d3f32-0eea-402b-e793-74e0afe61621"
   },
   "outputs": [
    {
     "name": "stderr",
     "output_type": "stream",
     "text": [
      "/home/amin/.local/lib/python3.8/site-packages/seaborn/_decorators.py:36: FutureWarning: Pass the following variable as a keyword arg: x. From version 0.12, the only valid positional argument will be `data`, and passing other arguments without an explicit keyword will result in an error or misinterpretation.\n",
      "  warnings.warn(\n"
     ]
    },
    {
     "data": {
      "text/plain": [
       "<AxesSubplot:xlabel='BPd'>"
      ]
     },
     "execution_count": 23,
     "metadata": {},
     "output_type": "execute_result"
    },
    {
     "data": {
      "image/png": "[encoded data removed]",
      "text/plain": [
       "<Figure size 432x288 with 1 Axes>"
      ]
     },
     "metadata": {
      "needs_background": "light"
     },
     "output_type": "display_data"
    }
   ],
   "source": [
    "sns.boxplot(df.BPd)\n"
   ]
  },
  {
   "cell_type": "code",
   "execution_count": 24,
   "metadata": {
    "colab": {
     "base_uri": "https://localhost:8080/",
     "height": 299
    },
    "id": "Iru85EXgIW0Q",
    "outputId": "322bdefe-afa9-4b66-afa2-48d7d299d312"
   },
   "outputs": [
    {
     "name": "stderr",
     "output_type": "stream",
     "text": [
      "/home/amin/.local/lib/python3.8/site-packages/seaborn/_decorators.py:36: FutureWarning: Pass the following variable as a keyword arg: x. From version 0.12, the only valid positional argument will be `data`, and passing other arguments without an explicit keyword will result in an error or misinterpretation.\n",
      "  warnings.warn(\n"
     ]
    },
    {
     "data": {
      "text/plain": [
       "<AxesSubplot:xlabel='Heart rate'>"
      ]
     },
     "execution_count": 24,
     "metadata": {},
     "output_type": "execute_result"
    },
    {
     "data": {
      "image/png": "[encoded data removed]",
      "text/plain": [
       "<Figure size 432x288 with 1 Axes>"
      ]
     },
     "metadata": {
      "needs_background": "light"
     },
     "output_type": "display_data"
    }
   ],
   "source": [
    "sns.boxplot(df['Heart rate'])\n"
   ]
  },
  {
   "cell_type": "code",
   "execution_count": 25,
   "metadata": {
    "colab": {
     "base_uri": "https://localhost:8080/",
     "height": 299
    },
    "id": "wDmaC4SJI6Ky",
    "outputId": "16cadb98-a0c8-48ba-f175-f5f194bdf50e"
   },
   "outputs": [
    {
     "name": "stderr",
     "output_type": "stream",
     "text": [
      "/home/amin/.local/lib/python3.8/site-packages/seaborn/_decorators.py:36: FutureWarning: Pass the following variable as a keyword arg: x. From version 0.12, the only valid positional argument will be `data`, and passing other arguments without an explicit keyword will result in an error or misinterpretation.\n",
      "  warnings.warn(\n"
     ]
    },
    {
     "data": {
      "text/plain": [
       "<AxesSubplot:xlabel='Number of hospitalization days'>"
      ]
     },
     "execution_count": 25,
     "metadata": {},
     "output_type": "execute_result"
    },
    {
     "data": {
      "image/png": "[encoded data removed]",
      "text/plain": [
       "<Figure size 432x288 with 1 Axes>"
      ]
     },
     "metadata": {
      "needs_background": "light"
     },
     "output_type": "display_data"
    }
   ],
   "source": [
    "sns.boxplot(df['Number of hospitalization days'])"
   ]
  },
  {
   "cell_type": "code",
   "execution_count": 26,
   "metadata": {
    "colab": {
     "base_uri": "https://localhost:8080/",
     "height": 867
    },
    "id": "_5AZBFfDJszO",
    "outputId": "f45c02fb-3802-4e9b-ed0d-dd6eb04f9ecd"
   },
   "outputs": [
    {
     "data": {
      "text/plain": [
       "<AxesSubplot:>"
      ]
     },
     "execution_count": 26,
     "metadata": {},
     "output_type": "execute_result"
    },
    {
     "data": {
      "image/png": "[encoded data removed]",
      "text/plain": [
       "<Figure size 864x864 with 2 Axes>"
      ]
     },
     "metadata": {
      "needs_background": "light"
     },
     "output_type": "display_data"
    }
   ],
   "source": [
    "plt.figure(figsize=(12, 12))\n",
    "sns.heatmap(df.corr()>0.7, annot=True)\n",
    "##dfdemo.corr()>0.7"
   ]
  },
  {
   "cell_type": "code",
   "execution_count": 27,
   "metadata": {
    "colab": {
     "base_uri": "https://localhost:8080/"
    },
    "id": "veRFjWLsLktv",
    "outputId": "81264744-3969-4d04-e364-06f628f7a1ae"
   },
   "outputs": [
    {
     "data": {
      "text/plain": [
       "زن      118\n",
       "مرد     111\n",
       "مرد       1\n",
       "Name: Sex, dtype: int64"
      ]
     },
     "execution_count": 27,
     "metadata": {},
     "output_type": "execute_result"
    }
   ],
   "source": [
    "df['Sex'].value_counts()"
   ]
  },
  {
   "cell_type": "code",
   "execution_count": 28,
   "metadata": {
    "colab": {
     "base_uri": "https://localhost:8080/"
    },
    "id": "rhJtyLxSMfrn",
    "outputId": "cf69396a-4bb8-4be9-e911-b158becc1fec"
   },
   "outputs": [
    {
     "data": {
      "text/plain": [
       "0.0    210\n",
       "1.0     15\n",
       "Name: Trop i, dtype: int64"
      ]
     },
     "execution_count": 28,
     "metadata": {},
     "output_type": "execute_result"
    }
   ],
   "source": [
    "df['Trop i'].value_counts()"
   ]
  },
  {
   "cell_type": "code",
   "execution_count": 29,
   "metadata": {
    "colab": {
     "base_uri": "https://localhost:8080/"
    },
    "id": "ZArorZGhMnsk",
    "outputId": "f44bd8f7-6a0a-4ed7-e3d8-6df2f8014870"
   },
   "outputs": [
    {
     "data": {
      "text/plain": [
       "0.0    219\n",
       "1.0     10\n",
       "Name: Diabetes, dtype: int64"
      ]
     },
     "execution_count": 29,
     "metadata": {},
     "output_type": "execute_result"
    }
   ],
   "source": [
    "df['Diabetes'].value_counts()"
   ]
  },
  {
   "cell_type": "code",
   "execution_count": 30,
   "metadata": {
    "colab": {
     "base_uri": "https://localhost:8080/"
    },
    "id": "hk7Cs6wZMoH8",
    "outputId": "1e41a306-7aaf-43ac-e982-32189c017bae"
   },
   "outputs": [
    {
     "data": {
      "text/plain": [
       "0.0    173\n",
       "1.0     56\n",
       "Name: Smoke, dtype: int64"
      ]
     },
     "execution_count": 30,
     "metadata": {},
     "output_type": "execute_result"
    }
   ],
   "source": [
    "df['Smoke'].value_counts()"
   ]
  },
  {
   "cell_type": "code",
   "execution_count": 31,
   "metadata": {
    "colab": {
     "base_uri": "https://localhost:8080/"
    },
    "id": "6uq1V_wXMokZ",
    "outputId": "32fe6136-5fb5-4b27-b286-4d31954c1d6d"
   },
   "outputs": [
    {
     "data": {
      "text/plain": [
       "0.0    213\n",
       "1.0     16\n",
       "Name: Chest pain, dtype: int64"
      ]
     },
     "execution_count": 31,
     "metadata": {},
     "output_type": "execute_result"
    }
   ],
   "source": [
    "df['Chest pain'].value_counts()"
   ]
  },
  {
   "cell_type": "code",
   "execution_count": 32,
   "metadata": {
    "colab": {
     "base_uri": "https://localhost:8080/"
    },
    "id": "1U9mX38PMpAe",
    "outputId": "ec1dae9c-00f5-45a5-e8eb-d71788793497"
   },
   "outputs": [
    {
     "data": {
      "text/plain": [
       "0    197\n",
       "1     33\n",
       "Name: History of shortness of breath, dtype: int64"
      ]
     },
     "execution_count": 32,
     "metadata": {},
     "output_type": "execute_result"
    }
   ],
   "source": [
    "df['History of shortness of breath'].value_counts()"
   ]
  },
  {
   "cell_type": "code",
   "execution_count": 33,
   "metadata": {
    "colab": {
     "base_uri": "https://localhost:8080/"
    },
    "id": "84i3uWreMpX2",
    "outputId": "c9f2ff2f-af40-46ce-b482-58a6ec160ea2"
   },
   "outputs": [
    {
     "data": {
      "text/plain": [
       "1    124\n",
       "0    106\n",
       "Name: History of heart disease, dtype: int64"
      ]
     },
     "execution_count": 33,
     "metadata": {},
     "output_type": "execute_result"
    }
   ],
   "source": [
    "df['History of heart disease'].value_counts()"
   ]
  },
  {
   "cell_type": "code",
   "execution_count": 34,
   "metadata": {
    "colab": {
     "base_uri": "https://localhost:8080/"
    },
    "id": "hVFXeqVtMpsP",
    "outputId": "308e732e-4147-4b93-c026-55f1337ac9aa"
   },
   "outputs": [
    {
     "data": {
      "text/plain": [
       "0    178\n",
       "1     52\n",
       "Name: Family history of heart disease, dtype: int64"
      ]
     },
     "execution_count": 34,
     "metadata": {},
     "output_type": "execute_result"
    }
   ],
   "source": [
    "df['Family history of heart disease'].value_counts()"
   ]
  },
  {
   "cell_type": "code",
   "execution_count": 35,
   "metadata": {
    "colab": {
     "base_uri": "https://localhost:8080/"
    },
    "id": "xS3GJg1KMqP0",
    "outputId": "9e83fb61-e072-4716-b5c2-d53fde1e4ee3"
   },
   "outputs": [
    {
     "data": {
      "text/plain": [
       "0    216\n",
       "1     14\n",
       "Name: History of high blood pressure, dtype: int64"
      ]
     },
     "execution_count": 35,
     "metadata": {},
     "output_type": "execute_result"
    }
   ],
   "source": [
    "df['History of high blood pressure'].value_counts()"
   ]
  },
  {
   "cell_type": "code",
   "execution_count": 36,
   "metadata": {
    "colab": {
     "base_uri": "https://localhost:8080/"
    },
    "id": "M8ufIut-Mqtt",
    "outputId": "f4ca8d8c-2b44-4c8e-fab6-d4ca55228378"
   },
   "outputs": [
    {
     "data": {
      "text/plain": [
       "3     55\n",
       "4     41\n",
       "5     32\n",
       "2     31\n",
       "1     27\n",
       "6     18\n",
       "7     10\n",
       "10     4\n",
       "9      4\n",
       "8      2\n",
       "13     2\n",
       "11     1\n",
       "22     1\n",
       "21     1\n",
       "15     1\n",
       "Name: Number of hospitalization days, dtype: int64"
      ]
     },
     "execution_count": 36,
     "metadata": {},
     "output_type": "execute_result"
    }
   ],
   "source": [
    "df['Number of hospitalization days'].value_counts()"
   ]
  },
  {
   "cell_type": "code",
   "execution_count": 37,
   "metadata": {
    "colab": {
     "base_uri": "https://localhost:8080/"
    },
    "id": "siWAgaDDMrLr",
    "outputId": "f0569017-e010-403d-e73a-5cc517499151"
   },
   "outputs": [
    {
     "data": {
      "text/plain": [
       "5    81\n",
       "2    54\n",
       "3    36\n",
       "4    34\n",
       "1    25\n",
       "Name: Target, dtype: int64"
      ]
     },
     "execution_count": 37,
     "metadata": {},
     "output_type": "execute_result"
    }
   ],
   "source": [
    "df['Target'].value_counts()"
   ]
  },
  {
   "cell_type": "code",
   "execution_count": 38,
   "metadata": {
    "colab": {
     "base_uri": "https://localhost:8080/"
    },
    "id": "Fu2fIE2cNdbj",
    "outputId": "f258d005-5f33-466d-bd7d-b07afcf54bb7"
   },
   "outputs": [
    {
     "data": {
      "text/plain": [
       "(230, 25)"
      ]
     },
     "execution_count": 38,
     "metadata": {},
     "output_type": "execute_result"
    }
   ],
   "source": [
    "df=df.drop_duplicates()\n",
    "df.shape"
   ]
  },
  {
   "cell_type": "code",
   "execution_count": 39,
   "metadata": {
    "id": "4Wzsmf-cOFpZ"
   },
   "outputs": [
    {
     "name": "stderr",
     "output_type": "stream",
     "text": [
      "/tmp/ipykernel_34743/3033149293.py:1: SettingWithCopyWarning: \n",
      "A value is trying to be set on a copy of a slice from a DataFrame\n",
      "\n",
      "See the caveats in the documentation: https://pandas.pydata.org/pandas-docs/stable/user_guide/indexing.html#returning-a-view-versus-a-copy\n",
      "  df['Sex'][df['Sex']=='زن']=0\n",
      "/tmp/ipykernel_34743/3033149293.py:2: SettingWithCopyWarning: \n",
      "A value is trying to be set on a copy of a slice from a DataFrame\n",
      "\n",
      "See the caveats in the documentation: https://pandas.pydata.org/pandas-docs/stable/user_guide/indexing.html#returning-a-view-versus-a-copy\n",
      "  df['Sex'][df['Sex']=='مرد']=1\n",
      "/tmp/ipykernel_34743/3033149293.py:3: SettingWithCopyWarning: \n",
      "A value is trying to be set on a copy of a slice from a DataFrame\n",
      "\n",
      "See the caveats in the documentation: https://pandas.pydata.org/pandas-docs/stable/user_guide/indexing.html#returning-a-view-versus-a-copy\n",
      "  df['Sex'][df['Sex']=='مرد ']=1\n"
     ]
    }
   ],
   "source": [
    "df['Sex'][df['Sex']=='زن']=0\n",
    "df['Sex'][df['Sex']=='مرد']=1\n",
    "df['Sex'][df['Sex']=='مرد ']=1"
   ]
  },
  {
   "cell_type": "code",
   "execution_count": 40,
   "metadata": {
    "colab": {
     "base_uri": "https://localhost:8080/",
     "height": 292
    },
    "id": "_HpDuSEsOS2A",
    "outputId": "23acc5f3-dcad-4543-b11a-6a591da9cb1f"
   },
   "outputs": [
    {
     "data": {
      "text/html": [
       "<div>\n",
       "<style scoped>\n",
       "    .dataframe tbody tr th:only-of-type {\n",
       "        vertical-align: middle;\n",
       "    }\n",
       "\n",
       "    .dataframe tbody tr th {\n",
       "        vertical-align: top;\n",
       "    }\n",
       "\n",
       "    .dataframe thead th {\n",
       "        text-align: right;\n",
       "    }\n",
       "</style>\n",
       "<table border=\"1\" class=\"dataframe\">\n",
       "  <thead>\n",
       "    <tr style=\"text-align: right;\">\n",
       "      <th></th>\n",
       "      <th>Sex</th>\n",
       "      <th>Age</th>\n",
       "      <th>FBS</th>\n",
       "      <th>CHOL</th>\n",
       "      <th>TG</th>\n",
       "      <th>HDL</th>\n",
       "      <th>LDL</th>\n",
       "      <th>CPK</th>\n",
       "      <th>CPKMB</th>\n",
       "      <th>Hb</th>\n",
       "      <th>...</th>\n",
       "      <th>Heart rate</th>\n",
       "      <th>Diabetes</th>\n",
       "      <th>Smoke</th>\n",
       "      <th>Chest pain</th>\n",
       "      <th>History of shortness of breath</th>\n",
       "      <th>History of heart disease</th>\n",
       "      <th>Family history of heart disease</th>\n",
       "      <th>History of high blood pressure</th>\n",
       "      <th>Number of hospitalization days</th>\n",
       "      <th>Target</th>\n",
       "    </tr>\n",
       "  </thead>\n",
       "  <tbody>\n",
       "    <tr>\n",
       "      <th>0</th>\n",
       "      <td>0</td>\n",
       "      <td>58</td>\n",
       "      <td>110.0</td>\n",
       "      <td>173.0</td>\n",
       "      <td>75.0</td>\n",
       "      <td>67.0</td>\n",
       "      <td>91.0</td>\n",
       "      <td>120.0</td>\n",
       "      <td>19.0</td>\n",
       "      <td>13.5</td>\n",
       "      <td>...</td>\n",
       "      <td>78.0</td>\n",
       "      <td>0.0</td>\n",
       "      <td>0.0</td>\n",
       "      <td>0.0</td>\n",
       "      <td>0</td>\n",
       "      <td>0</td>\n",
       "      <td>1</td>\n",
       "      <td>0</td>\n",
       "      <td>1</td>\n",
       "      <td>4</td>\n",
       "    </tr>\n",
       "    <tr>\n",
       "      <th>1</th>\n",
       "      <td>0</td>\n",
       "      <td>65</td>\n",
       "      <td>100.0</td>\n",
       "      <td>200.0</td>\n",
       "      <td>199.0</td>\n",
       "      <td>41.0</td>\n",
       "      <td>119.2</td>\n",
       "      <td>181.0</td>\n",
       "      <td>20.0</td>\n",
       "      <td>12.2</td>\n",
       "      <td>...</td>\n",
       "      <td>88.0</td>\n",
       "      <td>1.0</td>\n",
       "      <td>0.0</td>\n",
       "      <td>0.0</td>\n",
       "      <td>0</td>\n",
       "      <td>0</td>\n",
       "      <td>1</td>\n",
       "      <td>0</td>\n",
       "      <td>6</td>\n",
       "      <td>3</td>\n",
       "    </tr>\n",
       "    <tr>\n",
       "      <th>2</th>\n",
       "      <td>1</td>\n",
       "      <td>77</td>\n",
       "      <td>70.0</td>\n",
       "      <td>130.0</td>\n",
       "      <td>104.0</td>\n",
       "      <td>60.0</td>\n",
       "      <td>NaN</td>\n",
       "      <td>59.0</td>\n",
       "      <td>15.0</td>\n",
       "      <td>14.0</td>\n",
       "      <td>...</td>\n",
       "      <td>69.0</td>\n",
       "      <td>0.0</td>\n",
       "      <td>0.0</td>\n",
       "      <td>0.0</td>\n",
       "      <td>0</td>\n",
       "      <td>1</td>\n",
       "      <td>1</td>\n",
       "      <td>0</td>\n",
       "      <td>10</td>\n",
       "      <td>4</td>\n",
       "    </tr>\n",
       "    <tr>\n",
       "      <th>3</th>\n",
       "      <td>0</td>\n",
       "      <td>75</td>\n",
       "      <td>108.0</td>\n",
       "      <td>NaN</td>\n",
       "      <td>NaN</td>\n",
       "      <td>NaN</td>\n",
       "      <td>NaN</td>\n",
       "      <td>160.0</td>\n",
       "      <td>19.0</td>\n",
       "      <td>12.2</td>\n",
       "      <td>...</td>\n",
       "      <td>70.0</td>\n",
       "      <td>0.0</td>\n",
       "      <td>1.0</td>\n",
       "      <td>0.0</td>\n",
       "      <td>0</td>\n",
       "      <td>1</td>\n",
       "      <td>0</td>\n",
       "      <td>0</td>\n",
       "      <td>4</td>\n",
       "      <td>2</td>\n",
       "    </tr>\n",
       "    <tr>\n",
       "      <th>4</th>\n",
       "      <td>0</td>\n",
       "      <td>80</td>\n",
       "      <td>85.0</td>\n",
       "      <td>120.0</td>\n",
       "      <td>72.0</td>\n",
       "      <td>42.0</td>\n",
       "      <td>63.6</td>\n",
       "      <td>160.0</td>\n",
       "      <td>17.0</td>\n",
       "      <td>13.7</td>\n",
       "      <td>...</td>\n",
       "      <td>150.0</td>\n",
       "      <td>0.0</td>\n",
       "      <td>1.0</td>\n",
       "      <td>0.0</td>\n",
       "      <td>0</td>\n",
       "      <td>0</td>\n",
       "      <td>0</td>\n",
       "      <td>0</td>\n",
       "      <td>5</td>\n",
       "      <td>2</td>\n",
       "    </tr>\n",
       "  </tbody>\n",
       "</table>\n",
       "<p>5 rows × 25 columns</p>\n",
       "</div>"
      ],
      "text/plain": [
       "  Sex  Age    FBS   CHOL     TG   HDL    LDL    CPK  CPKMB    Hb  ...  \\\n",
       "0   0   58  110.0  173.0   75.0  67.0   91.0  120.0   19.0  13.5  ...   \n",
       "1   0   65  100.0  200.0  199.0  41.0  119.2  181.0   20.0  12.2  ...   \n",
       "2   1   77   70.0  130.0  104.0  60.0    NaN   59.0   15.0  14.0  ...   \n",
       "3   0   75  108.0    NaN    NaN   NaN    NaN  160.0   19.0  12.2  ...   \n",
       "4   0   80   85.0  120.0   72.0  42.0   63.6  160.0   17.0  13.7  ...   \n",
       "\n",
       "   Heart rate  Diabetes  Smoke  Chest pain  History of shortness of breath  \\\n",
       "0        78.0       0.0    0.0         0.0                               0   \n",
       "1        88.0       1.0    0.0         0.0                               0   \n",
       "2        69.0       0.0    0.0         0.0                               0   \n",
       "3        70.0       0.0    1.0         0.0                               0   \n",
       "4       150.0       0.0    1.0         0.0                               0   \n",
       "\n",
       "   History of heart disease  Family history of heart disease  \\\n",
       "0                         0                                1   \n",
       "1                         0                                1   \n",
       "2                         1                                1   \n",
       "3                         1                                0   \n",
       "4                         0                                0   \n",
       "\n",
       "   History of high blood pressure  Number of hospitalization days  Target  \n",
       "0                               0                               1       4  \n",
       "1                               0                               6       3  \n",
       "2                               0                              10       4  \n",
       "3                               0                               4       2  \n",
       "4                               0                               5       2  \n",
       "\n",
       "[5 rows x 25 columns]"
      ]
     },
     "execution_count": 40,
     "metadata": {},
     "output_type": "execute_result"
    }
   ],
   "source": [
    "df.head()"
   ]
  },
  {
   "cell_type": "code",
   "execution_count": 41,
   "metadata": {
    "colab": {
     "base_uri": "https://localhost:8080/"
    },
    "id": "ocLImnjDOX0w",
    "outputId": "3bb68b5b-3bde-4d91-cfb4-61d28a212208"
   },
   "outputs": [
    {
     "data": {
      "text/plain": [
       "Sex                                 object\n",
       "Age                                  int64\n",
       "FBS                                float64\n",
       "CHOL                               float64\n",
       "TG                                 float64\n",
       "HDL                                float64\n",
       "LDL                                float64\n",
       "CPK                                float64\n",
       "CPKMB                              float64\n",
       "Hb                                 float64\n",
       "PT                                 float64\n",
       "PTT                                float64\n",
       "Trop i                             float64\n",
       "BPs                                float64\n",
       "BPd                                float64\n",
       "Heart rate                         float64\n",
       "Diabetes                           float64\n",
       "Smoke                              float64\n",
       "Chest pain                         float64\n",
       "History of shortness of breath       int64\n",
       "History of heart disease             int64\n",
       "Family history of heart disease      int64\n",
       "History of high blood pressure       int64\n",
       "Number of hospitalization days       int64\n",
       "Target                               int64\n",
       "dtype: object"
      ]
     },
     "execution_count": 41,
     "metadata": {},
     "output_type": "execute_result"
    }
   ],
   "source": [
    "df.dtypes"
   ]
  },
  {
   "cell_type": "code",
   "execution_count": 42,
   "metadata": {
    "id": "AhPc4oyAOalS"
   },
   "outputs": [],
   "source": [
    "df['Sex']=df['Sex'].astype('int64')"
   ]
  },
  {
   "cell_type": "code",
   "execution_count": 43,
   "metadata": {
    "colab": {
     "base_uri": "https://localhost:8080/"
    },
    "id": "kX1z9nJIOlpO",
    "outputId": "43866d05-7fe4-4bf5-c2f4-0b72b72c2610"
   },
   "outputs": [
    {
     "data": {
      "text/plain": [
       "Sex                                  int64\n",
       "Age                                  int64\n",
       "FBS                                float64\n",
       "CHOL                               float64\n",
       "TG                                 float64\n",
       "HDL                                float64\n",
       "LDL                                float64\n",
       "CPK                                float64\n",
       "CPKMB                              float64\n",
       "Hb                                 float64\n",
       "PT                                 float64\n",
       "PTT                                float64\n",
       "Trop i                             float64\n",
       "BPs                                float64\n",
       "BPd                                float64\n",
       "Heart rate                         float64\n",
       "Diabetes                           float64\n",
       "Smoke                              float64\n",
       "Chest pain                         float64\n",
       "History of shortness of breath       int64\n",
       "History of heart disease             int64\n",
       "Family history of heart disease      int64\n",
       "History of high blood pressure       int64\n",
       "Number of hospitalization days       int64\n",
       "Target                               int64\n",
       "dtype: object"
      ]
     },
     "execution_count": 43,
     "metadata": {},
     "output_type": "execute_result"
    }
   ],
   "source": [
    "df.dtypes"
   ]
  },
  {
   "cell_type": "code",
   "execution_count": 44,
   "metadata": {
    "colab": {
     "base_uri": "https://localhost:8080/"
    },
    "id": "ySqHxLQj2T_R",
    "outputId": "d9d04ca1-0c46-4152-ad04-7d5bb0a30df2"
   },
   "outputs": [
    {
     "data": {
      "text/plain": [
       "0    118\n",
       "1    112\n",
       "Name: Sex, dtype: int64"
      ]
     },
     "execution_count": 44,
     "metadata": {},
     "output_type": "execute_result"
    }
   ],
   "source": [
    "df.Sex.value_counts()"
   ]
  },
  {
   "cell_type": "code",
   "execution_count": 45,
   "metadata": {
    "id": "QjazWE4LOzXk"
   },
   "outputs": [],
   "source": [
    "X=df.drop('Target', axis=1)\n",
    "y=df.Target"
   ]
  },
  {
   "cell_type": "code",
   "execution_count": 46,
   "metadata": {
    "colab": {
     "base_uri": "https://localhost:8080/",
     "height": 292
    },
    "id": "6fxDWb-TO_VU",
    "outputId": "0f2c3cf6-86c1-45f8-f803-cb42b86b3478"
   },
   "outputs": [
    {
     "data": {
      "text/html": [
       "<div>\n",
       "<style scoped>\n",
       "    .dataframe tbody tr th:only-of-type {\n",
       "        vertical-align: middle;\n",
       "    }\n",
       "\n",
       "    .dataframe tbody tr th {\n",
       "        vertical-align: top;\n",
       "    }\n",
       "\n",
       "    .dataframe thead th {\n",
       "        text-align: right;\n",
       "    }\n",
       "</style>\n",
       "<table border=\"1\" class=\"dataframe\">\n",
       "  <thead>\n",
       "    <tr style=\"text-align: right;\">\n",
       "      <th></th>\n",
       "      <th>Sex</th>\n",
       "      <th>Age</th>\n",
       "      <th>FBS</th>\n",
       "      <th>CHOL</th>\n",
       "      <th>TG</th>\n",
       "      <th>HDL</th>\n",
       "      <th>LDL</th>\n",
       "      <th>CPK</th>\n",
       "      <th>CPKMB</th>\n",
       "      <th>Hb</th>\n",
       "      <th>...</th>\n",
       "      <th>BPd</th>\n",
       "      <th>Heart rate</th>\n",
       "      <th>Diabetes</th>\n",
       "      <th>Smoke</th>\n",
       "      <th>Chest pain</th>\n",
       "      <th>History of shortness of breath</th>\n",
       "      <th>History of heart disease</th>\n",
       "      <th>Family history of heart disease</th>\n",
       "      <th>History of high blood pressure</th>\n",
       "      <th>Number of hospitalization days</th>\n",
       "    </tr>\n",
       "  </thead>\n",
       "  <tbody>\n",
       "    <tr>\n",
       "      <th>0</th>\n",
       "      <td>0</td>\n",
       "      <td>58</td>\n",
       "      <td>110.0</td>\n",
       "      <td>173.0</td>\n",
       "      <td>75.0</td>\n",
       "      <td>67.0</td>\n",
       "      <td>91.0</td>\n",
       "      <td>120.0</td>\n",
       "      <td>19.0</td>\n",
       "      <td>13.5</td>\n",
       "      <td>...</td>\n",
       "      <td>69.0</td>\n",
       "      <td>78.0</td>\n",
       "      <td>0.0</td>\n",
       "      <td>0.0</td>\n",
       "      <td>0.0</td>\n",
       "      <td>0</td>\n",
       "      <td>0</td>\n",
       "      <td>1</td>\n",
       "      <td>0</td>\n",
       "      <td>1</td>\n",
       "    </tr>\n",
       "    <tr>\n",
       "      <th>1</th>\n",
       "      <td>0</td>\n",
       "      <td>65</td>\n",
       "      <td>100.0</td>\n",
       "      <td>200.0</td>\n",
       "      <td>199.0</td>\n",
       "      <td>41.0</td>\n",
       "      <td>119.2</td>\n",
       "      <td>181.0</td>\n",
       "      <td>20.0</td>\n",
       "      <td>12.2</td>\n",
       "      <td>...</td>\n",
       "      <td>70.0</td>\n",
       "      <td>88.0</td>\n",
       "      <td>1.0</td>\n",
       "      <td>0.0</td>\n",
       "      <td>0.0</td>\n",
       "      <td>0</td>\n",
       "      <td>0</td>\n",
       "      <td>1</td>\n",
       "      <td>0</td>\n",
       "      <td>6</td>\n",
       "    </tr>\n",
       "    <tr>\n",
       "      <th>2</th>\n",
       "      <td>1</td>\n",
       "      <td>77</td>\n",
       "      <td>70.0</td>\n",
       "      <td>130.0</td>\n",
       "      <td>104.0</td>\n",
       "      <td>60.0</td>\n",
       "      <td>NaN</td>\n",
       "      <td>59.0</td>\n",
       "      <td>15.0</td>\n",
       "      <td>14.0</td>\n",
       "      <td>...</td>\n",
       "      <td>60.0</td>\n",
       "      <td>69.0</td>\n",
       "      <td>0.0</td>\n",
       "      <td>0.0</td>\n",
       "      <td>0.0</td>\n",
       "      <td>0</td>\n",
       "      <td>1</td>\n",
       "      <td>1</td>\n",
       "      <td>0</td>\n",
       "      <td>10</td>\n",
       "    </tr>\n",
       "    <tr>\n",
       "      <th>3</th>\n",
       "      <td>0</td>\n",
       "      <td>75</td>\n",
       "      <td>108.0</td>\n",
       "      <td>NaN</td>\n",
       "      <td>NaN</td>\n",
       "      <td>NaN</td>\n",
       "      <td>NaN</td>\n",
       "      <td>160.0</td>\n",
       "      <td>19.0</td>\n",
       "      <td>12.2</td>\n",
       "      <td>...</td>\n",
       "      <td>80.0</td>\n",
       "      <td>70.0</td>\n",
       "      <td>0.0</td>\n",
       "      <td>1.0</td>\n",
       "      <td>0.0</td>\n",
       "      <td>0</td>\n",
       "      <td>1</td>\n",
       "      <td>0</td>\n",
       "      <td>0</td>\n",
       "      <td>4</td>\n",
       "    </tr>\n",
       "    <tr>\n",
       "      <th>4</th>\n",
       "      <td>0</td>\n",
       "      <td>80</td>\n",
       "      <td>85.0</td>\n",
       "      <td>120.0</td>\n",
       "      <td>72.0</td>\n",
       "      <td>42.0</td>\n",
       "      <td>63.6</td>\n",
       "      <td>160.0</td>\n",
       "      <td>17.0</td>\n",
       "      <td>13.7</td>\n",
       "      <td>...</td>\n",
       "      <td>93.0</td>\n",
       "      <td>150.0</td>\n",
       "      <td>0.0</td>\n",
       "      <td>1.0</td>\n",
       "      <td>0.0</td>\n",
       "      <td>0</td>\n",
       "      <td>0</td>\n",
       "      <td>0</td>\n",
       "      <td>0</td>\n",
       "      <td>5</td>\n",
       "    </tr>\n",
       "  </tbody>\n",
       "</table>\n",
       "<p>5 rows × 24 columns</p>\n",
       "</div>"
      ],
      "text/plain": [
       "   Sex  Age    FBS   CHOL     TG   HDL    LDL    CPK  CPKMB    Hb  ...   BPd  \\\n",
       "0    0   58  110.0  173.0   75.0  67.0   91.0  120.0   19.0  13.5  ...  69.0   \n",
       "1    0   65  100.0  200.0  199.0  41.0  119.2  181.0   20.0  12.2  ...  70.0   \n",
       "2    1   77   70.0  130.0  104.0  60.0    NaN   59.0   15.0  14.0  ...  60.0   \n",
       "3    0   75  108.0    NaN    NaN   NaN    NaN  160.0   19.0  12.2  ...  80.0   \n",
       "4    0   80   85.0  120.0   72.0  42.0   63.6  160.0   17.0  13.7  ...  93.0   \n",
       "\n",
       "   Heart rate  Diabetes  Smoke  Chest pain  History of shortness of breath  \\\n",
       "0        78.0       0.0    0.0         0.0                               0   \n",
       "1        88.0       1.0    0.0         0.0                               0   \n",
       "2        69.0       0.0    0.0         0.0                               0   \n",
       "3        70.0       0.0    1.0         0.0                               0   \n",
       "4       150.0       0.0    1.0         0.0                               0   \n",
       "\n",
       "   History of heart disease  Family history of heart disease  \\\n",
       "0                         0                                1   \n",
       "1                         0                                1   \n",
       "2                         1                                1   \n",
       "3                         1                                0   \n",
       "4                         0                                0   \n",
       "\n",
       "   History of high blood pressure  Number of hospitalization days  \n",
       "0                               0                               1  \n",
       "1                               0                               6  \n",
       "2                               0                              10  \n",
       "3                               0                               4  \n",
       "4                               0                               5  \n",
       "\n",
       "[5 rows x 24 columns]"
      ]
     },
     "execution_count": 46,
     "metadata": {},
     "output_type": "execute_result"
    }
   ],
   "source": [
    "X.head()"
   ]
  },
  {
   "cell_type": "code",
   "execution_count": 47,
   "metadata": {
    "id": "7QY9JPAy3IEL"
   },
   "outputs": [],
   "source": [
    "messy_df=df"
   ]
  },
  {
   "cell_type": "code",
   "execution_count": 48,
   "metadata": {
    "id": "KO7Ue881PBQk"
   },
   "outputs": [],
   "source": [
    "colnames=['FBS','CHOL','TG','HDL','LDL','CPK','CPKMB','Hb','PT','PTT','Trop i',\n",
    "          'BPs','BPd','Heart rate','Diabetes','Smoke','Chest pain'] \n",
    "\n",
    "def  approach2_impute_metric(messy_df, metric, colnames):\n",
    "    \n",
    "    # Create X_df of predictor columns\n",
    "    X_df = messy_df.drop(colnames, axis = 1)\n",
    "    \n",
    "    # Create Y_df of predicted columns\n",
    "    Y_df = messy_df[colnames]\n",
    "        \n",
    "    # Create empty dataframes and list\n",
    "    Y_pred_df = pd.DataFrame(columns=colnames)\n",
    "    Y_missing_df = pd.DataFrame(columns=colnames)\n",
    "    missing_list = []\n",
    "    \n",
    "    # Loop through all columns containing missing values\n",
    "    for col in messy_df[colnames]:\n",
    "    \n",
    "        # Number of missing values in the column\n",
    "        missing_count = messy_df[col].isnull().sum()\n",
    "        \n",
    "        # Separate train dataset which does not contain missing values\n",
    "        messy_df_train = messy_df[~messy_df[col].isnull()]\n",
    "        \n",
    "        # Create X and Y within train dataset\n",
    "        msg_cols_train_df = messy_df_train[col]\n",
    "        messy_df_train = messy_df_train.drop(colnames, axis = 1)\n",
    "\n",
    "        # Create test dataset, containing missing values in Y    \n",
    "        messy_df_test = messy_df[messy_df[col].isnull()]\n",
    "        \n",
    "        # Separate X and Y in test dataset\n",
    "        msg_cols_test_df = messy_df_test[col]\n",
    "        messy_df_test = messy_df_test.drop(colnames,axis = 1)\n",
    "\n",
    "        # Copy X_train and Y_train\n",
    "        Y_train = msg_cols_train_df.copy()\n",
    "        X_train = messy_df_train.copy()\n",
    "        \n",
    "        # Linear Regression model\n",
    "        if metric == \"Linear Regression\":\n",
    "            model = LinearRegression()\n",
    "            model.fit(X_train,Y_train)\n",
    "            print(\"R-squared value is: \" + str(model.score(X_train, Y_train)))\n",
    "          \n",
    "        # Random Forests regression model\n",
    "        elif metric == \"Random Forests\":\n",
    "            model = RandomForestRegressor(n_estimators = 50 , oob_score = True, max_depth=10)\n",
    "            model.fit(X_train,Y_train) \n",
    "                   \n",
    "        X_test = messy_df_test.copy()\n",
    "        \n",
    "        # Predict Y_test values by passing X_test as input to the model\n",
    "        Y_test = model.predict(X_test)\n",
    "        \n",
    "        Y_test_integer = pd.to_numeric(pd.Series(Y_test),downcast='integer')\n",
    "        \n",
    "        # Append predicted Y values to known Y values\n",
    "        Y_complete = Y_train.append(Y_test_integer)\n",
    "        Y_complete = Y_complete.reset_index(drop = True)\n",
    "        \n",
    "        # Update list of missing values\n",
    "        missing_list.append(Y_test.tolist())\n",
    "        \n",
    "        Y_pred_df[col] = Y_complete\n",
    "        Y_pred_df = Y_pred_df.reset_index(drop = True)\n",
    "    \n",
    "    # Create cleaned up dataframe\n",
    "    clean_df = X_df.join(Y_pred_df)\n",
    "    \n",
    "    return clean_df,missing_list"
   ]
  },
  {
   "cell_type": "code",
   "execution_count": 49,
   "metadata": {
    "colab": {
     "base_uri": "https://localhost:8080/"
    },
    "id": "3ik7ayLj7QEi",
    "outputId": "052c5afa-ac55-4cae-a5ab-cfabd8559427"
   },
   "outputs": [
    {
     "data": {
      "text/plain": [
       "Sex                                 0\n",
       "Age                                 0\n",
       "FBS                                24\n",
       "CHOL                               25\n",
       "TG                                 26\n",
       "HDL                                29\n",
       "LDL                                62\n",
       "CPK                                18\n",
       "CPKMB                              15\n",
       "Hb                                 10\n",
       "PT                                 21\n",
       "PTT                                17\n",
       "Trop i                              5\n",
       "BPs                                 2\n",
       "BPd                                 2\n",
       "Heart rate                          2\n",
       "Diabetes                            1\n",
       "Smoke                               1\n",
       "Chest pain                          1\n",
       "History of shortness of breath      0\n",
       "History of heart disease            0\n",
       "Family history of heart disease     0\n",
       "History of high blood pressure      0\n",
       "Number of hospitalization days      0\n",
       "Target                              0\n",
       "dtype: int64"
      ]
     },
     "execution_count": 49,
     "metadata": {},
     "output_type": "execute_result"
    }
   ],
   "source": [
    "df.isnull().sum()"
   ]
  },
  {
   "cell_type": "code",
   "execution_count": 50,
   "metadata": {
    "colab": {
     "base_uri": "https://localhost:8080/"
    },
    "id": "cP2WzkB15E-B",
    "outputId": "b8415ca5-aaab-4868-c938-f10c81def622"
   },
   "outputs": [],
   "source": [
    "# approach2_impute_metric(messy_df,\"Random Forests\", colnames)"
   ]
  },
  {
   "cell_type": "code",
   "execution_count": 51,
   "metadata": {
    "colab": {
     "base_uri": "https://localhost:8080/"
    },
    "id": "cP2WzkB15E-B",
    "outputId": "b8415ca5-aaab-4868-c938-f10c81def622"
   },
   "outputs": [],
   "source": [
    "cleanDF, mislist = approach2_impute_metric(messy_df,\"Random Forests\", colnames)"
   ]
  },
  {
   "cell_type": "code",
   "execution_count": 55,
   "metadata": {
    "id": "nx9GcdOpKbVR"
   },
   "outputs": [],
   "source": [
    "cleanDF.to_excel('Actual Data imputedMissinValue.xlsx', index=False)"
   ]
  },
  {
   "cell_type": "code",
   "execution_count": null,
   "metadata": {},
   "outputs": [],
   "source": []
  }
 ],
 "metadata": {
  "colab": {
   "collapsed_sections": [],
   "name": "Ghashghaei",
   "provenance": []
  },
  "kernelspec": {
   "display_name": "Python 3 (ipykernel)",
   "language": "python",
   "name": "python3"
  },
  "language_info": {
   "codemirror_mode": {
    "name": "ipython",
    "version": 3
   },
   "file_extension": ".py",
   "mimetype": "text/x-python",
   "name": "python",
   "nbconvert_exporter": "python",
   "pygments_lexer": "ipython3",
   "version": "3.8.10"
  }
 },
 "nbformat": 4,
 "nbformat_minor": 1
}
